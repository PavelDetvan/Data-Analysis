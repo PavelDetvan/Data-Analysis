{
 "cells": [
  {
   "cell_type": "markdown",
   "id": "895feafc",
   "metadata": {},
   "source": [
    "(Placeholder for your group #)\n",
    "\n",
    "(Placeholder for your names)\n",
    "\n",
    "(Placeholder for your i-numbers)"
   ]
  },
  {
   "cell_type": "markdown",
   "id": "08c85891",
   "metadata": {},
   "source": [
    "**Use of genAI tools (e.g. chatGPT), websites (e.g. stackoverflow)**: *list websites where you found code (or other info) as well as include information on how you used genAI tools*"
   ]
  },
  {
   "cell_type": "markdown",
   "id": "6b08998c",
   "metadata": {},
   "source": [
    "# Data Analysis, Clinic 2\n",
    "\n",
    "By completing and delivering the clinic tasks you will know how to :\n",
    "\n",
    "- Preprocess data and make it amenable to statistical analysis and machine learning models;\n",
    "- Train and test out-of-the-box machine learning models in `sklearn`;\n",
    "- Carry out simple logistic regression analysis;\n",
    "- Evaluate classification models based on different metrics;\n",
    "- Assess how your model performance can improve\n",
    "- Reflect on the greater impact of the models you develop\n",
    "\n",
    "---\n",
    "\n",
    "## Important Dates\n",
    "\n",
    "- Homework release: Fri, 7th Feb\n",
    "- **Homework due**: Mon, 17th Feb late night (wildcards possible, apply to the group)\n",
    "\n",
    "---\n",
    "\n",
    "##  Some rules\n",
    "\n",
    "* We have provided `TODO` comments in the code cells that you need to fill out with your solutions. For some questions, we have also provided `Your response` comments, where you should provide a textual answer.\n",
    "\n",
    "* You are allowed to use any built-in Python library that is included in the `requirements.txt` for this homework. If you use any additional library, this may complicate the grading process, and we reserve the right to penalize your grade for unnecessary complexity of the solution. All the questions can be solved with the libraries in `requirements.txt`.\n",
    "\n",
    "* Make sure that you include a proper amount/mix of comments, results and code. More specifically, be sure to provide a concise textual description of your thought process, the assumptions you made, the solution you implemented, and explanations for your answers. A notebook that only has code cells will not suffice. To avoid confusion: use short comments for longer code answers.\n",
    "\n",
    "* Back up any hypotheses and claims with data, since this is an important aspect of the course.\n",
    "\n",
    "* Please write all your comments in English, and use meaningful variable names (as possible) in your code. \n",
    "\n",
    "* In the end, make sure that all cells are executed properly and everything you need to show is in your (execucted) notebook. We will not run your notebook for you! \n",
    "\n",
    "- In continuation to the previous point, interactive plots, such as those generated using the ‘plotly’ package, should be strictly avoided! Make sure to print results and/or dataframes that confirm you have properly addressed the task.\n",
    "\n",
    "* You are asked to deliver **only your executed notebook file, .ipnyb** and nothing else. If you deliver other files, we will not grade anything.\n",
    "\n",
    "* Honor code applies to these tasks. If you are not certain about an action, consult with Jerry.\n",
    "\n",
    "**A Note from Jerry on using Language Models (LMs)**\n",
    "\n",
    "If you try hard enough, you will likely get away with cheating (that does not only apply to LMs). Fortunately, my job is not to police, but rather to educate you. So, please consider the following:\n",
    "\n",
    "I assume that you are taking this course to learn something! LMs are not always right ([they often fail in silly ways](https://community.openai.com/t/why-9-11-is-larger-than-9-9-incredible/869824/4)). This course should prepare you to detect when they are wrong!\n",
    "\n",
    "I don't restrict the use of LMs because I see the value of being helped when coding (esp. in the context of pandas dataframes nightmare :)). Based on what we saw last year in your notebooks, it's pretty clear when you \"copy\" some code and then you struggle to interpret the results. This is the essence of this course and of the skills you should try build for yourself: Many people can run fancy models these days but not many people can interpret the results correctly. Try to be the latter ones.\n",
    "\n",
    "\n",
    "\n",
    "---\n",
    "\n",
    "\n",
    "## Grading \n",
    "- The homework has a total of 100 points, distributed as follows:\n",
    "    - Part 1: Data Preprocessing (20 points)\n",
    "    - Part 2: Linear Regression (30 points)\n",
    "    - Part 3: Supervised Learning (40 points)\n",
    "    - Part 4: The Aftermath (5 points)"
   ]
  },
  {
   "cell_type": "markdown",
   "id": "7c6f0a9b",
   "metadata": {},
   "source": [
    "## Context\n",
    "\n",
    "Within DACS, you are excited to start an internship as a data scientist.\n",
    "After rounds of interviews, you have been selected to work with the biggest car dealership in the Netherlands !\n",
    "\n",
    "Your mentor at the company Jerasimosu, has explained to you that the company is interested in a pricing model for used cars. \n",
    "\n",
    "- Jerasimosu: \"We have a lot of used cars in our inventory, and we need to determine the price at which we should sell these cars. We have some ideas about the factors that influence the price of a used car, but so far we have just been using our experience and intuition to determine the price of a used car. Sometimes it works, but probably we can do better and a more data-driven approach would also help our new employees in the sales team as they have less experience.\"\n",
    "\n",
    "- You: \"That sounds like a great project! What kind of data do we have?\"\n",
    "\n",
    "- Jerasimosu: \"We sell all kinds of cars here, but maybe we can start with a specific brand and model. For example, the Toyota Corolla is the best-selling car worldwide in 2023, and we have a lot of data on it. We can start by analyzing the data on used Toyota Corolla cars. If it works well, we can extend the analysis to other brands.\"\n",
    "\n",
    "The dataset contains the following columns:\n",
    "\n",
    "- `Age`: Age of the car in months.\n",
    "- `Mileage`: Number of distance the car has been driven. (km or miles)\n",
    "- `FuelType`: Fuel type of the car (Petrol, Diesel, or CNG)\n",
    "- `HP`: Horsepower\n",
    "- `MetColor`: Is the color of the car metallic? (Yes=1, No=0)\n",
    "- `Automatic`: Is the car automatic? (Yes=1, No=0)\n",
    "- `CC`: Cylinder volume in cubic centimeters\n",
    "- `Doors`: Number of doors\n",
    "- `Weight`: Weight of the car in kilograms\n",
    "- `Price`: Price of the car in euros\n",
    "\n",
    "\n",
    "## Data\n",
    "\n",
    "The data is provided in the `data` folder and it contains the following 3 csv files:\n",
    "- `Task1-2.ToyotaCorolla.csv` for Part 1 and Part 2\n",
    "- `Task3.ToyotaCorolla_sales_3months.csv` for Part 3\n",
    "\n",
    "You should not use any other data source for this homework.\n",
    "\n",
    "For some questions, you might need to slightly modify the data. But overall, you should avoid making any major changes to the data, which may affect your analysis.\n",
    "\n",
    "## References:\n",
    "\n",
    "The data is based on the ToyotaCorolla dataset from the UCI Machine Learning Repository [here](https://archive.ics.uci.edu/ml/datasets/Toyota+Corolla).\n",
    "We have made some modifications to the original dataset, so please use the data provided in the `data` folder in the course repo."
   ]
  },
  {
   "cell_type": "markdown",
   "id": "b36859d6",
   "metadata": {},
   "source": [
    "## Task 1 (20 pts) - Get to know the data"
   ]
  },
  {
   "cell_type": "code",
   "execution_count": 569,
   "id": "ccd6fa08",
   "metadata": {},
   "outputs": [],
   "source": [
    "import pandas as pd\n",
    "import numpy as np\n",
    "import matplotlib.pyplot as plt\n",
    "import statsmodels.api as sm\n",
    "import random\n",
    "import sklearn\n",
    "\n",
    "# fix random seed for reproducibility\n",
    "np.random.seed(42)\n",
    "random.seed(42)"
   ]
  },
  {
   "cell_type": "markdown",
   "id": "f502c087",
   "metadata": {},
   "source": [
    "\n",
    "**1.1 (2 pts)**: Load the data from the file `Task1-2.ToyotaCorolla-raw.csv` into a pandas DataFrame. Display the first 5 rows of the DataFrame. Hint: A naive loading of the data will raise an error. You will need to figure out how to load the data correctly. (Hint: localise which row is causing the error)"
   ]
  },
  {
   "cell_type": "code",
   "execution_count": 570,
   "id": "23cf0212",
   "metadata": {},
   "outputs": [
    {
     "name": "stdout",
     "output_type": "stream",
     "text": [
      "     Price  Age  Mileage FuelType  HP  MetColor  Automatic    CC  Doors  \\\n",
      "0  13500.0   23  46986.0   Diesel  90         1          0  2000      3   \n",
      "1  11878.0   23  72937.0   Diesel  90         1          0  2000      3   \n",
      "2  12050.0   24  41711.0   Diesel  90         1          0  2000      3   \n",
      "3  12914.0   26  48000.0   Diesel  90         0          0  2000      3   \n",
      "4  11878.0   30  38500.0   Diesel  90         0          0  2000      3   \n",
      "\n",
      "   Weight Currency  \n",
      "0    1165     EURO  \n",
      "1    1165      CHF  \n",
      "2    1165      CHF  \n",
      "3    1165      CHF  \n",
      "4    1170      CHF  \n",
      "Price,Age,Mileage,FuelType,HP,MetColor,Automatic,CC,Doors,Weight,Currency\n",
      "13500.0,23,46986.0,Diesel,90,1,0,2000,3,1165,EURO\n",
      "11878.0,23,72937.0,Diesel,90,1,0,2000,3,1165,CHF\n",
      "12050.0,24,41711.0,Diesel,90,1,0,2000,3,1165,CHF\n",
      "12914.0,26,48000.0,Diesel,90,0,0,2000,3,1165,CHF\n",
      "11878.0,30,38500.0,Diesel,90,0,0,2000,3,1170,CHF\n",
      "11187.0,32,61000.0,Diesel,90,0,0,2000,3,1170,CHF\n",
      "14599.0,27,94612.0,Diesel,90,1,0,2000,3,1245,CHF\n",
      "16068.0,30,75889.0,Diesel,90,1,0,2000,3,1245,CHF\n",
      "18572.0,27,19700.0,Petrol,192,0,0,1800,3,1185,CHF\n"
     ]
    }
   ],
   "source": [
    "import pandas as pd\n",
    "\n",
    "# Try loading with different parameters\n",
    "try:\n",
    "    df = pd.read_csv(\"data/Task1-2.ToyotaCorolla-raw.csv\", on_bad_lines=\"skip\", encoding=\"utf-8\")\n",
    "    print(df.head())  # Display first 5 rows\n",
    "except Exception as e:\n",
    "    print(\"Error encountered:\", e)\n",
    "\n",
    "# If you still face issues, inspect the file manually\n",
    "with open(\"data/Task1-2.ToyotaCorolla-raw.csv\", \"r\", encoding=\"utf-8\") as file:\n",
    "    for _ in range(10):  # Print first 10 lines\n",
    "        print(file.readline().strip())\n"
   ]
  },
  {
   "cell_type": "markdown",
   "id": "b0b5f57b",
   "metadata": {},
   "source": [
    "**1.2 (2 pts)**: Check if there are nan values in the Dataframe. If there are, try to find out which row is problematic and fix it. If you can't fix it, drop the row."
   ]
  },
  {
   "cell_type": "code",
   "execution_count": 571,
   "id": "a1197b0a",
   "metadata": {},
   "outputs": [
    {
     "name": "stdout",
     "output_type": "stream",
     "text": [
      "Missing values per column:\n",
      " Price        0\n",
      "Age          0\n",
      "Mileage      0\n",
      "FuelType     0\n",
      "HP           0\n",
      "MetColor     0\n",
      "Automatic    0\n",
      "CC           0\n",
      "Doors        0\n",
      "Weight       0\n",
      "Currency     0\n",
      "dtype: int64\n",
      "Problematic rows:\n",
      " Empty DataFrame\n",
      "Columns: [Price, Age, Mileage, FuelType, HP, MetColor, Automatic, CC, Doors, Weight, Currency]\n",
      "Index: []\n",
      "Cleaned DataFrame:\n",
      "      Price  Age  Mileage FuelType  HP  MetColor  Automatic    CC  Doors  \\\n",
      "0  13500.0   23  46986.0   Diesel  90         1          0  2000      3   \n",
      "1  11878.0   23  72937.0   Diesel  90         1          0  2000      3   \n",
      "2  12050.0   24  41711.0   Diesel  90         1          0  2000      3   \n",
      "3  12914.0   26  48000.0   Diesel  90         0          0  2000      3   \n",
      "4  11878.0   30  38500.0   Diesel  90         0          0  2000      3   \n",
      "\n",
      "   Weight Currency  \n",
      "0    1165     EURO  \n",
      "1    1165      CHF  \n",
      "2    1165      CHF  \n",
      "3    1165      CHF  \n",
      "4    1170      CHF  \n"
     ]
    },
    {
     "name": "stderr",
     "output_type": "stream",
     "text": [
      "C:\\Users\\elias\\AppData\\Local\\Temp\\ipykernel_17248\\1347151360.py:14: FutureWarning: DataFrame.fillna with 'method' is deprecated and will raise in a future version. Use obj.ffill() or obj.bfill() instead.\n",
      "  df_filled = df.fillna(method=\"ffill\")  # Forward fill (use previous row value)\n"
     ]
    }
   ],
   "source": [
    "#TODO\n",
    "import pandas as pd\n",
    "\n",
    "# Check for NaN values\n",
    "nan_summary = df.isna().sum()\n",
    "print(\"Missing values per column:\\n\", nan_summary)\n",
    "\n",
    "# Identify problematic rows\n",
    "problematic_rows = df[df.isna().any(axis=1)]\n",
    "print(\"Problematic rows:\\n\", problematic_rows)\n",
    "\n",
    "# Fix or drop NaN values\n",
    "# Option 1: Fill NaNs with a placeholder (if possible)\n",
    "df_filled = df.fillna(method=\"ffill\")  # Forward fill (use previous row value)\n",
    "# df_filled = df.fillna(0)  # Alternatively, replace NaNs with 0\n",
    "\n",
    "# Option 2: Drop problematic rows if they can't be fixed\n",
    "df = df.dropna()\n",
    "\n",
    "# Display the cleaned DataFrame\n",
    "print(\"Cleaned DataFrame:\\n\", df_cleaned.head())"
   ]
  },
  {
   "cell_type": "markdown",
   "id": "c82ebf01",
   "metadata": {},
   "source": [
    "We fixed the row that had the semiconon (;) as a column delimiter by putting a comma (,) instead."
   ]
  },
  {
   "cell_type": "markdown",
   "id": "303e0f76",
   "metadata": {},
   "source": [
    "**1.3 (4 pts): Compute the mean, median of the `Price` column.**\n",
    "\n",
    "- Compute the mean and median of the `Price` column. If you encounter error, try to understand why this error is happening and propose a solution.\n",
    "\n",
    "Hint: Is all values in the `Price` column numerical?\n"
   ]
  },
  {
   "cell_type": "code",
   "execution_count": 572,
   "id": "5d7b18e2",
   "metadata": {},
   "outputs": [
    {
     "name": "stdout",
     "output_type": "stream",
     "text": [
      "count       1436\n",
      "unique       311\n",
      "top       7731.0\n",
      "freq          94\n",
      "Name: Price, dtype: object\n",
      "\n",
      "\n",
      "after cleaning: \n",
      "count    1.436000e+03\n",
      "mean     1.072319e+13\n",
      "std      4.063509e+14\n",
      "min      3.758000e+03\n",
      "25%      7.343000e+03\n",
      "50%      8.595000e+03\n",
      "75%      1.032300e+04\n",
      "max      1.539850e+16\n",
      "Name: Price, dtype: float64\n",
      "median:  8595.0\n"
     ]
    }
   ],
   "source": [
    "#TODO\n",
    "import pandas as pd\n",
    "import re\n",
    "\n",
    "\n",
    "print(df[\"Price\"].describe())\n",
    "# Clean the 'Price' column using regex\n",
    "df[\"Price\"] = df[\"Price\"].astype(str).str.replace(r'[^\\d.]', '', regex=True)  # Remove non-numeric characters\n",
    "\n",
    "# Convert 'Price' column to numeric\n",
    "df[\"Price\"] = pd.to_numeric(df[\"Price\"], errors=\"coerce\")\n",
    "\n",
    "# Compute mean and median\n",
    "median_price = df[\"Price\"].median()\n",
    "\n",
    "# Print results\n",
    "print(\"\\n\\nafter cleaning: \")\n",
    "print(df[\"Price\"].describe())\n",
    "print(\"median: \", median_price)\n",
    "\n"
   ]
  },
  {
   "cell_type": "markdown",
   "id": "d3e45b40",
   "metadata": {},
   "source": [
    "The problem is visible before we clean the \"Price\" col. There are 311 unique values and the mean is not automatically calculated. This is because there were some quotation marks and currency symbols in the price column."
   ]
  },
  {
   "cell_type": "markdown",
   "id": "62a727c9",
   "metadata": {},
   "source": [
    "**1.4 (4 pts): Convert Units**\n",
    "\n",
    "You notice that some prices are in CHF (Swiss Francs), while others are in EUR (Euros) or GBP (British Pounds). Additionally, for cars priced in GBP, the mileage is in miles rather than kilometers.\n",
    "\n",
    "For consistency, convert all prices to EUR and all distances to kilometers.\n",
    "\n",
    "- Exchange rates:\n",
    "  - 1 CHF = 1.05 EUR\n",
    "  - 1 GBP = 1.15 EUR\n",
    "  - 1 mile = 1.61 km\n",
    "\n",
    "Make the following conversions:\n",
    "1. Convert prices in CHF or GBP to EUR, rounding to the nearest integer.\n",
    "2. Convert distances in miles (for GBP cars) to kilometers, rounding to the nearest integer.\n",
    "3. Drop the 'Currency' column.\n",
    "4. Calculate the min, mean, median and max of the 'Price' and 'Distance' columns after the conversion."
   ]
  },
  {
   "cell_type": "code",
   "execution_count": 573,
   "id": "b4fc4a86",
   "metadata": {},
   "outputs": [
    {
     "name": "stdout",
     "output_type": "stream",
     "text": [
      "Price Statistics (in EUR): {'Min Price': 3983.0, 'Mean Price': 13403986778764.012, 'Median Price': 9111.0, 'Max Price': 1.9248124999999996e+16}\n",
      "Mileage Statistics (in km): {'Min Mileage': 1.0, 'Mean Mileage': 68514.27646239554, 'Median Mileage': 63389.5, 'Max Mileage': 243000.0}\n"
     ]
    }
   ],
   "source": [
    "import pandas as pd\n",
    "import re\n",
    "\n",
    "# Convert Prices to EUR based on 'Currency' column\n",
    "def convert_price(row):\n",
    "    if row[\"Currency\"] == \"CHF\":\n",
    "        return round(row[\"Price\"] * 1.06)  # Convert CHF to EUR\n",
    "    elif row[\"Currency\"] == \"GBP\":\n",
    "        return round(row[\"Price\"] * 1.25)  # Convert GBP to EUR\n",
    "    return row[\"Price\"]  # Keep EUR as is\n",
    "\n",
    "df[\"Price\"] = df.apply(convert_price, axis=1)\n",
    "\n",
    "# Clean 'Mileage' column (formerly 'Distance')\n",
    "df[\"Mileage\"] = df[\"Mileage\"].astype(str).str.replace(r'[^\\d.]', '', regex=True)  # Remove non-numeric characters\n",
    "df[\"Mileage\"] = pd.to_numeric(df[\"Mileage\"], errors=\"coerce\")\n",
    "\n",
    "# Convert miles to km for GBP currency\n",
    "def convert_mileage(row):\n",
    "    if row[\"Currency\"] == \"GBP\":\n",
    "        return round(row[\"Mileage\"] * 1.61)  # Convert miles to km\n",
    "    return row[\"Mileage\"]  # Keep km as is\n",
    "\n",
    "df[\"Mileage\"] = df.apply(convert_mileage, axis=1)\n",
    "\n",
    "# Drop old 'Distance' and 'Currency' columns\n",
    "df.drop(columns=[ \"Currency\"], inplace=True)\n",
    "\n",
    "# Compute statistics for 'Price' and 'Mileage'\n",
    "price_stats = {\n",
    "    \"Min Price\": df[\"Price\"].min(),\n",
    "    \"Mean Price\": df[\"Price\"].mean(),\n",
    "    \"Median Price\": df[\"Price\"].median(),\n",
    "    \"Max Price\": df[\"Price\"].max(),\n",
    "}\n",
    "\n",
    "mileage_stats = {\n",
    "    \"Min Mileage\": df[\"Mileage\"].min(),\n",
    "    \"Mean Mileage\": df[\"Mileage\"].mean(),\n",
    "    \"Median Mileage\": df[\"Mileage\"].median(),\n",
    "    \"Max Mileage\": df[\"Mileage\"].max(),\n",
    "}\n",
    "\n",
    "# Display results\n",
    "print(\"Price Statistics (in EUR):\", price_stats)\n",
    "print(\"Mileage Statistics (in km):\", mileage_stats)"
   ]
  },
  {
   "cell_type": "markdown",
   "id": "a0cf32bd",
   "metadata": {},
   "source": [
    "**1.5 (2 pts): Analyze Average Price**\n",
    "\n",
    "A.  Print the average price for each fuel type. Determine which fuel type has the highest average price.\n",
    "\n",
    "B.  Print the average price for different numbers of doors. Determine which number of doors has the highest average price."
   ]
  },
  {
   "cell_type": "code",
   "execution_count": 574,
   "id": "31e405cd",
   "metadata": {},
   "outputs": [
    {
     "name": "stdout",
     "output_type": "stream",
     "text": [
      "Average Price for Each Fuel Type:\n",
      " FuelType\n",
      "CNG        8913.294118\n",
      "Diesel    10465.464516\n",
      "Petrol     9921.970705\n",
      "Name: Price, dtype: float64\n",
      "The fuel type with the highest average price is: Diesel\n",
      "Average Price for Each Number of Doors:\n",
      " Doors\n",
      "2     7417.500000\n",
      "3     9393.082126\n",
      "4     9117.333333\n",
      "5    10680.995549\n",
      "Name: Price, dtype: float64\n",
      "The number of doors with the highest average price is: 5\n"
     ]
    }
   ],
   "source": [
    "#TODO\n",
    "# Remove cars with prices over 100,000\n",
    "df = df[df[\"Price\"] <= 100000]\n",
    "\n",
    "# A. Average Price for Each Fuel Type\n",
    "fuel_avg_price = df.groupby(\"FuelType\")[\"Price\"].mean()\n",
    "print(\"Average Price for Each Fuel Type:\\n\", fuel_avg_price)\n",
    "\n",
    "# Determine which fuel type has the highest average price\n",
    "highest_fuel_price = fuel_avg_price.idxmax()\n",
    "print(f\"The fuel type with the highest average price is: {highest_fuel_price}\")\n",
    "\n",
    "# B. Average Price for Different Numbers of Doors\n",
    "doors_avg_price = df.groupby(\"Doors\")[\"Price\"].mean()\n",
    "print(\"Average Price for Each Number of Doors:\\n\", doors_avg_price)\n",
    "\n",
    "# Determine which number of doors has the highest average price\n",
    "highest_doors_price = doors_avg_price.idxmax()\n",
    "print(f\"The number of doors with the highest average price is: {highest_doors_price}\")\n"
   ]
  },
  {
   "cell_type": "markdown",
   "id": "f9fa4698",
   "metadata": {},
   "source": [
    "**1.6 (2 pts): Relationship Between Car Age and Price**\n",
    "\n",
    "It is intuitive that an older car tends to be cheaper, and a car with more mileage might also be less expensive. \n",
    "\n",
    "To explore this intuition, create two scatter plots:\n",
    "1. Car Age vs Price\n",
    "2. Mileage vs Price"
   ]
  },
  {
   "cell_type": "code",
   "execution_count": 575,
   "id": "84745035",
   "metadata": {},
   "outputs": [
    {
     "data": {
      "text/html": [
       "<div>\n",
       "<style scoped>\n",
       "    .dataframe tbody tr th:only-of-type {\n",
       "        vertical-align: middle;\n",
       "    }\n",
       "\n",
       "    .dataframe tbody tr th {\n",
       "        vertical-align: top;\n",
       "    }\n",
       "\n",
       "    .dataframe thead th {\n",
       "        text-align: right;\n",
       "    }\n",
       "</style>\n",
       "<table border=\"1\" class=\"dataframe\">\n",
       "  <thead>\n",
       "    <tr style=\"text-align: right;\">\n",
       "      <th></th>\n",
       "      <th>Price</th>\n",
       "      <th>Age</th>\n",
       "      <th>Mileage</th>\n",
       "      <th>FuelType</th>\n",
       "      <th>HP</th>\n",
       "      <th>MetColor</th>\n",
       "      <th>Automatic</th>\n",
       "      <th>CC</th>\n",
       "      <th>Doors</th>\n",
       "      <th>Weight</th>\n",
       "    </tr>\n",
       "  </thead>\n",
       "  <tbody>\n",
       "    <tr>\n",
       "      <th>753</th>\n",
       "      <td>9111.0</td>\n",
       "      <td>68</td>\n",
       "      <td>80426.0</td>\n",
       "      <td>Petrol</td>\n",
       "      <td>110</td>\n",
       "      <td>1</td>\n",
       "      <td>0</td>\n",
       "      <td>1600</td>\n",
       "      <td>3</td>\n",
       "      <td>1055</td>\n",
       "    </tr>\n",
       "    <tr>\n",
       "      <th>858</th>\n",
       "      <td>8013.0</td>\n",
       "      <td>65</td>\n",
       "      <td>64772.0</td>\n",
       "      <td>Petrol</td>\n",
       "      <td>110</td>\n",
       "      <td>1</td>\n",
       "      <td>0</td>\n",
       "      <td>1600</td>\n",
       "      <td>3</td>\n",
       "      <td>1050</td>\n",
       "    </tr>\n",
       "    <tr>\n",
       "      <th>630</th>\n",
       "      <td>8195.0</td>\n",
       "      <td>67</td>\n",
       "      <td>127000.0</td>\n",
       "      <td>Diesel</td>\n",
       "      <td>72</td>\n",
       "      <td>1</td>\n",
       "      <td>0</td>\n",
       "      <td>2000</td>\n",
       "      <td>5</td>\n",
       "      <td>1135</td>\n",
       "    </tr>\n",
       "    <tr>\n",
       "      <th>1412</th>\n",
       "      <td>9111.0</td>\n",
       "      <td>69</td>\n",
       "      <td>42800.0</td>\n",
       "      <td>Petrol</td>\n",
       "      <td>110</td>\n",
       "      <td>1</td>\n",
       "      <td>0</td>\n",
       "      <td>1600</td>\n",
       "      <td>3</td>\n",
       "      <td>1050</td>\n",
       "    </tr>\n",
       "    <tr>\n",
       "      <th>975</th>\n",
       "      <td>9065.0</td>\n",
       "      <td>59</td>\n",
       "      <td>46929.0</td>\n",
       "      <td>Petrol</td>\n",
       "      <td>86</td>\n",
       "      <td>1</td>\n",
       "      <td>0</td>\n",
       "      <td>1300</td>\n",
       "      <td>3</td>\n",
       "      <td>1025</td>\n",
       "    </tr>\n",
       "    <tr>\n",
       "      <th>800</th>\n",
       "      <td>9152.0</td>\n",
       "      <td>61</td>\n",
       "      <td>73894.0</td>\n",
       "      <td>Petrol</td>\n",
       "      <td>110</td>\n",
       "      <td>1</td>\n",
       "      <td>0</td>\n",
       "      <td>1600</td>\n",
       "      <td>3</td>\n",
       "      <td>1065</td>\n",
       "    </tr>\n",
       "    <tr>\n",
       "      <th>1030</th>\n",
       "      <td>9844.0</td>\n",
       "      <td>60</td>\n",
       "      <td>28500.0</td>\n",
       "      <td>Petrol</td>\n",
       "      <td>86</td>\n",
       "      <td>1</td>\n",
       "      <td>1</td>\n",
       "      <td>1300</td>\n",
       "      <td>3</td>\n",
       "      <td>1045</td>\n",
       "    </tr>\n",
       "    <tr>\n",
       "      <th>1372</th>\n",
       "      <td>6180.0</td>\n",
       "      <td>76</td>\n",
       "      <td>57263.0</td>\n",
       "      <td>Petrol</td>\n",
       "      <td>110</td>\n",
       "      <td>1</td>\n",
       "      <td>0</td>\n",
       "      <td>1600</td>\n",
       "      <td>3</td>\n",
       "      <td>1050</td>\n",
       "    </tr>\n",
       "    <tr>\n",
       "      <th>260</th>\n",
       "      <td>11441.0</td>\n",
       "      <td>39</td>\n",
       "      <td>50873.0</td>\n",
       "      <td>Petrol</td>\n",
       "      <td>110</td>\n",
       "      <td>1</td>\n",
       "      <td>0</td>\n",
       "      <td>1600</td>\n",
       "      <td>5</td>\n",
       "      <td>1075</td>\n",
       "    </tr>\n",
       "    <tr>\n",
       "      <th>317</th>\n",
       "      <td>9065.0</td>\n",
       "      <td>42</td>\n",
       "      <td>37000.0</td>\n",
       "      <td>Petrol</td>\n",
       "      <td>97</td>\n",
       "      <td>1</td>\n",
       "      <td>0</td>\n",
       "      <td>1400</td>\n",
       "      <td>3</td>\n",
       "      <td>1025</td>\n",
       "    </tr>\n",
       "  </tbody>\n",
       "</table>\n",
       "</div>"
      ],
      "text/plain": [
       "        Price  Age   Mileage FuelType   HP  MetColor  Automatic    CC  Doors  \\\n",
       "753    9111.0   68   80426.0   Petrol  110         1          0  1600      3   \n",
       "858    8013.0   65   64772.0   Petrol  110         1          0  1600      3   \n",
       "630    8195.0   67  127000.0   Diesel   72         1          0  2000      5   \n",
       "1412   9111.0   69   42800.0   Petrol  110         1          0  1600      3   \n",
       "975    9065.0   59   46929.0   Petrol   86         1          0  1300      3   \n",
       "800    9152.0   61   73894.0   Petrol  110         1          0  1600      3   \n",
       "1030   9844.0   60   28500.0   Petrol   86         1          1  1300      3   \n",
       "1372   6180.0   76   57263.0   Petrol  110         1          0  1600      3   \n",
       "260   11441.0   39   50873.0   Petrol  110         1          0  1600      5   \n",
       "317    9065.0   42   37000.0   Petrol   97         1          0  1400      3   \n",
       "\n",
       "      Weight  \n",
       "753     1055  \n",
       "858     1050  \n",
       "630     1135  \n",
       "1412    1050  \n",
       "975     1025  \n",
       "800     1065  \n",
       "1030    1045  \n",
       "1372    1050  \n",
       "260     1075  \n",
       "317     1025  "
      ]
     },
     "execution_count": 575,
     "metadata": {},
     "output_type": "execute_result"
    }
   ],
   "source": [
    "df.sample(10)"
   ]
  },
  {
   "cell_type": "code",
   "execution_count": 576,
   "id": "c1ac6aee",
   "metadata": {},
   "outputs": [
    {
     "data": {
      "image/png": "[encoded data removed]",
      "text/plain": [
       "<Figure size 1000x600 with 1 Axes>"
      ]
     },
     "metadata": {},
     "output_type": "display_data"
    },
    {
     "data": {
      "image/png": "[encoded data removed]",
      "text/plain": [
       "<Figure size 1000x600 with 1 Axes>"
      ]
     },
     "metadata": {},
     "output_type": "display_data"
    }
   ],
   "source": [
    "#TODO\n",
    "import pandas as pd\n",
    "import matplotlib.pyplot as plt\n",
    "from datetime import datetime\n",
    "\n",
    "# 1. Calculate Car Age (current year - car year)\n",
    "current_year = datetime.now().year\n",
    "df['Age']\n",
    "\n",
    "# 2. Scatter Plot: Car Age vs Price\n",
    "plt.figure(figsize=(10, 6))\n",
    "plt.scatter(df['Age'], df['Price'], alpha=0.5, color='blue')\n",
    "plt.title(\"Car Age vs Price\")\n",
    "plt.xlabel(\"Car Age (Years)\")\n",
    "plt.ylabel(\"Price (EUR)\")\n",
    "plt.grid(True)\n",
    "plt.show()\n",
    "\n",
    "# 3. Scatter Plot: Mileage vs Price\n",
    "plt.figure(figsize=(10, 6))\n",
    "plt.scatter(df['Mileage'], df['Price'], alpha=0.5, color='green')\n",
    "plt.title(\"Mileage vs Price\")\n",
    "plt.xlabel(\"Mileage (km)\")\n",
    "plt.ylabel(\"Price (EUR)\")\n",
    "plt.grid(True)\n",
    "plt.show()\n"
   ]
  },
  {
   "cell_type": "markdown",
   "id": "0f6531d1",
   "metadata": {},
   "source": [
    "**1.7 (4 pts): Correlation Between Price and Mileage**\n",
    "\n",
    "The relationship between car price and mileage appears non-linear, with a steeper price drop initially followed by a flatter curve.\n",
    "\n",
    "A.(2 pts)  Calculate both the Pearson and Spearman correlations between the price of the car and the distance driven.\n"
   ]
  },
  {
   "cell_type": "code",
   "execution_count": 577,
   "id": "718ca9aa",
   "metadata": {},
   "outputs": [
    {
     "name": "stdout",
     "output_type": "stream",
     "text": [
      "Pearson Correlation between Price and Mileage: -0.5605886222624177\n",
      "Spearman Correlation between Price and Mileage: -0.6013721390188091\n"
     ]
    }
   ],
   "source": [
    "#TODO\n",
    "import pandas as pd\n",
    "\n",
    "# 1. Calculate Pearson Correlation between Price and Mileage\n",
    "pearson_corr = df['Price'].corr(df['Mileage'], method='pearson')\n",
    "print(f\"Pearson Correlation between Price and Mileage: {pearson_corr}\")\n",
    "\n",
    "# 2. Calculate Spearman Correlation between Price and Mileage\n",
    "spearman_corr = df['Price'].corr(df['Mileage'], method='spearman')\n",
    "print(f\"Spearman Correlation between Price and Mileage: {spearman_corr}\")\n"
   ]
  },
  {
   "cell_type": "code",
   "execution_count": 578,
   "id": "0007cab0",
   "metadata": {},
   "outputs": [
    {
     "data": {
      "text/html": [
       "<div>\n",
       "<style scoped>\n",
       "    .dataframe tbody tr th:only-of-type {\n",
       "        vertical-align: middle;\n",
       "    }\n",
       "\n",
       "    .dataframe tbody tr th {\n",
       "        vertical-align: top;\n",
       "    }\n",
       "\n",
       "    .dataframe thead th {\n",
       "        text-align: right;\n",
       "    }\n",
       "</style>\n",
       "<table border=\"1\" class=\"dataframe\">\n",
       "  <thead>\n",
       "    <tr style=\"text-align: right;\">\n",
       "      <th></th>\n",
       "      <th>Price</th>\n",
       "      <th>Age</th>\n",
       "      <th>Mileage</th>\n",
       "      <th>FuelType</th>\n",
       "      <th>HP</th>\n",
       "      <th>MetColor</th>\n",
       "      <th>Automatic</th>\n",
       "      <th>CC</th>\n",
       "      <th>Doors</th>\n",
       "      <th>Weight</th>\n",
       "    </tr>\n",
       "  </thead>\n",
       "  <tbody>\n",
       "    <tr>\n",
       "      <th>142</th>\n",
       "      <td>16940.0</td>\n",
       "      <td>16</td>\n",
       "      <td>20629.0</td>\n",
       "      <td>Petrol</td>\n",
       "      <td>110</td>\n",
       "      <td>1</td>\n",
       "      <td>0</td>\n",
       "      <td>1600</td>\n",
       "      <td>4</td>\n",
       "      <td>1090</td>\n",
       "    </tr>\n",
       "    <tr>\n",
       "      <th>560</th>\n",
       "      <td>10750.0</td>\n",
       "      <td>54</td>\n",
       "      <td>39000.0</td>\n",
       "      <td>Petrol</td>\n",
       "      <td>97</td>\n",
       "      <td>0</td>\n",
       "      <td>0</td>\n",
       "      <td>1400</td>\n",
       "      <td>3</td>\n",
       "      <td>1025</td>\n",
       "    </tr>\n",
       "    <tr>\n",
       "      <th>502</th>\n",
       "      <td>9148.0</td>\n",
       "      <td>55</td>\n",
       "      <td>56743.0</td>\n",
       "      <td>Petrol</td>\n",
       "      <td>110</td>\n",
       "      <td>0</td>\n",
       "      <td>0</td>\n",
       "      <td>1600</td>\n",
       "      <td>3</td>\n",
       "      <td>1045</td>\n",
       "    </tr>\n",
       "    <tr>\n",
       "      <th>96</th>\n",
       "      <td>15950.0</td>\n",
       "      <td>19</td>\n",
       "      <td>25948.0</td>\n",
       "      <td>Petrol</td>\n",
       "      <td>97</td>\n",
       "      <td>1</td>\n",
       "      <td>0</td>\n",
       "      <td>1400</td>\n",
       "      <td>3</td>\n",
       "      <td>1100</td>\n",
       "    </tr>\n",
       "    <tr>\n",
       "      <th>865</th>\n",
       "      <td>10027.0</td>\n",
       "      <td>58</td>\n",
       "      <td>63870.0</td>\n",
       "      <td>Diesel</td>\n",
       "      <td>72</td>\n",
       "      <td>0</td>\n",
       "      <td>0</td>\n",
       "      <td>2000</td>\n",
       "      <td>5</td>\n",
       "      <td>1135</td>\n",
       "    </tr>\n",
       "    <tr>\n",
       "      <th>545</th>\n",
       "      <td>11446.0</td>\n",
       "      <td>56</td>\n",
       "      <td>45336.0</td>\n",
       "      <td>Petrol</td>\n",
       "      <td>110</td>\n",
       "      <td>1</td>\n",
       "      <td>0</td>\n",
       "      <td>1600</td>\n",
       "      <td>5</td>\n",
       "      <td>1080</td>\n",
       "    </tr>\n",
       "    <tr>\n",
       "      <th>1133</th>\n",
       "      <td>7096.0</td>\n",
       "      <td>72</td>\n",
       "      <td>106108.0</td>\n",
       "      <td>Petrol</td>\n",
       "      <td>110</td>\n",
       "      <td>1</td>\n",
       "      <td>0</td>\n",
       "      <td>1600</td>\n",
       "      <td>3</td>\n",
       "      <td>1050</td>\n",
       "    </tr>\n",
       "    <tr>\n",
       "      <th>1150</th>\n",
       "      <td>7096.0</td>\n",
       "      <td>78</td>\n",
       "      <td>100487.0</td>\n",
       "      <td>Petrol</td>\n",
       "      <td>110</td>\n",
       "      <td>0</td>\n",
       "      <td>0</td>\n",
       "      <td>1600</td>\n",
       "      <td>4</td>\n",
       "      <td>1035</td>\n",
       "    </tr>\n",
       "    <tr>\n",
       "      <th>1134</th>\n",
       "      <td>5448.0</td>\n",
       "      <td>72</td>\n",
       "      <td>105856.0</td>\n",
       "      <td>Petrol</td>\n",
       "      <td>86</td>\n",
       "      <td>0</td>\n",
       "      <td>0</td>\n",
       "      <td>1300</td>\n",
       "      <td>3</td>\n",
       "      <td>1015</td>\n",
       "    </tr>\n",
       "    <tr>\n",
       "      <th>323</th>\n",
       "      <td>11858.0</td>\n",
       "      <td>39</td>\n",
       "      <td>34599.0</td>\n",
       "      <td>Petrol</td>\n",
       "      <td>110</td>\n",
       "      <td>1</td>\n",
       "      <td>0</td>\n",
       "      <td>1600</td>\n",
       "      <td>5</td>\n",
       "      <td>1075</td>\n",
       "    </tr>\n",
       "  </tbody>\n",
       "</table>\n",
       "</div>"
      ],
      "text/plain": [
       "        Price  Age   Mileage FuelType   HP  MetColor  Automatic    CC  Doors  \\\n",
       "142   16940.0   16   20629.0   Petrol  110         1          0  1600      4   \n",
       "560   10750.0   54   39000.0   Petrol   97         0          0  1400      3   \n",
       "502    9148.0   55   56743.0   Petrol  110         0          0  1600      3   \n",
       "96    15950.0   19   25948.0   Petrol   97         1          0  1400      3   \n",
       "865   10027.0   58   63870.0   Diesel   72         0          0  2000      5   \n",
       "545   11446.0   56   45336.0   Petrol  110         1          0  1600      5   \n",
       "1133   7096.0   72  106108.0   Petrol  110         1          0  1600      3   \n",
       "1150   7096.0   78  100487.0   Petrol  110         0          0  1600      4   \n",
       "1134   5448.0   72  105856.0   Petrol   86         0          0  1300      3   \n",
       "323   11858.0   39   34599.0   Petrol  110         1          0  1600      5   \n",
       "\n",
       "      Weight  \n",
       "142     1090  \n",
       "560     1025  \n",
       "502     1045  \n",
       "96      1100  \n",
       "865     1135  \n",
       "545     1080  \n",
       "1133    1050  \n",
       "1150    1035  \n",
       "1134    1015  \n",
       "323     1075  "
      ]
     },
     "execution_count": 578,
     "metadata": {},
     "output_type": "execute_result"
    }
   ],
   "source": [
    "df.sample(10)"
   ]
  },
  {
   "cell_type": "markdown",
   "id": "ee3638a1",
   "metadata": {},
   "source": [
    "\n",
    "B.(2 pts)  Which correlation value is higher? Does this result align with your expectations?"
   ]
  },
  {
   "cell_type": "markdown",
   "id": "addf1654",
   "metadata": {},
   "source": [
    "Your Response:\n",
    "\n",
    "//**//\n",
    "The absolute higher value is the correlation of price and mileage with 0.6. Honestly no clue. "
   ]
  },
  {
   "cell_type": "markdown",
   "id": "4827d3d8",
   "metadata": {},
   "source": [
    "## Part 2 Linear Regression (30 pts)\n",
    "\n",
    "You want to build a linear regression model to predict the price of a car based on the features you have.\n",
    "\n"
   ]
  },
  {
   "cell_type": "markdown",
   "id": "058120ef",
   "metadata": {},
   "source": [
    "**2.0 (8 pts) Helper functions**\n",
    "\n",
    "Before building the linear regression model, you need to implement some helper functions.\n",
    "\n",
    " Implement the `accuracy` , `precision`, `recall` and `f1_score` functions. \n",
    "\n",
    "1. These functions should take in the true labels(`np.array`) and the predicted labels(`np.array`) and return the corresponding metric. \n",
    "2. They should follow the convention that the positive class is 1 and the negative class is 0.\n",
    "3. Apply the functions to the following data:\n",
    "\n",
    "```python\n",
    "true_labels = np.array([1, 0, 1, 1, 0, 1, 0, 0, 1, 0])\n",
    "predicted_labels = np.array([1, 1, 1, 1, 0, 0, 1, 0, 1, 0])\n",
    "```\n",
    "\n",
    "- Compare the results with the implementation in `sklearn` and see if they match."
   ]
  },
  {
   "cell_type": "code",
   "execution_count": 579,
   "id": "7e5cff50",
   "metadata": {},
   "outputs": [],
   "source": [
    "#TODO\n",
    "def accuracy(true_labels, predicted_labels):\n",
    "    return np.mean(true_labels == predicted_labels)\n",
    "\n",
    "def precision(true_labels, predicted_labels):\n",
    "    tp = np.sum((true_labels == 1) & (predicted_labels == 1))\n",
    "    fp = np.sum((true_labels == 0) & (predicted_labels == 1))\n",
    "    return tp / (tp + fp) if (tp + fp) > 0 else 0\n",
    "\n",
    "def recall(true_labels, predicted_labels):\n",
    "    tp = np.sum((true_labels == 1) & (predicted_labels == 1))\n",
    "    fn = np.sum((true_labels == 1) & (predicted_labels == 0))\n",
    "    return tp / (tp + fn) if (tp + fn) > 0 else 0\n",
    "\n",
    "def f1_score_custom(true_labels, predicted_labels):\n",
    "    p = precision(true_labels, predicted_labels)\n",
    "    r = recall(true_labels, predicted_labels)\n",
    "    return 2 * (p * r) / (p + r) if (p + r) > 0 else 0\n"
   ]
  },
  {
   "cell_type": "markdown",
   "id": "06e49af9",
   "metadata": {},
   "source": [
    "\n",
    "**2.1 (6 pts) Preprocess the Data**\n",
    "\n",
    "To prepare your data for building a linear regression model, complete the following steps:\n",
    "\n",
    "A.(1 pts) Convert the categorical variables to one-hot encoding using the `pd.get_dummies()` function, how many columns do you have after the one-hot encoding? (P.S. You may want to avoid introducing multicollinearity with one-hot encoding, what should you do to avoid this?)\n"
   ]
  },
  {
   "cell_type": "code",
   "execution_count": 580,
   "id": "8f65013a",
   "metadata": {},
   "outputs": [
    {
     "name": "stdout",
     "output_type": "stream",
     "text": [
      "Amount of columns after the One-Hot-Encoding: 11\n"
     ]
    }
   ],
   "source": [
    "#TODO\n",
    "import pandas as pd\n",
    "\n",
    "# One-Hot-Encoding mit Vermeidung von Multikollinearität\n",
    "df_encoded = pd.get_dummies(df, columns=['FuelType'], drop_first=True)\n",
    "\n",
    "# Anzahl der Spalten nach One-Hot-Encoding\n",
    "num_columns = df_encoded.shape[1]\n",
    "\n",
    "print(f\"Amount of columns after the One-Hot-Encoding: {num_columns}\")\n"
   ]
  },
  {
   "cell_type": "markdown",
   "id": "612f0b19",
   "metadata": {},
   "source": [
    "We should avoid having multicollinearity because it will add redundant information. It will introduce Variables that are linearly dependent, because n - 1, where n is the amount of categories that are One-Hot encoded, are enough to determine the nth column."
   ]
  },
  {
   "cell_type": "markdown",
   "id": "15f24e26",
   "metadata": {},
   "source": [
    "B.(1 pts) Split the data into features (X) and target (y) variables. The target variable is the 'Price' column. Then split the data into train test sets using a 80-20 split. Use `random_state=42` for reproducibility. How many samples are in the training set and how many samples are in the test set?\n"
   ]
  },
  {
   "cell_type": "code",
   "execution_count": 581,
   "id": "9f3ea52d",
   "metadata": {},
   "outputs": [
    {
     "name": "stdout",
     "output_type": "stream",
     "text": [
      "Amount of trainingssamples: 1148\n",
      "Amount of testsamples: 287\n"
     ]
    }
   ],
   "source": [
    "#TODO\n",
    "from sklearn.model_selection import train_test_split\n",
    "\n",
    "X = df_encoded.drop(columns=['Price'])\n",
    "y = df_encoded['Price']\n",
    "\n",
    "X_train, X_test, y_train, y_test = train_test_split(X, y, test_size=0.2, random_state=42)\n",
    "\n",
    "train_samples = X_train.shape[0]\n",
    "test_samples = X_test.shape[0]\n",
    "\n",
    "print(f\"Amount of trainingssamples: {train_samples}\")\n",
    "print(f\"Amount of testsamples: {test_samples}\")\n"
   ]
  },
  {
   "cell_type": "markdown",
   "id": "f6992805",
   "metadata": {},
   "source": [
    "C.(1 pts) Why do we split the data into only train-test sets but not train-validation-test sets? "
   ]
  },
  {
   "cell_type": "markdown",
   "id": "038285f4",
   "metadata": {},
   "source": [
    "Your Response:\n",
    "\n",
    "//**//"
   ]
  },
  {
   "cell_type": "markdown",
   "id": "fe1b8bdf",
   "metadata": {},
   "source": [
    "D.(1 pts) **Standardize the Features**: Use `StandardScaler` from `sklearn.preprocessing` and then add a constant column using `sm.add_constant()`. Print the average and standard deviation of the training set after standardization."
   ]
  },
  {
   "cell_type": "code",
   "execution_count": 582,
   "id": "0743e6d6",
   "metadata": {},
   "outputs": [
    {
     "name": "stdout",
     "output_type": "stream",
     "text": [
      "Mean after standardization:\n",
      " Age       -7.922428e-17\n",
      "Mileage    1.980607e-16\n",
      "HP        -3.515577e-16\n",
      "CC        -4.357335e-16\n",
      "Weight     5.149578e-16\n",
      "dtype: float64\n",
      "\n",
      "Standard deviation after standardization:\n",
      " Age        1.000349\n",
      "Mileage    1.000349\n",
      "HP         1.000349\n",
      "CC         1.000349\n",
      "Weight     1.000349\n",
      "dtype: float64\n"
     ]
    }
   ],
   "source": [
    "from sklearn.preprocessing import StandardScaler\n",
    "import statsmodels.api as sm\n",
    "\n",
    "X = df_encoded.drop(columns=['Price'])\n",
    "y = df_encoded['Price']\n",
    "\n",
    "# Define the columns to standardize\n",
    "columns_to_scale = ['Age', 'Mileage', 'HP', 'CC', 'Weight']\n",
    "\n",
    "# Initialize the scaler\n",
    "scaler = StandardScaler()\n",
    "\n",
    "# Apply standardization only to the selected numerical columns\n",
    "X = X.copy()\n",
    "X.astype(float)\n",
    "\n",
    "X[columns_to_scale] = scaler.fit_transform(X[columns_to_scale])\n",
    "\n",
    "# Add a constant column for regression\n",
    "X = sm.add_constant(X)\n",
    "\n",
    "# Split the data\n",
    "X_train, X_test, y_train, y_test = train_test_split(X, y, test_size=0.2, random_state=42)\n",
    "\n",
    "\n",
    "# Print mean and standard deviation after scaling (only for the scaled columns)\n",
    "print(\"Mean after standardization:\\n\", X[columns_to_scale].mean())\n",
    "print(\"\\nStandard deviation after standardization:\\n\", X[columns_to_scale].std())"
   ]
  },
  {
   "cell_type": "code",
   "execution_count": 583,
   "id": "32427b56",
   "metadata": {},
   "outputs": [
    {
     "name": "stdout",
     "output_type": "stream",
     "text": [
      "1128     7096.0\n",
      "899      6868.0\n",
      "1188     7784.0\n",
      "311     10759.0\n",
      "1145     6900.0\n",
      "Name: Price, dtype: float64\n",
      "753     9111.0\n",
      "858     8013.0\n",
      "630     8195.0\n",
      "1412    9111.0\n",
      "975     9065.0\n",
      "Name: Price, dtype: float64\n"
     ]
    }
   ],
   "source": [
    "print(y_train[:5])\n",
    "print(y_test[:5])"
   ]
  },
  {
   "cell_type": "markdown",
   "id": "ebec9402",
   "metadata": {},
   "source": [
    "E.(2 pts) Should we first standardize the data and then split it into train and test sets or vice versa?   why?"
   ]
  },
  {
   "cell_type": "markdown",
   "id": "49dfe2b6",
   "metadata": {},
   "source": [
    "Your Response:\n",
    "\n",
    "We should standardize the data before because otherwise the values of the training and test set are on different scales. This means if the mean of both splits are different, then the standardized version won't be comparable because the same values in both datasets would be changed differently."
   ]
  },
  {
   "cell_type": "markdown",
   "id": "012c220d",
   "metadata": {},
   "source": [
    "**2.2 (10 pts) Train and Evaluate the Linear Regression Model**\n",
    "\n",
    "To train a linear regression model using and evaluate its performance, follow these steps:\n",
    "\n",
    "1. (2 pts) Train a linear regression model on the training dataset using `sm.OLS` from `statsmodels`, print the summary of the model using `model.summary()`.\n"
   ]
  },
  {
   "cell_type": "code",
   "execution_count": 584,
   "id": "c24f1ad6",
   "metadata": {},
   "outputs": [
    {
     "name": "stdout",
     "output_type": "stream",
     "text": [
      "const              float64\n",
      "Age                float64\n",
      "Mileage            float64\n",
      "HP                 float64\n",
      "MetColor             int64\n",
      "Automatic            int64\n",
      "CC                 float64\n",
      "Doors                int64\n",
      "Weight             float64\n",
      "FuelType_Diesel       bool\n",
      "FuelType_Petrol       bool\n",
      "dtype: object\n",
      "float64\n"
     ]
    }
   ],
   "source": [
    "print(X_train.dtypes)\n",
    "print(y_train.dtypes)"
   ]
  },
  {
   "cell_type": "code",
   "execution_count": null,
   "id": "0f4b338d",
   "metadata": {},
   "outputs": [
    {
     "name": "stdout",
     "output_type": "stream",
     "text": [
      "                            OLS Regression Results                            \n",
      "==============================================================================\n",
      "Dep. Variable:                      y   R-squared:                       0.843\n",
      "Model:                            OLS   Adj. R-squared:                  0.842\n",
      "Method:                 Least Squares   F-statistic:                     610.5\n",
      "Date:                Fri, 14 Feb 2025   Prob (F-statistic):               0.00\n",
      "Time:                        16:41:08   Log-Likelihood:                -9903.4\n",
      "No. Observations:                1148   AIC:                         1.983e+04\n",
      "Df Residuals:                    1137   BIC:                         1.988e+04\n",
      "Df Model:                          10                                         \n",
      "Covariance Type:            nonrobust                                         \n",
      "==============================================================================\n",
      "                 coef    std err          t      P>|t|      [0.025      0.975]\n",
      "------------------------------------------------------------------------------\n",
      "const       8417.1731    420.110     20.036      0.000    7592.896    9241.450\n",
      "x1         -2129.2822     55.805    -38.156      0.000   -2238.774   -2019.790\n",
      "x2          -576.6880     56.577    -10.193      0.000    -687.696    -465.680\n",
      "x3           761.2512     97.093      7.840      0.000     570.751     951.752\n",
      "x4            62.6242     86.244      0.726      0.468    -106.592     231.840\n",
      "x5           214.0934    188.681      1.135      0.257    -156.108     584.295\n",
      "x6          -584.9833    116.155     -5.036      0.000    -812.886    -357.081\n",
      "x7           -20.0286     45.810     -0.437      0.662    -109.909      69.852\n",
      "x8           883.9754     70.350     12.565      0.000     745.945    1022.006\n",
      "x9          3142.4166    586.981      5.354      0.000    1990.729    4294.104\n",
      "x10         1412.8233    378.167      3.736      0.000     670.839    2154.807\n",
      "==============================================================================\n",
      "Omnibus:                      139.827   Durbin-Watson:                   2.005\n",
      "Prob(Omnibus):                  0.000   Jarque-Bera (JB):             1206.783\n",
      "Skew:                           0.177   Prob(JB):                    8.92e-263\n",
      "Kurtosis:                       8.010   Cond. No.                         80.2\n",
      "==============================================================================\n",
      "\n",
      "Notes:\n",
      "[1] Standard Errors assume that the covariance matrix of the errors is correctly specified.\n"
     ]
    }
   ],
   "source": [
    "#TODO\n",
    "import statsmodels.api as sm\n",
    "X_train = X_train.astype(float)\n",
    "# Train the Linear Regression model using OLS\n",
    "# print(X_train)\n",
    "model = sm.OLS(np.asarray(y_train), np.asarray(X_train))\n",
    "results = model.fit()\n",
    "\n",
    "# Print the model summary\n",
    "print(results.summary())"
   ]
  },
  {
   "cell_type": "markdown",
   "id": "d5e4bdce",
   "metadata": {},
   "source": [
    "2. (2 pts) Evaluate the model on the test dataset using the square root of the mean squared error (RMSE) metric. \n",
    "   1. Report the RMSE value.\n",
    "   2. Your boss wants to know how far off the model's predictions are from the actual price of the car. What would you tell him? Given a number and explain how you got it."
   ]
  },
  {
   "cell_type": "code",
   "execution_count": 586,
   "id": "7936208b",
   "metadata": {},
   "outputs": [
    {
     "name": "stdout",
     "output_type": "stream",
     "text": [
      "753     8309.957144\n",
      "858     8810.656398\n",
      "630     7560.454653\n",
      "1412    8689.546375\n",
      "975     9071.769609\n",
      "dtype: object\n",
      "753     9111.0\n",
      "858     8013.0\n",
      "630     8195.0\n",
      "1412    9111.0\n",
      "975     9065.0\n",
      "Name: Price, dtype: float64\n",
      "Root Mean Squared Error (RMSE): 1376.5631124805243\n",
      "The model's average error is approximately 1376.56 units of the car's price.\n"
     ]
    }
   ],
   "source": [
    "#TODO\n",
    "import numpy as np\n",
    "from sklearn.metrics import mean_squared_error\n",
    "\n",
    "# Make predictions on the test set\n",
    "y_pred = results.predict(X_test)  # Predict using the trained model\n",
    "\n",
    "# Calculate the Mean Squared Error (MSE)\n",
    "mse = mean_squared_error(y_test, y_pred)\n",
    "print(y_pred[:5])\n",
    "print(y_test[:5])\n",
    "\n",
    "# Calculate the Root Mean Squared Error (RMSE)\n",
    "rmse = np.sqrt(mse)\n",
    "\n",
    "# Report the RMSE\n",
    "print(f\"Root Mean Squared Error (RMSE): {rmse}\")\n",
    "\n",
    "# Interpretation for your boss\n",
    "print(f\"The model's average error is approximately {rmse:.2f} units of the car's price.\")"
   ]
  },
  {
   "cell_type": "markdown",
   "id": "92955c02",
   "metadata": {},
   "source": [
    "Your Response:\n",
    "\n",
    "The RMSE we calculated is 1349.81. This is the average difference between the predicted price and the actual price over all samples. They are also called residuals. We square the residuals and add them all up. If we have n residual we divide the sum by n and get the average. This then results in 2885 and indicates as before said to an average error of around 50 euros."
   ]
  },
  {
   "cell_type": "markdown",
   "id": "39a1de71",
   "metadata": {},
   "source": [
    "3. (2 pts) Report the R² score on the test dataset and interpret it.\n"
   ]
  },
  {
   "cell_type": "code",
   "execution_count": 589,
   "id": "a1a4355f",
   "metadata": {},
   "outputs": [
    {
     "name": "stdout",
     "output_type": "stream",
     "text": [
      "R² score: 0.8334\n"
     ]
    }
   ],
   "source": [
    "#TODO\n",
    "from sklearn.metrics import r2_score\n",
    "\n",
    "# Assuming y_test contains actual values and y_pred contains predicted values\n",
    "r2 = r2_score(y_test, y_pred)\n",
    "\n",
    "print(f\"R² score: {r2:.4f}\")\n"
   ]
  },
  {
   "cell_type": "markdown",
   "id": "4fe57aee",
   "metadata": {},
   "source": [
    "Your Response:\n",
    "\n",
    "The Rsq value is 0.843. That means that the model is actually pretty good."
   ]
  },
  {
   "cell_type": "markdown",
   "id": "d9191203",
   "metadata": {},
   "source": [
    "4.  (2 pts) Which features are statistically significant at a 5% significance level? "
   ]
  },
  {
   "cell_type": "code",
   "execution_count": null,
   "id": "782d34e6",
   "metadata": {},
   "outputs": [
    {
     "name": "stdout",
     "output_type": "stream",
     "text": [
      "Sorted p-values with 5 decimal places:\n",
      " Age                0.00000\n",
      "const              0.00000\n",
      "Weight             0.00000\n",
      "Mileage            0.00000\n",
      "HP                 0.00000\n",
      "FuelType_Diesel    0.00000\n",
      "CC                 0.00000\n",
      "FuelType_Petrol    0.00020\n",
      "Automatic          0.25675\n",
      "MetColor           0.46791\n",
      "Doors              0.66204\n",
      "dtype: float64\n",
      "\n",
      "Statistically significant features at 5% level:\n",
      "['Age', 'const', 'Weight', 'Mileage', 'HP', 'FuelType_Diesel', 'CC', 'FuelType_Petrol']\n"
     ]
    }
   ],
   "source": [
    "# Convert p-values to a Pandas Series and sort them\n",
    "coefficients = pd.Series(results.pvalues, index=X_train.columns).sort_values()\n",
    "\n",
    "# Format p-values to 5 decimal places\n",
    "coefficients = coefficients.round(5)\n",
    "\n",
    "# Display sorted p-values\n",
    "print(\"Sorted p-values with 5 decimal places:\\n\", coefficients)\n",
    "\n",
    "# Find statistically significant features (p-value < 0.05)\n",
    "significant_features = coefficients[coefficients < 0.05]\n",
    "\n",
    "# Print only the significant feature names\n",
    "print(\"\\nStatistically significant features at 5% level:\")\n",
    "print(significant_features.index.tolist())\n",
    "\n"
   ]
  },
  {
   "cell_type": "markdown",
   "id": "cdeffb08",
   "metadata": {},
   "source": [
    "\n",
    "The values that are signifcant are quite a lot. It is Age, the constant, weight, mileage, horse power, the diesel_fuel, CC and petrol_fuel. Both fuel_types are included which likely means that the CNG is also a significant variable. "
   ]
  },
  {
   "cell_type": "markdown",
   "id": "8eff41e0",
   "metadata": {},
   "source": [
    "5.  (2 pts) Determine which two feature have the highest coefficient? What does it imply?"
   ]
  },
  {
   "cell_type": "code",
   "execution_count": 621,
   "id": "38bbe396",
   "metadata": {},
   "outputs": [
    {
     "name": "stdout",
     "output_type": "stream",
     "text": [
      "Sorted coefficients with 5 decimal places:\n",
      " Age               -2129.28221\n",
      "CC                 -584.98330\n",
      "Mileage            -576.68798\n",
      "Doors               -20.02855\n",
      "MetColor             62.62420\n",
      "Automatic           214.09337\n",
      "HP                  761.25117\n",
      "Weight              883.97544\n",
      "FuelType_Petrol    1412.82325\n",
      "FuelType_Diesel    3142.41661\n",
      "const              8417.17310\n",
      "dtype: float64\n",
      "\n",
      "Statistically significant features at 5% level:\n",
      "['FuelType_Diesel', 'const']\n"
     ]
    }
   ],
   "source": [
    "# Convert coefficients to a Pandas Series and sort them\n",
    "coefficients = pd.Series(results.params, index=X_train.columns).sort_values()\n",
    "\n",
    "\n",
    "coefficients = coefficients.round(5)\n",
    "\n",
    "# Display sorted coefficients\n",
    "print(\"Sorted coefficients with 5 decimal places:\\n\", coefficients)\n",
    "\n",
    "# Print only the significant feature names\n",
    "print(\"\\nStatistically significant features at 5% level:\")\n",
    "print(coefficients.index.tolist()[-2:])"
   ]
  },
  {
   "cell_type": "markdown",
   "id": "7dd51a86",
   "metadata": {},
   "source": [
    "Your Response:\n",
    "\n",
    "The features with the highest coefficients are the constant and the Diesel fueltype. This means that "
   ]
  },
  {
   "cell_type": "markdown",
   "id": "9af624b8",
   "metadata": {},
   "source": [
    "**2.3 (2 pts): Improvement Discussion**\n",
    "\n",
    "- Suggest a few additional features that could potentially explain this remaining variance in the data ( at least 2 features)."
   ]
  },
  {
   "cell_type": "markdown",
   "id": "81d36c87",
   "metadata": {},
   "source": [
    "Your Response:\n",
    "\n",
    "We could also add the amount of owners the car had prior. This would be helpful because many people would agree that the more owners a car had the less it is worth. \n",
    "The second variable could be the car brand. Even if most car brands sell different models it will proabably be a good indicator of how much the price is."
   ]
  },
  {
   "cell_type": "markdown",
   "id": "94ca03f3",
   "metadata": {},
   "source": [
    "**2.4 (2 pts): Identifying Confounding Variables**\n",
    "\n",
    "The feature \"Weight\" shows a very low p-value and a high coefficient, but it doesn't seem to be a major factor for customers buying a second-hand car. You go to your mentor Jerasimosu to discuss this issue. Indeed, Jerasimosu suggests that never in his career has he seen a customer who asked for the weight of a car before buying it.\n",
    "You suspect that there might be a confounding variable that is correlated with the car's weight and significantly influences its price.\n",
    "\n",
    "- Suggest a possible confounding variable that may be correlated with the car's weight and significantly influence its price (it doesn't need to be a variable in the dataset). Explain why this variable could be a confounding variable."
   ]
  },
  {
   "cell_type": "markdown",
   "id": "c677c957",
   "metadata": {},
   "source": [
    "Your Response:\n",
    "\n",
    "The only thing we could come up with right is that havier cars are bigger in size. The size does indeed influence if and for how much a customer buys a car. "
   ]
  },
  {
   "cell_type": "markdown",
   "id": "0c2854b8",
   "metadata": {},
   "source": [
    "**2.5 (2 pts): Adding an Inverse Mileage Term**\n",
    "\n",
    "From the previous scatter plot, the relationship between car price and mileage appears non-linear, with a steep price drop initially and then a flattening. A suitable approach to model this behavior is by incorporating an inverse term of mileage.\n",
    "\n",
    "- Add the inverse mileage term to the model and retrain it using the code provided. Print the model summary and interpret the effect of the inverse mileage term."
   ]
  },
  {
   "cell_type": "code",
   "execution_count": null,
   "id": "8a4b261e",
   "metadata": {},
   "outputs": [],
   "source": [
    "#TODO"
   ]
  },
  {
   "cell_type": "markdown",
   "id": "1a3c61dc",
   "metadata": {},
   "source": [
    "## Part 3 Supervised Learning (40 pts)\n",
    "\n",
    "\n",
    "After completing your analysis, you're satisfied with the results. You handed the Jupyter notebook over to your mentor.\n",
    "\n",
    "(Fun fact: The name \"Jupyter\" is derived from Julia, Python, and R—three programming languages that the platform was originally designed for.)\n",
    "\n",
    "Your mentor Jerasimosu is very impressed with your work and asks you the following question:\n",
    "\n",
    "“\n",
    "This looks great! It will be very useful for our sales team. While looking at the results, I realized that there might be one thing that we can improve. \n",
    "For companies like us, it is important to sell the cars quickly. If we are patient, we might be able to sell the car for a higher price, but that’s not always the best strategy. We need to consider the maintenance costs for the car, the cash flow and the fact that the price of the car decreases over time.\"\n",
    "\n",
    "He then continues:\n",
    "\"Three months is a sweet spot for us. If we can sell the car within the first three months, it is great. If not, it is worth considering lowering the price to sell it faster and increase our cash flow. I can ask Ivan from Sales to collect data in the last few months on whether the car was sold within the first three months or not. This would be great if you could have a model that tells us if the car will be sold in the first three months or not. \"\n",
    "\n",
    "This sparks your interest, and soon Ivan has provided you with the new data containing an additional column `sold_within_3_months` which is a binary variable indicating whether the car was sold within the first three months or not.\n",
    "\n",
    "Note: The data for this part is in the file `Task3.ToyotaCorolla_sales_3months.csv` and it has already unified the currency and distance units."
   ]
  },
  {
   "cell_type": "code",
   "execution_count": null,
   "id": "5371de93",
   "metadata": {},
   "outputs": [
    {
     "name": "stdout",
     "output_type": "stream",
     "text": [
      "   Price  Age     KM FuelType  HP  MetColor  Automatic    CC  Doors  Weight  \\\n",
      "0  13500   23  46986   Diesel  90         1          0  2000      3    1165   \n",
      "1  13750   23  72937   Diesel  90         1          0  2000      3    1165   \n",
      "2  13950   24  41711   Diesel  90         1          0  2000      3    1165   \n",
      "3  14950   26  48000   Diesel  90         0          0  2000      3    1165   \n",
      "4  13750   30  38500   Diesel  90         0          0  2000      3    1170   \n",
      "\n",
      "   sold_within_3_months  \n",
      "0                     0  \n",
      "1                     0  \n",
      "2                     0  \n",
      "3                     0  \n",
      "4                     0  \n"
     ]
    }
   ],
   "source": [
    "data_df = pd.read_csv('data/Task3.ToyotaCorolla_sales_3months.csv', index_col=0)\n",
    "print(data_df.head())"
   ]
  },
  {
   "cell_type": "markdown",
   "id": "87af3424",
   "metadata": {},
   "source": [
    "\n",
    "**3.1 (2 pts): Preprocess the Data**\n",
    "- （1 pts）How many cars in the dataset were sold in the first three months, and how many were not? "
   ]
  },
  {
   "cell_type": "code",
   "execution_count": null,
   "id": "714cefb1",
   "metadata": {},
   "outputs": [],
   "source": [
    "#TODO"
   ]
  },
  {
   "cell_type": "markdown",
   "id": "eb49dc91",
   "metadata": {},
   "source": [
    "- (1 pts) Preprocess the categorical variables to one-hot encoding using the `pd.get_dummies()` function."
   ]
  },
  {
   "cell_type": "code",
   "execution_count": null,
   "id": "e9ca7824",
   "metadata": {},
   "outputs": [],
   "source": [
    "#TODO"
   ]
  },
  {
   "cell_type": "markdown",
   "id": "1449cf1c",
   "metadata": {},
   "source": [
    "**3.2 (20 pts):  Logistic Regression Model**\n",
    "1. (2 pts) Split the data into features (X) and target (y) variables. The target variable is the 'sold_within_3_months' column. The `Price` column should be included as a feature."
   ]
  },
  {
   "cell_type": "code",
   "execution_count": null,
   "id": "bda17a69",
   "metadata": {},
   "outputs": [],
   "source": [
    "#TODO"
   ]
  },
  {
   "cell_type": "markdown",
   "id": "28393827",
   "metadata": {},
   "source": [
    "2. (2 pts) Then split the data into train test sets using a 80-20 split. Use `random_state=42` for reproducibility. "
   ]
  },
  {
   "cell_type": "code",
   "execution_count": null,
   "id": "7416161f",
   "metadata": {},
   "outputs": [],
   "source": [
    "#TODO"
   ]
  },
  {
   "cell_type": "markdown",
   "id": "d43f0fbf",
   "metadata": {},
   "source": [
    "3. (2 pts) Standardize the features using `StandardScaler` from `sklearn.preprocessing` and then add a constant column using `sm.add_constant()`."
   ]
  },
  {
   "cell_type": "code",
   "execution_count": null,
   "id": "16bfc69e",
   "metadata": {},
   "outputs": [],
   "source": [
    "#TODO"
   ]
  },
  {
   "cell_type": "markdown",
   "id": "1b7029f6",
   "metadata": {},
   "source": [
    "4. (2 pts) Fit a logistic regression model on the training dataset. Feel free to use either `statsmodels` or `sklearn`."
   ]
  },
  {
   "cell_type": "code",
   "execution_count": null,
   "id": "4d7e52e6",
   "metadata": {},
   "outputs": [],
   "source": [
    "#TODO"
   ]
  },
  {
   "cell_type": "markdown",
   "id": "e0c3b275",
   "metadata": {},
   "source": [
    "5. (2 pts) Evaluate the model on the test dataset using the accuracy score metric. Report the accuracy score."
   ]
  },
  {
   "cell_type": "code",
   "execution_count": null,
   "id": "2152d2dc",
   "metadata": {},
   "outputs": [],
   "source": [
    "#TODO"
   ]
  },
  {
   "cell_type": "markdown",
   "id": "07b5d10b",
   "metadata": {},
   "source": [
    "6. (2 pts) Calculate the precision, recall, and F1-score."
   ]
  },
  {
   "cell_type": "code",
   "execution_count": null,
   "id": "93ef377c",
   "metadata": {},
   "outputs": [],
   "source": [
    "#TODO"
   ]
  },
  {
   "cell_type": "markdown",
   "id": "b83bb422",
   "metadata": {},
   "source": [
    "7. (2 pts) Suppose that your company is running short on cash flow and needs to sell the cars quickly, for example by running some offer (special discount on cars). But which ones? How should you adjust the threshold for the decision boundary of the logistic regression model to ensure that the company can sell the cars as quickly as possible?\n",
    "    - A. Increase the threshold\n",
    "    - B. Decrease the threshold\n",
    "\n",
    "In a more general sense, how does the choice of threshold affect the precision and recall of the model?"
   ]
  },
  {
   "cell_type": "markdown",
   "id": "e1951dc8",
   "metadata": {},
   "source": [
    "Your Response:\n",
    "\n",
    "//**//"
   ]
  },
  {
   "cell_type": "markdown",
   "id": "f77a1414",
   "metadata": {},
   "source": [
    "8. (6 pts) Try to find the optimal threshold that maximizes the F1-score. Implement any kind of method you see fit (e.g. binary search or grid search). What is the optimal threshold and what difference does the optimal threshold make in the F1-score?\n",
    "\n",
    "If you notice anything odd, report it and try to identify the reasons behind it."
   ]
  },
  {
   "cell_type": "code",
   "execution_count": null,
   "id": "ecc90348",
   "metadata": {
    "scrolled": true
   },
   "outputs": [],
   "source": [
    "#TODO"
   ]
  },
  {
   "cell_type": "markdown",
   "id": "53796e48",
   "metadata": {},
   "source": [
    "**3.3(23 pts) Free model exploration**\n",
    "\n",
    "Use any model from `sklearn` to predict whether a car will be sold within the first three months.\n",
    "\n",
    "Follow these steps to complete the task:\n",
    "\n",
    "1. (2 pts) Train your own classifier model to predict the target variable (`sold_within_3_months`).You can reuse the train and test sets from the previous section. Set `random_state=42` for reproducibility if needed. At this stage no need to optimize (yet). That will come at step 4."
   ]
  },
  {
   "cell_type": "code",
   "execution_count": null,
   "id": "847d2270",
   "metadata": {},
   "outputs": [],
   "source": [
    "#TODO"
   ]
  },
  {
   "cell_type": "markdown",
   "id": "339e84a7",
   "metadata": {},
   "source": [
    "2. (2 pts) Evaluate the model on the test set and report on hyperparameters or other details of the algorithm you chose."
   ]
  },
  {
   "cell_type": "code",
   "execution_count": null,
   "id": "f91de524",
   "metadata": {},
   "outputs": [],
   "source": [
    "#TODO"
   ]
  },
  {
   "cell_type": "markdown",
   "id": "aeacddbc",
   "metadata": {},
   "source": [
    "3. (2 pts) Come up with a visualization (could be related to the model or to some variables (e.g. EDA plots) to demonstrate the difficulty (or not) of the problem. "
   ]
  },
  {
   "cell_type": "code",
   "execution_count": null,
   "id": "3899ce00",
   "metadata": {},
   "outputs": [],
   "source": [
    "#TODO"
   ]
  },
  {
   "cell_type": "markdown",
   "id": "294f27b0",
   "metadata": {},
   "source": [
    "4. (17 pts) Try to come up with a model that improves the results both in the previous seciton but also your baseline model in 3.1. Make to sure to properly evaluate the model. No need to provide a visualization here but feel free to add any supporting evidence to your modeling.\n",
    "\n",
    "Minimally (and for a high-grade) you should consider some form of regularization and proper cross-validation. \n",
    "\n",
    "Other things you can consider (in no particular order) are feature engineering, model robustness, hyperparameter tuning, ..."
   ]
  },
  {
   "cell_type": "code",
   "execution_count": null,
   "id": "c23ea3be",
   "metadata": {},
   "outputs": [],
   "source": [
    "#TODO"
   ]
  },
  {
   "cell_type": "markdown",
   "id": "89384315",
   "metadata": {},
   "source": [
    "## Part 4 The Aftermath (5 pts)\n",
    "\n",
    "Machine learning models are often evaluated based on accuracy, precision and recall, but these metrics do not always capture fairness. Fairness is a broader concept that depends on the context of the dataset and the decisions influenced by the model.\n",
    "\n",
    "For this last question, you are asked to reflect on what fairness means in the context of this problem. More specifically, identify potential fairness concerns (at least 2) and suggest how they could be measured or mitigated.\n",
    "Explain why fairness matters (or doesn’t) in this specific context.\n",
    "\n",
    "*Hint: Think of the whole pipeline of data science: data collection, modeling, evaluation and identify sources of where the model might be unfair.*\n"
   ]
  },
  {
   "cell_type": "markdown",
   "id": "5cd5ceda",
   "metadata": {},
   "source": [
    "Your Response:\n",
    "\n",
    "//**//"
   ]
  }
 ],
 "metadata": {
  "kernelspec": {
   "display_name": "Python 3",
   "language": "python",
   "name": "python3"
  },
  "language_info": {
   "codemirror_mode": {
    "name": "ipython",
    "version": 3
   },
   "file_extension": ".py",
   "mimetype": "text/x-python",
   "name": "python",
   "nbconvert_exporter": "python",
   "pygments_lexer": "ipython3",
   "version": "3.12.9"
  }
 },
 "nbformat": 4,
 "nbformat_minor": 5
}
