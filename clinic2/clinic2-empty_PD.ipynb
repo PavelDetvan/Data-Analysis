{
 "cells": [
  {
   "cell_type": "markdown",
   "id": "895feafc",
   "metadata": {},
   "source": [
    "(Placeholder for your group #)\n",
    "\n",
    "(Placeholder for your names)\n",
    "\n",
    "(Placeholder for your i-numbers)"
   ]
  },
  {
   "cell_type": "markdown",
   "id": "08c85891",
   "metadata": {},
   "source": [
    "**Use of genAI tools (e.g. chatGPT), websites (e.g. stackoverflow)**: *list websites where you found code (or other info) as well as include information on how you used genAI tools*"
   ]
  },
  {
   "cell_type": "markdown",
   "id": "6b08998c",
   "metadata": {},
   "source": [
    "# Data Analysis, Clinic 2\n",
    "\n",
    "By completing and delivering the clinic tasks you will know how to :\n",
    "\n",
    "- Preprocess data and make it amenable to statistical analysis and machine learning models;\n",
    "- Train and test out-of-the-box machine learning models in `sklearn`;\n",
    "- Carry out simple logistic regression analysis;\n",
    "- Evaluate classification models based on different metrics;\n",
    "- Assess how your model performance can improve\n",
    "- Reflect on the greater impact of the models you develop\n",
    "\n",
    "---\n",
    "\n",
    "## Important Dates\n",
    "\n",
    "- Homework release: Fri, 7th Feb\n",
    "- **Homework due**: Mon, 17th Feb late night (wildcards possible, apply to the group)\n",
    "\n",
    "---\n",
    "\n",
    "##  Some rules\n",
    "\n",
    "* We have provided `TODO` comments in the code cells that you need to fill out with your solutions. For some questions, we have also provided `Your response` comments, where you should provide a textual answer.\n",
    "\n",
    "* You are allowed to use any built-in Python library that is included in the `requirements.txt` for this homework. If you use any additional library, this may complicate the grading process, and we reserve the right to penalize your grade for unnecessary complexity of the solution. All the questions can be solved with the libraries in `requirements.txt`.\n",
    "\n",
    "* Make sure that you include a proper amount/mix of comments, results and code. More specifically, be sure to provide a concise textual description of your thought process, the assumptions you made, the solution you implemented, and explanations for your answers. A notebook that only has code cells will not suffice. To avoid confusion: use short comments for longer code answers.\n",
    "\n",
    "* Back up any hypotheses and claims with data, since this is an important aspect of the course.\n",
    "\n",
    "* Please write all your comments in English, and use meaningful variable names (as possible) in your code. \n",
    "\n",
    "* In the end, make sure that all cells are executed properly and everything you need to show is in your (execucted) notebook. We will not run your notebook for you! \n",
    "\n",
    "- In continuation to the previous point, interactive plots, such as those generated using the ‘plotly’ package, should be strictly avoided! Make sure to print results and/or dataframes that confirm you have properly addressed the task.\n",
    "\n",
    "* You are asked to deliver **only your executed notebook file, .ipnyb** and nothing else. If you deliver other files, we will not grade anything.\n",
    "\n",
    "* Honor code applies to these tasks. If you are not certain about an action, consult with Jerry.\n",
    "\n",
    "**A Note from Jerry on using Language Models (LMs)**\n",
    "\n",
    "If you try hard enough, you will likely get away with cheating (that does not only apply to LMs). Fortunately, my job is not to police, but rather to educate you. So, please consider the following:\n",
    "\n",
    "I assume that you are taking this course to learn something! LMs are not always right ([they often fail in silly ways](https://community.openai.com/t/why-9-11-is-larger-than-9-9-incredible/869824/4)). This course should prepare you to detect when they are wrong!\n",
    "\n",
    "I don't restrict the use of LMs because I see the value of being helped when coding (esp. in the context of pandas dataframes nightmare :)). Based on what we saw last year in your notebooks, it's pretty clear when you \"copy\" some code and then you struggle to interpret the results. This is the essence of this course and of the skills you should try build for yourself: Many people can run fancy models these days but not many people can interpret the results correctly. Try to be the latter ones.\n",
    "\n",
    "\n",
    "\n",
    "---\n",
    "\n",
    "\n",
    "## Grading \n",
    "- The homework has a total of 100 points, distributed as follows:\n",
    "    - Part 1: Data Preprocessing (20 points)\n",
    "    - Part 2: Linear Regression (30 points)\n",
    "    - Part 3: Supervised Learning (40 points)\n",
    "    - Part 4: The Aftermath (5 points)"
   ]
  },
  {
   "cell_type": "markdown",
   "id": "7c6f0a9b",
   "metadata": {},
   "source": [
    "## Context\n",
    "\n",
    "Within DACS, you are excited to start an internship as a data scientist.\n",
    "After rounds of interviews, you have been selected to work with the biggest car dealership in the Netherlands !\n",
    "\n",
    "Your mentor at the company Jerasimosu, has explained to you that the company is interested in a pricing model for used cars. \n",
    "\n",
    "- Jerasimosu: \"We have a lot of used cars in our inventory, and we need to determine the price at which we should sell these cars. We have some ideas about the factors that influence the price of a used car, but so far we have just been using our experience and intuition to determine the price of a used car. Sometimes it works, but probably we can do better and a more data-driven approach would also help our new employees in the sales team as they have less experience.\"\n",
    "\n",
    "- You: \"That sounds like a great project! What kind of data do we have?\"\n",
    "\n",
    "- Jerasimosu: \"We sell all kinds of cars here, but maybe we can start with a specific brand and model. For example, the Toyota Corolla is the best-selling car worldwide in 2023, and we have a lot of data on it. We can start by analyzing the data on used Toyota Corolla cars. If it works well, we can extend the analysis to other brands.\"\n",
    "\n",
    "The dataset contains the following columns:\n",
    "\n",
    "- `Age`: Age of the car in months.\n",
    "- `Mileage`: Number of distance the car has been driven. (km or miles)\n",
    "- `FuelType`: Fuel type of the car (Petrol, Diesel, or CNG)\n",
    "- `HP`: Horsepower\n",
    "- `MetColor`: Is the color of the car metallic? (Yes=1, No=0)\n",
    "- `Automatic`: Is the car automatic? (Yes=1, No=0)\n",
    "- `CC`: Cylinder volume in cubic centimeters\n",
    "- `Doors`: Number of doors\n",
    "- `Weight`: Weight of the car in kilograms\n",
    "- `Price`: Price of the car in euros\n",
    "\n",
    "\n",
    "## Data\n",
    "\n",
    "The data is provided in the `data` folder and it contains the following 3 csv files:\n",
    "- `Task1-2.ToyotaCorolla.csv` for Part 1 and Part 2\n",
    "- `Task3.ToyotaCorolla_sales_3months.csv` for Part 3\n",
    "\n",
    "You should not use any other data source for this homework.\n",
    "\n",
    "For some questions, you might need to slightly modify the data. But overall, you should avoid making any major changes to the data, which may affect your analysis.\n",
    "\n",
    "## References:\n",
    "\n",
    "The data is based on the ToyotaCorolla dataset from the UCI Machine Learning Repository [here](https://archive.ics.uci.edu/ml/datasets/Toyota+Corolla).\n",
    "We have made some modifications to the original dataset, so please use the data provided in the `data` folder in the course repo."
   ]
  },
  {
   "cell_type": "markdown",
   "id": "b36859d6",
   "metadata": {},
   "source": [
    "## Task 1 (20 pts) - Get to know the data"
   ]
  },
  {
   "cell_type": "code",
   "execution_count": 1,
   "id": "ccd6fa08",
   "metadata": {},
   "outputs": [],
   "source": [
    "import pandas as pd\n",
    "import numpy as np\n",
    "import matplotlib.pyplot as plt\n",
    "import statsmodels.api as sm\n",
    "import random\n",
    "import sklearn\n",
    "\n",
    "# fix random seed for reproducibility\n",
    "np.random.seed(42)\n",
    "random.seed(42)"
   ]
  },
  {
   "cell_type": "markdown",
   "id": "f502c087",
   "metadata": {},
   "source": [
    "\n",
    "**1.1 (2 pts)**: Load the data from the file `Task1-2.ToyotaCorolla-raw.csv` into a pandas DataFrame. Display the first 5 rows of the DataFrame. Hint: A naive loading of the data will raise an error. You will need to figure out how to load the data correctly. (Hint: localise which row is causing the error)"
   ]
  },
  {
   "cell_type": "code",
   "execution_count": 2,
   "id": "23cf0212",
   "metadata": {},
   "outputs": [
    {
     "name": "stdout",
     "output_type": "stream",
     "text": [
      "     Price   Age  Mileage FuelType    HP  MetColor  Automatic      CC  Doors  \\\n",
      "0  13500.0  23.0  46986.0   Diesel  90.0       1.0        0.0  2000.0    3.0   \n",
      "1  11878.0  23.0  72937.0   Diesel  90.0       1.0        0.0  2000.0    3.0   \n",
      "2  12050.0  24.0  41711.0   Diesel  90.0       1.0        0.0  2000.0    3.0   \n",
      "3  12914.0  26.0  48000.0   Diesel  90.0       0.0        0.0  2000.0    3.0   \n",
      "4  11878.0  30.0  38500.0   Diesel  90.0       0.0        0.0  2000.0    3.0   \n",
      "\n",
      "   Weight Currency  \n",
      "0  1165.0     EURO  \n",
      "1  1165.0      CHF  \n",
      "2  1165.0      CHF  \n",
      "3  1165.0      CHF  \n",
      "4  1170.0      CHF  \n"
     ]
    }
   ],
   "source": [
    "#TODO\n",
    "# Try loading with different parameters\n",
    "try:\n",
    "    df = pd.read_csv(\"data\\Task1-2.ToyotaCorolla.csv\", on_bad_lines=\"skip\", encoding=\"utf-8\")\n",
    "    print(df.head())  # Display first 5 rows\n",
    "except Exception as e:\n",
    "    print(\"Error encountered:\", e)\n",
    "\n",
    "# # If you still face issues, inspect the file manually\n",
    "# with open(\"data/Task1-2.ToyotaCorolla-raw.csv\", \"r\", encoding=\"utf-8\") as file:\n",
    "#     for _ in range(10):  # Print first 10 lines\n",
    "#         print(file.readline().strip())"
   ]
  },
  {
   "cell_type": "markdown",
   "id": "b0b5f57b",
   "metadata": {},
   "source": [
    "**1.2 (2 pts)**: Check if there are nan values in the Dataframe. If there are, try to find out which row is problematic and fix it. If you can't fix it, drop the row."
   ]
  },
  {
   "cell_type": "code",
   "execution_count": 3,
   "id": "a1197b0a",
   "metadata": {},
   "outputs": [
    {
     "name": "stdout",
     "output_type": "stream",
     "text": [
      "Missing values per column:\n",
      " Price        0\n",
      "Age          1\n",
      "Mileage      1\n",
      "FuelType     1\n",
      "HP           1\n",
      "MetColor     1\n",
      "Automatic    1\n",
      "CC           1\n",
      "Doors        1\n",
      "Weight       1\n",
      "Currency     1\n",
      "dtype: int64\n",
      "Problematic rows:\n",
      "                                                 Price  Age Mileage FuelType  \\\n",
      "905  8423.0;68;58860.0;Petrol;110;1;0;1600;3;1055;CHF  NaN     NaN      NaN   \n",
      "\n",
      "     HP  MetColor  Automatic  CC  Doors  Weight Currency  \n",
      "905 NaN       NaN        NaN NaN    NaN     NaN      NaN  \n"
     ]
    }
   ],
   "source": [
    "#TODO\n",
    "\n",
    "# Check for NaN values\n",
    "nan_summary = df.isna().sum()\n",
    "print(\"Missing values per column:\\n\", nan_summary)\n",
    "\n",
    "# Identify problematic rows\n",
    "problematic_rows = df[df.isna().any(axis=1)]\n",
    "print(\"Problematic rows:\\n\", problematic_rows)"
   ]
  },
  {
   "cell_type": "code",
   "execution_count": 4,
   "id": "9315a454",
   "metadata": {},
   "outputs": [
    {
     "name": "stdout",
     "output_type": "stream",
     "text": [
      "Original DataFrame:\n",
      " Price        1436\n",
      "Age          1435\n",
      "Mileage      1435\n",
      "FuelType     1435\n",
      "HP           1435\n",
      "MetColor     1435\n",
      "Automatic    1435\n",
      "CC           1435\n",
      "Doors        1435\n",
      "Weight       1435\n",
      "Currency     1435\n",
      "dtype: int64\n",
      "Cleaned DataFrame:\n",
      " Price        1435\n",
      "Age          1435\n",
      "Mileage      1435\n",
      "FuelType     1435\n",
      "HP           1435\n",
      "MetColor     1435\n",
      "Automatic    1435\n",
      "CC           1435\n",
      "Doors        1435\n",
      "Weight       1435\n",
      "Currency     1435\n",
      "dtype: int64\n"
     ]
    }
   ],
   "source": [
    "# Fix or drop NaN values\n",
    "# # Option 1: Fill NaNs with a placeholder (if possible)\n",
    "# df_filled = df.fillna(method=\"ffill\")  # Forward fill (use previous row value)\n",
    "# # df_filled = df.fillna(0)  # Alternatively, replace NaNs with 0\n",
    "\n",
    "# Option 2: Drop problematic rows if they can't be fixed\n",
    "df_cleaned = df.dropna()\n",
    "\n",
    "# Display the cleaned DataFrame\n",
    "print(\"Original DataFrame:\\n\", df.count())\n",
    "print(\"Cleaned DataFrame:\\n\", df_cleaned.count())"
   ]
  },
  {
   "cell_type": "markdown",
   "id": "303e0f76",
   "metadata": {},
   "source": [
    "**1.3 (4 pts): Compute the mean, median of the `Price` column.**\n",
    "\n",
    "- Compute the mean and median of the `Price` column. If you encounter error, try to understand why this error is happening and propose a solution.\n",
    "\n",
    "Hint: Is all values in the `Price` column numerical?\n"
   ]
  },
  {
   "cell_type": "code",
   "execution_count": 5,
   "id": "5d7b18e2",
   "metadata": {},
   "outputs": [
    {
     "name": "stdout",
     "output_type": "stream",
     "text": [
      "count       1435\n",
      "unique       311\n",
      "top       7731.0\n",
      "freq          94\n",
      "Name: Price, dtype: object\n"
     ]
    }
   ],
   "source": [
    "#TODO\n",
    "print(df_cleaned[\"Price\"].describe())"
   ]
  },
  {
   "cell_type": "code",
   "execution_count": 6,
   "id": "556abc0d",
   "metadata": {},
   "outputs": [
    {
     "name": "stdout",
     "output_type": "stream",
     "text": [
      "count    1.435000e+03\n",
      "mean     1.073066e+13\n",
      "std      4.064924e+14\n",
      "min      3.758000e+03\n",
      "25%      7.343000e+03\n",
      "50%      8.595000e+03\n",
      "75%      1.032300e+04\n",
      "max      1.539850e+16\n",
      "Name: Price, dtype: float64\n"
     ]
    },
    {
     "name": "stderr",
     "output_type": "stream",
     "text": [
      "C:\\Users\\Pavel Detvan\\AppData\\Local\\Temp\\ipykernel_3696\\3578454741.py:5: SettingWithCopyWarning: \n",
      "A value is trying to be set on a copy of a slice from a DataFrame.\n",
      "Try using .loc[row_indexer,col_indexer] = value instead\n",
      "\n",
      "See the caveats in the documentation: https://pandas.pydata.org/pandas-docs/stable/user_guide/indexing.html#returning-a-view-versus-a-copy\n",
      "  df_cleaned[\"Price\"] = pd.to_numeric(df_cleaned[\"Price\"], errors=\"coerce\")\n"
     ]
    }
   ],
   "source": [
    "# Clean the 'Price' column using regex\n",
    "df_cleaned.loc[:, \"Price\"] = df_cleaned[\"Price\"].astype(str).str.replace(r\"[^\\d.]\", \"\", regex=True)\n",
    "\n",
    "# Convert to numeric\n",
    "df_cleaned[\"Price\"] = pd.to_numeric(df_cleaned[\"Price\"], errors=\"coerce\")\n",
    "print(df_cleaned[\"Price\"].describe())"
   ]
  },
  {
   "cell_type": "code",
   "execution_count": 7,
   "id": "ee982a9a",
   "metadata": {},
   "outputs": [
    {
     "name": "stdout",
     "output_type": "stream",
     "text": [
      "0\n"
     ]
    }
   ],
   "source": [
    "print(df_cleaned[\"Price\"].isna().sum())"
   ]
  },
  {
   "cell_type": "code",
   "execution_count": 8,
   "id": "fe68cfba",
   "metadata": {},
   "outputs": [
    {
     "name": "stdout",
     "output_type": "stream",
     "text": [
      "float64\n"
     ]
    }
   ],
   "source": [
    "print(df_cleaned[\"Price\"].dtype)"
   ]
  },
  {
   "cell_type": "code",
   "execution_count": 9,
   "id": "ac7a9193",
   "metadata": {},
   "outputs": [
    {
     "name": "stdout",
     "output_type": "stream",
     "text": [
      "median:  8595.0\n"
     ]
    }
   ],
   "source": [
    "print(\"median: \", df_cleaned[\"Price\"].median())"
   ]
  },
  {
   "cell_type": "code",
   "execution_count": 10,
   "id": "65a733e4",
   "metadata": {},
   "outputs": [],
   "source": [
    "# Save the cleaned dataset (optional)\n",
    "df_cleaned.to_csv(\"ToyotaCorolla_cleaned.csv\", index=False)\n",
    "\n",
    "#TODO idk but when we clean the data sometimes the price doesnt make sense.\n",
    "# Maybe drop these data?"
   ]
  },
  {
   "cell_type": "code",
   "execution_count": 11,
   "id": "409837f4",
   "metadata": {},
   "outputs": [
    {
     "name": "stdout",
     "output_type": "stream",
     "text": [
      "|    |   Price |   Age |   Mileage | FuelType   |   HP |   MetColor |   Automatic |   CC |   Doors |   Weight | Currency   |\n",
      "|---:|--------:|------:|----------:|:-----------|-----:|-----------:|------------:|-----:|--------:|---------:|:-----------|\n",
      "|  0 |   13500 |    23 |     46986 | Diesel     |   90 |          1 |           0 | 2000 |       3 |     1165 | EURO       |\n",
      "|  1 |   11878 |    23 |     72937 | Diesel     |   90 |          1 |           0 | 2000 |       3 |     1165 | CHF        |\n",
      "|  2 |   12050 |    24 |     41711 | Diesel     |   90 |          1 |           0 | 2000 |       3 |     1165 | CHF        |\n",
      "|  3 |   12914 |    26 |     48000 | Diesel     |   90 |          0 |           0 | 2000 |       3 |     1165 | CHF        |\n",
      "|  4 |   11878 |    30 |     38500 | Diesel     |   90 |          0 |           0 | 2000 |       3 |     1170 | CHF        |\n"
     ]
    }
   ],
   "source": [
    "print(df_cleaned.head().to_markdown())"
   ]
  },
  {
   "cell_type": "markdown",
   "id": "62a727c9",
   "metadata": {},
   "source": [
    "**1.4 (4 pts): Convert Units**\n",
    "\n",
    "You notice that some prices are in CHF (Swiss Francs), while others are in EUR (Euros) or GBP (British Pounds). Additionally, for cars priced in GBP, the mileage is in miles rather than kilometers.\n",
    "\n",
    "For consistency, convert all prices to EUR and all distances to kilometers.\n",
    "\n",
    "- Exchange rates:\n",
    "  - 1 CHF = 1.05 EUR\n",
    "  - 1 GBP = 1.15 EUR\n",
    "  - 1 mile = 1.61 km\n",
    "\n",
    "Make the following conversions:\n",
    "1. Convert prices in CHF or GBP to EUR, rounding to the nearest integer.\n",
    "2. Convert distances in miles (for GBP cars) to kilometers, rounding to the nearest integer.\n",
    "3. Drop the 'Currency' column.\n",
    "4. Calculate the min, mean, median and max of the 'Price' and 'Distance' columns after the conversion."
   ]
  },
  {
   "cell_type": "code",
   "execution_count": 12,
   "id": "4cbb7d96",
   "metadata": {},
   "outputs": [
    {
     "name": "stdout",
     "output_type": "stream",
     "text": [
      "object\n"
     ]
    }
   ],
   "source": [
    "print(df_cleaned[\"Mileage\"].dtype)"
   ]
  },
  {
   "cell_type": "code",
   "execution_count": 13,
   "id": "b4fc4a86",
   "metadata": {},
   "outputs": [
    {
     "name": "stderr",
     "output_type": "stream",
     "text": [
      "C:\\Users\\Pavel Detvan\\AppData\\Local\\Temp\\ipykernel_3696\\1980871403.py:10: SettingWithCopyWarning: \n",
      "A value is trying to be set on a copy of a slice from a DataFrame.\n",
      "Try using .loc[row_indexer,col_indexer] = value instead\n",
      "\n",
      "See the caveats in the documentation: https://pandas.pydata.org/pandas-docs/stable/user_guide/indexing.html#returning-a-view-versus-a-copy\n",
      "  df_cleaned[\"Price\"] = df_cleaned.apply(convert_price, axis=1)\n"
     ]
    },
    {
     "name": "stdout",
     "output_type": "stream",
     "text": [
      "Price Statistics (in EUR): count    1.435000e+03\n",
      "mean     1.234026e+13\n",
      "std      4.674663e+14\n",
      "min      3.946000e+03\n",
      "25%      7.710000e+03\n",
      "50%      9.025000e+03\n",
      "75%      1.083900e+04\n",
      "max      1.770827e+16\n",
      "Name: Price, dtype: float64 \n",
      " 9025.0\n",
      "Mileage Statistics (in km): count      1434.000000\n",
      "mean      68563.357043\n",
      "std       37521.369412\n",
      "min           1.000000\n",
      "25%       43000.000000\n",
      "50%       63455.000000\n",
      "75%       87062.250000\n",
      "max      243000.000000\n",
      "Name: Mileage, dtype: float64 \n",
      " 63455.0\n"
     ]
    },
    {
     "name": "stderr",
     "output_type": "stream",
     "text": [
      "C:\\Users\\Pavel Detvan\\AppData\\Local\\Temp\\ipykernel_3696\\1980871403.py:14: SettingWithCopyWarning: \n",
      "A value is trying to be set on a copy of a slice from a DataFrame.\n",
      "Try using .loc[row_indexer,col_indexer] = value instead\n",
      "\n",
      "See the caveats in the documentation: https://pandas.pydata.org/pandas-docs/stable/user_guide/indexing.html#returning-a-view-versus-a-copy\n",
      "  df_cleaned[\"Mileage\"] = pd.to_numeric(df_cleaned[\"Mileage\"], errors=\"coerce\")\n",
      "C:\\Users\\Pavel Detvan\\AppData\\Local\\Temp\\ipykernel_3696\\1980871403.py:22: SettingWithCopyWarning: \n",
      "A value is trying to be set on a copy of a slice from a DataFrame.\n",
      "Try using .loc[row_indexer,col_indexer] = value instead\n",
      "\n",
      "See the caveats in the documentation: https://pandas.pydata.org/pandas-docs/stable/user_guide/indexing.html#returning-a-view-versus-a-copy\n",
      "  df_cleaned[\"Mileage\"] = df_cleaned.apply(convert_mileage, axis=1)\n",
      "C:\\Users\\Pavel Detvan\\AppData\\Local\\Temp\\ipykernel_3696\\1980871403.py:25: SettingWithCopyWarning: \n",
      "A value is trying to be set on a copy of a slice from a DataFrame\n",
      "\n",
      "See the caveats in the documentation: https://pandas.pydata.org/pandas-docs/stable/user_guide/indexing.html#returning-a-view-versus-a-copy\n",
      "  df_cleaned.drop(columns=[ \"Currency\"], inplace=True)\n"
     ]
    }
   ],
   "source": [
    "#TODO\n",
    "# Convert Prices to EUR based on 'Currency' column\n",
    "def convert_price(row):\n",
    "    if row[\"Currency\"] == \"CHF\":\n",
    "        return round(row[\"Price\"] * 1.05)  # Convert CHF to EUR (real 1.06 13/02/25)\n",
    "    elif row[\"Currency\"] == \"GBP\":\n",
    "        return round(row[\"Price\"] * 1.15)  # Convert GBP to EUR (real 1.25 13/02/25)\n",
    "    return row[\"Price\"]  # Keep EUR\n",
    "\n",
    "df_cleaned[\"Price\"] = df_cleaned.apply(convert_price, axis=1)\n",
    "\n",
    "# Clean 'Mileage' column\n",
    "#df_cleaned[\"Mileage\"] = df_cleaned[\"Mileage\"].astype(str).str.replace(r'[^\\d.]', '', regex=True)  # Remove non-numeric characters\n",
    "df_cleaned[\"Mileage\"] = pd.to_numeric(df_cleaned[\"Mileage\"], errors=\"coerce\")\n",
    "\n",
    "# Convert miles to km for GBP currency\n",
    "def convert_mileage(row):\n",
    "    if row[\"Currency\"] == \"GBP\":\n",
    "        return round(row[\"Mileage\"] * 1.61)  # Convert miles to km\n",
    "    return row[\"Mileage\"]  # Keep km\n",
    "\n",
    "df_cleaned[\"Mileage\"] = df_cleaned.apply(convert_mileage, axis=1)\n",
    "\n",
    "# Drop 'Currency' column\n",
    "df_cleaned.drop(columns=[ \"Currency\"], inplace=True)\n",
    "\n",
    "# Compute statistics for 'Price' and 'Mileage'\n",
    "price_stats = {\n",
    "    \"Statistics Price\": df_cleaned[\"Price\"].describe(),\n",
    "    \"Median Price\": df_cleaned[\"Price\"].median(),\n",
    "}\n",
    "\n",
    "mileage_stats = {\n",
    "    \"Statistics Mileage\": df_cleaned[\"Mileage\"].describe(),\n",
    "    \"Median Mileage\": df_cleaned[\"Mileage\"].median(),\n",
    "}\n",
    "\n",
    "# Display results\n",
    "print(\"Price Statistics (in EUR):\", df_cleaned[\"Price\"].describe(), \"\\n\", df_cleaned[\"Price\"].median())\n",
    "print(\"Mileage Statistics (in km):\", df_cleaned[\"Mileage\"].describe(), \"\\n\", df_cleaned[\"Mileage\"].median())\n"
   ]
  },
  {
   "cell_type": "code",
   "execution_count": 14,
   "id": "a06fb63b",
   "metadata": {},
   "outputs": [],
   "source": [
    "# Save cleaned dataset (optional)\n",
    "df_cleaned.to_csv(\"ToyotaCorolla_cleaned.csv\", index=False)"
   ]
  },
  {
   "cell_type": "code",
   "execution_count": 15,
   "id": "ab52657b",
   "metadata": {},
   "outputs": [
    {
     "name": "stdout",
     "output_type": "stream",
     "text": [
      "Entries with Price above threshold: 1\n"
     ]
    }
   ],
   "source": [
    "threshold = 40000\n",
    "\n",
    "# Count the number of entries with Price above the threshold\n",
    "count_above = df_cleaned[df_cleaned[\"Price\"] > threshold].shape[0]\n",
    "print(\"Entries with Price above threshold:\", count_above)"
   ]
  },
  {
   "cell_type": "markdown",
   "id": "ae32dd59",
   "metadata": {},
   "source": [
    "So after analyzing the price, we can see we have only one car with a price above 30k. And this car is: \"15,398,499999999998\",22,25465.838509316767,Petrol,97,1,0,1400,3,1100,GBP\n",
    "\n",
    "because the price is weird, we will delete this entry."
   ]
  },
  {
   "cell_type": "code",
   "execution_count": 16,
   "id": "0949dacc",
   "metadata": {},
   "outputs": [
    {
     "name": "stdout",
     "output_type": "stream",
     "text": [
      "count     1434.000000\n",
      "mean      9868.926778\n",
      "std       3358.236237\n",
      "min       3946.000000\n",
      "25%       7710.000000\n",
      "50%       9025.000000\n",
      "75%      10839.000000\n",
      "max      29478.000000\n",
      "Name: Price, dtype: float64\n"
     ]
    }
   ],
   "source": [
    "# Keep only rows where Price is less than or equal to threshold\n",
    "df_cleaned = df_cleaned[df_cleaned[\"Price\"] <= threshold]\n",
    "\n",
    "# Optionally, check the updated DataFrame\n",
    "print(df_cleaned[\"Price\"].describe())"
   ]
  },
  {
   "cell_type": "markdown",
   "id": "a0cf32bd",
   "metadata": {},
   "source": [
    "**1.5 (2 pts): Analyze Average Price**\n",
    "\n",
    "A.  Print the average price for each fuel type. Determine which fuel type has the highest average price.\n",
    "\n",
    "B.  Print the average price for different numbers of doors. Determine which number of doors has the highest average price."
   ]
  },
  {
   "cell_type": "code",
   "execution_count": 17,
   "id": "31e405cd",
   "metadata": {},
   "outputs": [
    {
     "name": "stdout",
     "output_type": "stream",
     "text": [
      "Average Price by Fuel Type:\n",
      "FuelType\n",
      "CNG        8752.176471\n",
      "Diesel    10366.490323\n",
      "Petrol     9822.858954\n",
      "Name: Price, dtype: float64\n",
      "\n",
      "Fuel Type with the Highest Average Price: Diesel\n"
     ]
    }
   ],
   "source": [
    "#TODO\n",
    "# Average Price by Fuel Type\n",
    "avg_price_by_fuel = df_cleaned.groupby('FuelType')['Price'].mean()\n",
    "print(\"Average Price by Fuel Type:\")\n",
    "print(avg_price_by_fuel)\n",
    "\n",
    "# Determine the fuel type with the highest average price\n",
    "highest_avg_fuel = avg_price_by_fuel.idxmax()\n",
    "print(\"\\nFuel Type with the Highest Average Price:\", highest_avg_fuel)"
   ]
  },
  {
   "cell_type": "code",
   "execution_count": 18,
   "id": "2333e1b2",
   "metadata": {},
   "outputs": [
    {
     "name": "stdout",
     "output_type": "stream",
     "text": [
      "\n",
      "Average Price by Number of Doors:\n",
      "Doors\n",
      "2.0     7347.000000\n",
      "3.0     9293.535484\n",
      "4.0     9024.297101\n",
      "5.0    10578.637982\n",
      "Name: Price, dtype: float64\n",
      "\n",
      "Number of Doors with the Highest Average Price: 5.0\n"
     ]
    }
   ],
   "source": [
    "# Average Price by Number of Doors\n",
    "avg_price_by_doors = df_cleaned.groupby('Doors')['Price'].mean()\n",
    "print(\"\\nAverage Price by Number of Doors:\")\n",
    "print(avg_price_by_doors)\n",
    "\n",
    "# Determine the number of doors with the highest average price\n",
    "highest_avg_doors = avg_price_by_doors.idxmax()\n",
    "print(\"\\nNumber of Doors with the Highest Average Price:\", highest_avg_doors)"
   ]
  },
  {
   "cell_type": "markdown",
   "id": "f9fa4698",
   "metadata": {},
   "source": [
    "**1.6 (2 pts): Relationship Between Car Age and Price**\n",
    "\n",
    "It is intuitive that an older car tends to be cheaper, and a car with more mileage might also be less expensive. \n",
    "\n",
    "To explore this intuition, create two scatter plots:\n",
    "1. Car Age vs Price\n",
    "2. Mileage vs Price"
   ]
  },
  {
   "cell_type": "code",
   "execution_count": 19,
   "id": "c1ac6aee",
   "metadata": {},
   "outputs": [
    {
     "data": {
      "image/png": "[encoded data removed]",
      "text/plain": [
       "<Figure size 1200x500 with 2 Axes>"
      ]
     },
     "metadata": {},
     "output_type": "display_data"
    }
   ],
   "source": [
    "#TODO\n",
    "plt.figure(figsize=(12, 5))\n",
    "\n",
    "# Scatter Plot 1: Car Age vs Price\n",
    "plt.subplot(1, 2, 1) \n",
    "plt.scatter(df_cleaned[\"Age\"], df_cleaned[\"Price\"], alpha=0.5, color='blue')\n",
    "plt.xlabel(\"Car Age (months)\")\n",
    "plt.ylabel(\"Price (EUR)\")\n",
    "plt.title(\"Car Age vs Price\")\n",
    "\n",
    "# Scatter Plot 2: Mileage vs Price\n",
    "plt.subplot(1, 2, 2)\n",
    "plt.scatter(df_cleaned[\"Mileage\"], df_cleaned[\"Price\"], alpha=0.5, color='green')\n",
    "plt.xlabel(\"Mileage (km)\")\n",
    "plt.ylabel(\"Price (EUR)\")\n",
    "plt.title(\"Mileage vs Price\")\n",
    "\n",
    "plt.tight_layout()\n",
    "\n",
    "# Display the plots\n",
    "plt.show()\n"
   ]
  },
  {
   "cell_type": "markdown",
   "id": "0f6531d1",
   "metadata": {},
   "source": [
    "**1.7 (4 pts): Correlation Between Price and Mileage**\n",
    "\n",
    "The relationship between car price and mileage appears non-linear, with a steeper price drop initially followed by a flatter curve.\n",
    "\n",
    "A.(2 pts)  Calculate both the Pearson and Spearman correlations between the price of the car and the distance driven.\n"
   ]
  },
  {
   "cell_type": "code",
   "execution_count": 20,
   "id": "718ca9aa",
   "metadata": {},
   "outputs": [
    {
     "name": "stdout",
     "output_type": "stream",
     "text": [
      "Pearson Correlation between Price and Mileage: -0.5648010913496245\n",
      "Spearman Correlation between Price and Mileage: -0.6054477630274099\n"
     ]
    }
   ],
   "source": [
    "#TODO\n",
    "# Compute Pearson correlation\n",
    "pearson_corr = df_cleaned[\"Price\"].corr(df_cleaned[\"Mileage\"], method=\"pearson\")\n",
    "print(\"Pearson Correlation between Price and Mileage:\", pearson_corr)\n",
    "\n",
    "# Compute Spearman correlation\n",
    "spearman_corr = df_cleaned[\"Price\"].corr(df_cleaned[\"Mileage\"], method=\"spearman\")\n",
    "print(\"Spearman Correlation between Price and Mileage:\", spearman_corr)\n"
   ]
  },
  {
   "cell_type": "markdown",
   "id": "ee3638a1",
   "metadata": {},
   "source": [
    "\n",
    "B.(2 pts)  Which correlation value is higher? Does this result align with your expectations?"
   ]
  },
  {
   "cell_type": "markdown",
   "id": "4293e001",
   "metadata": {},
   "source": [
    "Your Response:\n",
    "\n",
    "//**//\n",
    "\n",
    "The Spearman correlation (-0.6054) is slightly higher (in absolute terms) than the Pearson correlation (-0.5648). This result aligns with the exctations because the relationship between car price and mileage is non-linear. While Pearson's correlation measures the strength of a linear relationship, Spearman's correlation evaluates the strength of a monotonic relationship by ranking the data. In this case, since the price drop is steeper at lower mileage and then flattens out, the rank-based Spearman method captures the non-linear pattern more effectively, resulting in a higher absolute correlation value."
   ]
  },
  {
   "cell_type": "markdown",
   "id": "4827d3d8",
   "metadata": {},
   "source": [
    "## Part 2 Linear Regression (30 pts)\n",
    "\n",
    "You want to build a linear regression model to predict the price of a car based on the features you have.\n",
    "\n"
   ]
  },
  {
   "cell_type": "markdown",
   "id": "058120ef",
   "metadata": {},
   "source": [
    "**2.0 (8 pts) Helper functions**\n",
    "\n",
    "Before building the linear regression model, you need to implement some helper functions.\n",
    "\n",
    " Implement the `accuracy` , `precision`, `recall` and `f1_score` functions. \n",
    "\n",
    "1. These functions should take in the true labels(`np.array`) and the predicted labels(`np.array`) and return the corresponding metric. \n",
    "2. They should follow the convention that the positive class is 1 and the negative class is 0.\n",
    "3. Apply the functions to the following data:\n",
    "\n",
    "```python\n",
    "true_labels = np.array([1, 0, 1, 1, 0, 1, 0, 0, 1, 0])\n",
    "predicted_labels = np.array([1, 1, 1, 1, 0, 0, 1, 0, 1, 0])\n",
    "```\n",
    "\n",
    "- Compare the results with the implementation in `sklearn` and see if they match."
   ]
  },
  {
   "cell_type": "code",
   "execution_count": 25,
   "id": "7e5cff50",
   "metadata": {},
   "outputs": [],
   "source": [
    "#TODO\n",
    "def accuracy(true_labels, predicted_labels):\n",
    "    return np.mean(true_labels == predicted_labels)\n",
    "\n",
    "def precision(true_labels, predicted_labels):\n",
    "    tp = np.sum((true_labels == 1) & (predicted_labels == 1))\n",
    "    fp = np.sum((true_labels == 0) & (predicted_labels == 1))\n",
    "    return tp / (tp + fp) if (tp + fp) > 0 else 0\n",
    "\n",
    "def recall(true_labels, predicted_labels):\n",
    "    tp = np.sum((true_labels == 1) & (predicted_labels == 1))\n",
    "    fn = np.sum((true_labels == 1) & (predicted_labels == 0))\n",
    "    return tp / (tp + fn) if (tp + fn) > 0 else 0\n",
    "\n",
    "def f1_score_custom(true_labels, predicted_labels):\n",
    "    p = precision(true_labels, predicted_labels)\n",
    "    r = recall(true_labels, predicted_labels)\n",
    "    return 2 * (p * r) / (p + r) if (p + r) > 0 else 0\n"
   ]
  },
  {
   "cell_type": "code",
   "execution_count": 33,
   "id": "5e0107ed",
   "metadata": {},
   "outputs": [
    {
     "name": "stdout",
     "output_type": "stream",
     "text": [
      "Custom Metrics:\n",
      "Accuracy: 0.7\n",
      "Precision: 0.6666666666666666\n",
      "Recall: 0.8\n",
      "F1 Score: 0.7272727272727272\n",
      "\n",
      "Sklearn Metrics:\n",
      "Accuracy: 0.7\n",
      "Precision: 0.6666666666666666\n",
      "Recall: 0.8\n",
      "F1 Score: 0.7272727272727273\n"
     ]
    }
   ],
   "source": [
    "# Given data\n",
    "from sklearn.metrics import f1_score, precision_score, recall_score, accuracy_score\n",
    "\n",
    "\n",
    "true_labels = np.array([1, 0, 1, 1, 0, 1, 0, 0, 1, 0])\n",
    "predicted_labels = np.array([1, 1, 1, 1, 0, 0, 1, 0, 1, 0])\n",
    "\n",
    "# Compute metrics using our functions\n",
    "acc = accuracy(true_labels, predicted_labels)\n",
    "prec = precision(true_labels, predicted_labels)\n",
    "rec = recall(true_labels, predicted_labels)\n",
    "f1 = f1_score_custom(true_labels, predicted_labels)\n",
    "\n",
    "print(\"Custom Metrics:\")\n",
    "print(\"Accuracy:\", acc)\n",
    "print(\"Precision:\", prec)\n",
    "print(\"Recall:\", rec)\n",
    "print(\"F1 Score:\", f1)\n",
    "\n",
    "# Compute metrics using sklearn for comparison\n",
    "sklearn_acc = accuracy_score(true_labels, predicted_labels)\n",
    "sklearn_prec = precision_score(true_labels, predicted_labels)\n",
    "sklearn_rec = recall_score(true_labels, predicted_labels)\n",
    "sklearn_f1 = f1_score(true_labels, predicted_labels)\n",
    "\n",
    "print(\"\\nSklearn Metrics:\")\n",
    "print(\"Accuracy:\", sklearn_acc)\n",
    "print(\"Precision:\", sklearn_prec)\n",
    "print(\"Recall:\", sklearn_rec)\n",
    "print(\"F1 Score:\", sklearn_f1)"
   ]
  },
  {
   "cell_type": "markdown",
   "id": "06e49af9",
   "metadata": {},
   "source": [
    "\n",
    "**2.1 (6 pts) Preprocess the Data**\n",
    "\n",
    "To prepare your data for building a linear regression model, complete the following steps:\n",
    "\n",
    "A.(1 pts) Convert the categorical variables to one-hot encoding using the `pd.get_dummies()` function, how many columns do you have after the one-hot encoding? (P.S. You may want to avoid introducing multicollinearity with one-hot encoding, what should you do to avoid this?)\n"
   ]
  },
  {
   "cell_type": "code",
   "execution_count": 34,
   "id": "8f65013a",
   "metadata": {},
   "outputs": [
    {
     "name": "stdout",
     "output_type": "stream",
     "text": [
      "Total number of columns after one-hot encoding: 11\n"
     ]
    }
   ],
   "source": [
    "#TODO\n",
    "# Convert categorical columns to dummy variables; drop_first=True to avoid multicollinearity\n",
    "df_encoded = pd.get_dummies(df_cleaned, drop_first=True)\n",
    "\n",
    "# Check how many columns we have after encoding\n",
    "print(\"Total number of columns after one-hot encoding:\", df_encoded.shape[1])"
   ]
  },
  {
   "cell_type": "code",
   "execution_count": null,
   "id": "16f6727e",
   "metadata": {},
   "outputs": [
    {
     "name": "stdout",
     "output_type": "stream",
     "text": [
      "Total number of columns before one-hot encoding: 10\n"
     ]
    }
   ],
   "source": [
    "print(\"Total number of columns before one-hot encoding:\", df_cleaned.shape[1])"
   ]
  },
  {
   "cell_type": "code",
   "execution_count": 36,
   "id": "4cdb0739",
   "metadata": {},
   "outputs": [
    {
     "name": "stdout",
     "output_type": "stream",
     "text": [
      "|    |   Price |   Age |   Mileage |   HP |   MetColor |   Automatic |   CC |   Doors |   Weight | FuelType_Diesel   | FuelType_Petrol   |\n",
      "|---:|--------:|------:|----------:|-----:|-----------:|------------:|-----:|--------:|---------:|:------------------|:------------------|\n",
      "|  0 |   13500 |    23 |     46986 |   90 |          1 |           0 | 2000 |       3 |     1165 | True              | False             |\n",
      "|  1 |   12472 |    23 |     72937 |   90 |          1 |           0 | 2000 |       3 |     1165 | True              | False             |\n",
      "|  2 |   12652 |    24 |     41711 |   90 |          1 |           0 | 2000 |       3 |     1165 | True              | False             |\n",
      "|  3 |   13560 |    26 |     48000 |   90 |          0 |           0 | 2000 |       3 |     1165 | True              | False             |\n",
      "|  4 |   12472 |    30 |     38500 |   90 |          0 |           0 | 2000 |       3 |     1170 | True              | False             |\n"
     ]
    }
   ],
   "source": [
    "print(df_encoded.head().to_markdown())"
   ]
  },
  {
   "cell_type": "markdown",
   "id": "277a3124",
   "metadata": {},
   "source": [
    "We should avoid having multicollinearity because it will add redundant information. It will introduce Variables that are linearly dependent, because n - 1, where n is the amount of categories that are One-Hot encoded, are enough to determine the nth column."
   ]
  },
  {
   "cell_type": "markdown",
   "id": "15f24e26",
   "metadata": {},
   "source": [
    "B.(1 pts) Split the data into features (X) and target (y) variables. The target variable is the 'Price' column. Then split the data into train test sets using a 80-20 split. Use `random_state=42` for reproducibility. How many samples are in the training set and how many samples are in the test set?\n"
   ]
  },
  {
   "cell_type": "code",
   "execution_count": 43,
   "id": "f747909f",
   "metadata": {},
   "outputs": [
    {
     "name": "stdout",
     "output_type": "stream",
     "text": [
      "       Price   Age  Mileage    HP  MetColor  Automatic      CC  Doors  Weight  \\\n",
      "1369  7483.0  80.0      NaN  86.0       0.0        0.0  1300.0    3.0  1015.0   \n",
      "\n",
      "      FuelType_Diesel  FuelType_Petrol  \n",
      "1369            False             True  \n"
     ]
    }
   ],
   "source": [
    "# Alternatively, display rows that have at least one NaN value\n",
    "print(df_encoded[df_encoded.isna().any(axis=1)])"
   ]
  },
  {
   "cell_type": "markdown",
   "id": "d6f1063b",
   "metadata": {},
   "source": [
    "There is one car for which the mileage is NaN, lets delete it as well."
   ]
  },
  {
   "cell_type": "code",
   "execution_count": 45,
   "id": "3f1a5962",
   "metadata": {},
   "outputs": [
    {
     "name": "stdout",
     "output_type": "stream",
     "text": [
      "Empty DataFrame\n",
      "Columns: [Price, Age, Mileage, HP, MetColor, Automatic, CC, Doors, Weight, FuelType_Diesel, FuelType_Petrol]\n",
      "Index: []\n"
     ]
    }
   ],
   "source": [
    "# Remove rows with any NaN values\n",
    "df_encoded = df_encoded.dropna()\n",
    "\n",
    "# Verify removal by checking for NaN values again\n",
    "print(df_encoded[df_encoded.isna().any(axis=1)])"
   ]
  },
  {
   "cell_type": "code",
   "execution_count": 46,
   "id": "9f3ea52d",
   "metadata": {},
   "outputs": [
    {
     "name": "stdout",
     "output_type": "stream",
     "text": [
      "Number of training samples: 1146\n",
      "Number of test samples: 287\n"
     ]
    }
   ],
   "source": [
    "#TODO\n",
    "from sklearn.model_selection import train_test_split\n",
    "\n",
    "# Separate features (X) and target (y)\n",
    "X = df_encoded.drop('Price', axis=1)\n",
    "y = df_encoded['Price']\n",
    "\n",
    "# Split the data into train (80%) and test (20%)\n",
    "X_train, X_test, y_train, y_test = train_test_split(X, y, test_size=0.2, random_state=42)\n",
    "\n",
    "# Print number of samples in train and test sets\n",
    "print(\"Number of training samples:\", X_train.shape[0])\n",
    "print(\"Number of test samples:\", X_test.shape[0])"
   ]
  },
  {
   "cell_type": "markdown",
   "id": "f6992805",
   "metadata": {},
   "source": [
    "C.(1 pts) Why do we split the data into only train-test sets but not train-validation-test sets? "
   ]
  },
  {
   "cell_type": "markdown",
   "id": "038285f4",
   "metadata": {},
   "source": [
    "Your Response:\n",
    "\n",
    "//**//\n",
    "\n",
    "We typically split the data into just train and test sets because the test set is held out to evaluate the final model performance.\n",
    "Any tuning or validation is done via cross-validation on the training set, which avoids the need for a separate validation set.\n",
    "Keeping a separate test set ensures an unbiased evaluation of the model’s generalization performance on unseen data."
   ]
  },
  {
   "cell_type": "markdown",
   "id": "fe1b8bdf",
   "metadata": {},
   "source": [
    "D.(1 pts) **Standardize the Features**: Use `StandardScaler` from `sklearn.preprocessing` and then add a constant column using `sm.add_constant()`. Print the average and standard deviation of the training set after standardization."
   ]
  },
  {
   "cell_type": "code",
   "execution_count": 47,
   "id": "0743e6d6",
   "metadata": {},
   "outputs": [
    {
     "name": "stdout",
     "output_type": "stream",
     "text": [
      "Feature means (should be close to 0):\n",
      "Age                1.705055e-16\n",
      "Mileage           -1.922062e-16\n",
      "HP                 6.200198e-17\n",
      "MetColor          -1.550050e-18\n",
      "Automatic          2.480079e-17\n",
      "CC                -5.068662e-16\n",
      "Doors             -3.503112e-16\n",
      "Weight            -1.918186e-15\n",
      "FuelType_Diesel   -1.395045e-17\n",
      "FuelType_Petrol   -1.519049e-16\n",
      "dtype: float64\n",
      "\n",
      "Feature standard deviations (should be close to 1):\n",
      "Age                1.0\n",
      "Mileage            1.0\n",
      "HP                 1.0\n",
      "MetColor           1.0\n",
      "Automatic          1.0\n",
      "CC                 1.0\n",
      "Doors              1.0\n",
      "Weight             1.0\n",
      "FuelType_Diesel    1.0\n",
      "FuelType_Petrol    1.0\n",
      "dtype: float64\n"
     ]
    }
   ],
   "source": [
    "#TODO\n",
    "from sklearn.preprocessing import StandardScaler\n",
    "\n",
    "# Initialize and fit the scaler on the training features\n",
    "scaler = StandardScaler() # Computes the mean and standard deviation from the training data and scales the data accordingly\n",
    "X_train_scaled = scaler.fit_transform(X_train)\n",
    "\n",
    "# Convert scaled features back to a DataFrame (for inspection)\n",
    "X_train_scaled_df = pd.DataFrame(X_train_scaled, columns=X_train.columns, index=X_train.index)\n",
    "\n",
    "# Add a constant column for the intercept\n",
    "X_train_final = sm.add_constant(X_train_scaled_df)\n",
    "\n",
    "# Print the mean and standard deviation for each feature (excluding the constant column)\n",
    "print(\"Feature means (should be close to 0):\")\n",
    "print(np.mean(X_train_final.drop('const', axis=1), axis=0))\n",
    "\n",
    "print(\"\\nFeature standard deviations (should be close to 1):\")\n",
    "print(np.std(X_train_final.drop('const', axis=1), axis=0))\n"
   ]
  },
  {
   "cell_type": "markdown",
   "id": "ebec9402",
   "metadata": {},
   "source": [
    "E.(2 pts) Should we first standardize the data and then split it into train and test sets or vice versa?   why?"
   ]
  },
  {
   "cell_type": "markdown",
   "id": "49dfe2b6",
   "metadata": {},
   "source": [
    "Your Response:\n",
    "\n",
    "//**//\n",
    "\n",
    "We should split the data into train and test sets first, and then standardize using parameters (mean and std) computed only on the training data.\n",
    "This prevents data leakage—using information from the test set to transform the training data—which can lead to overly optimistic performance estimates.\n",
    "Once the scaler is fit on the training data, the same transformation is applied to the test data."
   ]
  },
  {
   "cell_type": "markdown",
   "id": "012c220d",
   "metadata": {},
   "source": [
    "**2.2 (10 pts) Train and Evaluate the Linear Regression Model**\n",
    "\n",
    "To train a linear regression model using and evaluate its performance, follow these steps:\n",
    "\n",
    "1. (2 pts) Train a linear regression model on the training dataset using `sm.OLS` from `statsmodels`, print the summary of the model using `model.summary()`.\n"
   ]
  },
  {
   "cell_type": "code",
   "execution_count": 48,
   "id": "0f4b338d",
   "metadata": {},
   "outputs": [
    {
     "name": "stdout",
     "output_type": "stream",
     "text": [
      "                            OLS Regression Results                            \n",
      "==============================================================================\n",
      "Dep. Variable:                  Price   R-squared:                       0.849\n",
      "Model:                            OLS   Adj. R-squared:                  0.848\n",
      "Method:                 Least Squares   F-statistic:                     639.5\n",
      "Date:                Fri, 14 Feb 2025   Prob (F-statistic):               0.00\n",
      "Time:                        17:52:40   Log-Likelihood:                -9851.1\n",
      "No. Observations:                1146   AIC:                         1.972e+04\n",
      "Df Residuals:                    1135   BIC:                         1.978e+04\n",
      "Df Model:                          10                                         \n",
      "Covariance Type:            nonrobust                                         \n",
      "===================================================================================\n",
      "                      coef    std err          t      P>|t|      [0.025      0.975]\n",
      "-----------------------------------------------------------------------------------\n",
      "const            9901.8482     38.860    254.806      0.000    9825.602    9978.094\n",
      "Age             -2140.2723     54.407    -39.338      0.000   -2247.022   -2033.523\n",
      "Mileage          -571.5754     54.488    -10.490      0.000    -678.484    -464.666\n",
      "HP                738.1603     91.348      8.081      0.000     558.930     917.390\n",
      "MetColor           33.4386     39.261      0.852      0.395     -43.593     110.470\n",
      "Automatic          64.5194     40.024      1.612      0.107     -14.010     143.049\n",
      "CC               -514.8715    109.745     -4.692      0.000    -730.197    -299.546\n",
      "Doors             -14.2090     42.444     -0.335      0.738     -97.486      69.068\n",
      "Weight            871.1531     68.339     12.747      0.000     737.068    1005.238\n",
      "FuelType_Diesel   841.6529    177.169      4.751      0.000     494.037    1189.268\n",
      "FuelType_Petrol   381.9357    128.818      2.965      0.003     129.188     634.683\n",
      "==============================================================================\n",
      "Omnibus:                      119.303   Durbin-Watson:                   2.004\n",
      "Prob(Omnibus):                  0.000   Jarque-Bera (JB):              896.791\n",
      "Skew:                          -0.037   Prob(JB):                    1.84e-195\n",
      "Kurtosis:                       7.333   Cond. No.                         10.3\n",
      "==============================================================================\n",
      "\n",
      "Notes:\n",
      "[1] Standard Errors assume that the covariance matrix of the errors is correctly specified.\n"
     ]
    }
   ],
   "source": [
    "#TODO\n",
    "\n",
    "# Train the linear regression model using OLS\n",
    "model = sm.OLS(y_train, X_train_final)\n",
    "results = model.fit()\n",
    "\n",
    "# Print the model summary\n",
    "print(results.summary())"
   ]
  },
  {
   "cell_type": "markdown",
   "id": "d5e4bdce",
   "metadata": {},
   "source": [
    "2. (2 pts) Evaluate the model on the test dataset using the square root of the mean squared error (RMSE) metric. \n",
    "   1. Report the RMSE value.\n",
    "   2. Your boss wants to know how far off the model's predictions are from the actual price of the car. What would you tell him? Given a number and explain how you got it.\n"
   ]
  },
  {
   "cell_type": "code",
   "execution_count": 50,
   "id": "7936208b",
   "metadata": {},
   "outputs": [
    {
     "name": "stdout",
     "output_type": "stream",
     "text": [
      "Test RMSE: 1291.5676043186113\n"
     ]
    }
   ],
   "source": [
    "#TODO\n",
    "from sklearn.metrics import mean_squared_error\n",
    "\n",
    "X_test_scaled = scaler.transform(X_test)\n",
    "X_test_scaled_df = pd.DataFrame(X_test_scaled, columns=X_test.columns, index=X_test.index)\n",
    "X_test_final = sm.add_constant(X_test_scaled_df)\n",
    "\n",
    "# Predict on the test dataset\n",
    "y_pred = results.predict(X_test_final)\n",
    "\n",
    "# Calculate RMSE\n",
    "rmse = np.sqrt(mean_squared_error(y_test, y_pred))\n",
    "print(\"Test RMSE:\", rmse)"
   ]
  },
  {
   "cell_type": "markdown",
   "id": "92955c02",
   "metadata": {},
   "source": [
    "Your Response:\n",
    "\n",
    "//**//\n",
    "\n",
    "The model’s RMSE on the test dataset is approximately 1292 euros. This indicates that, on average, the predictions deviate from the actual car prices by about 1292 euros. This measure was obtained by taking the square root of the mean squared error computed between the actual and predicted prices on the test set."
   ]
  },
  {
   "cell_type": "markdown",
   "id": "39a1de71",
   "metadata": {},
   "source": [
    "3. (2 pts) Report the R² score on the test dataset and interpret it.\n"
   ]
  },
  {
   "cell_type": "code",
   "execution_count": null,
   "id": "a1a4355f",
   "metadata": {},
   "outputs": [
    {
     "name": "stdout",
     "output_type": "stream",
     "text": [
      "Test R² score: 0.8464875377006171\n"
     ]
    }
   ],
   "source": [
    "#TODO\n",
    "from sklearn.metrics import r2_score\n",
    "\n",
    "# Calculate R2 score on the test set\n",
    "r2 = r2_score(y_test, y_pred)\n",
    "print(\"Test R² score:\", r2)"
   ]
  },
  {
   "cell_type": "markdown",
   "id": "4fe57aee",
   "metadata": {},
   "source": [
    "Your Response:\n",
    "\n",
    "//**//\n",
    "\n",
    "The R² score on the test dataset is 0.8465. This means that about 84.65% of the variability in car prices is explained by our model’s features. A high R² like this indicates that the model has a strong fit and is able to explain most of the variation in the data."
   ]
  },
  {
   "cell_type": "markdown",
   "id": "d9191203",
   "metadata": {},
   "source": [
    "4.  (2 pts) Which features are statistically significant at a 5% significance level? "
   ]
  },
  {
   "cell_type": "code",
   "execution_count": 52,
   "id": "782d34e6",
   "metadata": {},
   "outputs": [
    {
     "name": "stdout",
     "output_type": "stream",
     "text": [
      "Statistically significant features at a 5% significance level: ['const', 'Age', 'Mileage', 'HP', 'CC', 'Weight', 'FuelType_Diesel', 'FuelType_Petrol']\n"
     ]
    }
   ],
   "source": [
    "#TODO\n",
    "# Identify statistically significant features (p-value < 0.05)\n",
    "significant_features = results.pvalues[results.pvalues < 0.05].index.tolist()\n",
    "print(\"Statistically significant features at a 5% significance level:\", significant_features)"
   ]
  },
  {
   "cell_type": "markdown",
   "id": "8eff41e0",
   "metadata": {},
   "source": [
    "5.  (2 pts) Determine which two feature have the highest coefficient? What does it imply?"
   ]
  },
  {
   "cell_type": "code",
   "execution_count": 53,
   "id": "0048d53d",
   "metadata": {},
   "outputs": [
    {
     "name": "stdout",
     "output_type": "stream",
     "text": [
      "Top two features with highest absolute coefficients:\n",
      "Age       2140.27232\n",
      "Weight     871.15309\n",
      "dtype: float64\n"
     ]
    }
   ],
   "source": [
    "# Drop the constant coefficient and then sort by the absolute value of coefficients\n",
    "coefficients = results.params.drop('const')\n",
    "top_two = coefficients.abs().sort_values(ascending=False).head(2)\n",
    "print(\"Top two features with highest absolute coefficients:\")\n",
    "print(top_two)"
   ]
  },
  {
   "cell_type": "markdown",
   "id": "7dd51a86",
   "metadata": {},
   "source": [
    "Your Response:\n",
    "\n",
    "//**//\n",
    "\n",
    "The two features with the highest absolute coefficients are Age and Weight. Age has a coefficient of -2140.27, meaning that as a car gets older, its price tends to decrease significantly. Weight, with a coefficient of 871.15, suggests that heavier cars are generally priced higher. In essence, Age appears to have the strongest impact on car pricing, with a substantial negative effect, while Weight also plays a significant role with a positive association."
   ]
  },
  {
   "cell_type": "markdown",
   "id": "9af624b8",
   "metadata": {},
   "source": [
    "**2.3 (2 pts): Improvement Discussion**\n",
    "\n",
    "- Suggest a few additional features that could potentially explain this remaining variance in the data ( at least 2 features)."
   ]
  },
  {
   "cell_type": "markdown",
   "id": "81d36c87",
   "metadata": {},
   "source": [
    "Your Response:\n",
    "\n",
    "//**//\n",
    "\n",
    "Vehicle Condition / Maintenance History:\n",
    "Information on a car’s condition — such as accident history, service records, and overall maintenance — can affect its resale value. Cars that have been well maintained or have a documented service history are often priced higher, even when age and mileage are similar.\n",
    "\n",
    "Number of Previous Owners:\n",
    "The number of previous owners may indicate how well the car was cared for. Typically, a car with fewer owners is more desirable and can result in a higher price compared to one that has changed hands several times."
   ]
  },
  {
   "cell_type": "markdown",
   "id": "94ca03f3",
   "metadata": {},
   "source": [
    "**2.4 (2 pts): Identifying Confounding Variables**\n",
    "\n",
    "The feature \"Weight\" shows a very low p-value and a high coefficient, but it doesn't seem to be a major factor for customers buying a second-hand car. You go to your mentor Jerasimosu to discuss this issue. Indeed, Jerasimosu suggests that never in his career has he seen a customer who asked for the weight of a car before buying it.\n",
    "You suspect that there might be a confounding variable that is correlated with the car's weight and significantly influences its price.\n",
    "\n",
    "- Suggest a possible confounding variable that may be correlated with the car's weight and significantly influence its price (it doesn't need to be a variable in the dataset). Explain why this variable could be a confounding variable."
   ]
  },
  {
   "cell_type": "markdown",
   "id": "c677c957",
   "metadata": {},
   "source": [
    "Your Response:\n",
    "\n",
    "//**//\n",
    "Even though our regression shows that Weight has a very low p-value and a high positive coefficient, it is unlikely that customers directly consider the weight of a car when making a purchase. This suggests that Weight may be serving as a proxy for another underlying variable that more directly influences price.\n",
    "\n",
    "A plausible confounding variable is the vehicle’s size or class. Larger vehicles, such as SUVs or full-size sedans, naturally weigh more and generally command higher prices due to increased interior space, additional features, and enhanced performance. In our dataset, while we don’t have an explicit “Vehicle Class” feature, Weight might be capturing this effect. In other words, heavier cars may simply be larger, and larger cars are more expensive.\n",
    "\n",
    "If we had a variable like “Vehicle Size” or even “Engine Displacement (CC)” (which is in our dataset and often correlates with size), we could better isolate the effect of vehicle class on price. The positive coefficient for Weight in our current model may therefore reflect that as cars get larger (and heavier), their price tends to be higher—a pattern that aligns with market observations (for example, SUVs are typically more expensive than compact cars)."
   ]
  },
  {
   "cell_type": "markdown",
   "id": "0c2854b8",
   "metadata": {},
   "source": [
    "**2.5 (2 pts): Adding an Inverse Mileage Term**\n",
    "\n",
    "From the previous scatter plot, the relationship between car price and mileage appears non-linear, with a steep price drop initially and then a flattening. A suitable approach to model this behavior is by incorporating an inverse term of mileage.\n",
    "\n",
    "- Add the inverse mileage term to the model and retrain it using the code provided. Print the model summary and interpret the effect of the inverse mileage term."
   ]
  },
  {
   "cell_type": "code",
   "execution_count": 54,
   "id": "8a4b261e",
   "metadata": {},
   "outputs": [
    {
     "name": "stdout",
     "output_type": "stream",
     "text": [
      "                            OLS Regression Results                            \n",
      "==============================================================================\n",
      "Dep. Variable:                  Price   R-squared:                       0.850\n",
      "Model:                            OLS   Adj. R-squared:                  0.848\n",
      "Method:                 Least Squares   F-statistic:                     582.4\n",
      "Date:                Fri, 14 Feb 2025   Prob (F-statistic):               0.00\n",
      "Time:                        18:22:28   Log-Likelihood:                -9849.8\n",
      "No. Observations:                1146   AIC:                         1.972e+04\n",
      "Df Residuals:                    1134   BIC:                         1.978e+04\n",
      "Df Model:                          11                                         \n",
      "Covariance Type:            nonrobust                                         \n",
      "===================================================================================\n",
      "                      coef    std err          t      P>|t|      [0.025      0.975]\n",
      "-----------------------------------------------------------------------------------\n",
      "const            9901.8482     38.833    254.984      0.000    9825.655    9978.041\n",
      "Age             -2145.5648     54.469    -39.391      0.000   -2252.436   -2038.694\n",
      "Mileage          -576.9693     54.554    -10.576      0.000    -684.007    -469.931\n",
      "HP                734.5682     91.312      8.045      0.000     555.409     913.727\n",
      "MetColor           33.2813     39.233      0.848      0.396     -43.697     110.260\n",
      "Automatic          63.5811     40.000      1.590      0.112     -14.902     142.064\n",
      "CC               -511.9908    109.683     -4.668      0.000    -727.196    -296.786\n",
      "Doors             -12.7515     42.424     -0.301      0.764     -95.990      70.487\n",
      "Weight            869.4561     68.300     12.730      0.000     735.448    1003.464\n",
      "FuelType_Diesel   837.2857    177.067      4.729      0.000     489.871    1184.701\n",
      "FuelType_Petrol   380.4121    128.732      2.955      0.003     127.833     632.991\n",
      "Inverse_Mileage   -62.9685     39.205     -1.606      0.109    -139.890      13.953\n",
      "==============================================================================\n",
      "Omnibus:                      118.784   Durbin-Watson:                   1.999\n",
      "Prob(Omnibus):                  0.000   Jarque-Bera (JB):              886.784\n",
      "Skew:                          -0.039   Prob(JB):                    2.74e-193\n",
      "Kurtosis:                       7.309   Cond. No.                         10.3\n",
      "==============================================================================\n",
      "\n",
      "Notes:\n",
      "[1] Standard Errors assume that the covariance matrix of the errors is correctly specified.\n"
     ]
    },
    {
     "name": "stderr",
     "output_type": "stream",
     "text": [
      "C:\\Users\\Pavel Detvan\\AppData\\Local\\Temp\\ipykernel_3696\\354383850.py:3: SettingWithCopyWarning: \n",
      "A value is trying to be set on a copy of a slice from a DataFrame.\n",
      "Try using .loc[row_indexer,col_indexer] = value instead\n",
      "\n",
      "See the caveats in the documentation: https://pandas.pydata.org/pandas-docs/stable/user_guide/indexing.html#returning-a-view-versus-a-copy\n",
      "  df_encoded['Inverse_Mileage'] = 1 / df_encoded['Mileage']\n"
     ]
    }
   ],
   "source": [
    "#TODO\n",
    "# 1. Create inverse mileage feature.\n",
    "df_encoded['Inverse_Mileage'] = 1 / df_encoded['Mileage']\n",
    "\n",
    "# 2. Update feature set (drop Price as target)\n",
    "X_extended = df_encoded.drop('Price', axis=1)\n",
    "y_extended = df_encoded['Price']\n",
    "\n",
    "# 3. Split into train and test sets using the same random_state\n",
    "X_train_ext, X_test_ext, y_train_ext, y_test_ext = train_test_split(X_extended, y_extended, test_size=0.2, random_state=42)\n",
    "\n",
    "# 4. Standardize the extended feature set using StandardScaler\n",
    "scaler_ext = StandardScaler()\n",
    "X_train_ext_scaled = scaler_ext.fit_transform(X_train_ext)\n",
    "X_train_ext_scaled_df = pd.DataFrame(X_train_ext_scaled, columns=X_train_ext.columns, index=X_train_ext.index)\n",
    "\n",
    "# 5. Add a constant for the intercept\n",
    "X_train_ext_final = sm.add_constant(X_train_ext_scaled_df)\n",
    "\n",
    "# 6. Train the model with the inverse mileage\n",
    "model_ext = sm.OLS(y_train_ext, X_train_ext_final)\n",
    "results_ext = model_ext.fit()\n",
    "\n",
    "# 7. Print model summary.\n",
    "print(results_ext.summary())\n"
   ]
  },
  {
   "cell_type": "markdown",
   "id": "1a3c61dc",
   "metadata": {},
   "source": [
    "## Part 3 Supervised Learning (40 pts)\n",
    "\n",
    "\n",
    "After completing your analysis, you're satisfied with the results. You handed the Jupyter notebook over to your mentor.\n",
    "\n",
    "(Fun fact: The name \"Jupyter\" is derived from Julia, Python, and R—three programming languages that the platform was originally designed for.)\n",
    "\n",
    "Your mentor Jerasimosu is very impressed with your work and asks you the following question:\n",
    "\n",
    "“\n",
    "This looks great! It will be very useful for our sales team. While looking at the results, I realized that there might be one thing that we can improve. \n",
    "For companies like us, it is important to sell the cars quickly. If we are patient, we might be able to sell the car for a higher price, but that’s not always the best strategy. We need to consider the maintenance costs for the car, the cash flow and the fact that the price of the car decreases over time.\"\n",
    "\n",
    "He then continues:\n",
    "\"Three months is a sweet spot for us. If we can sell the car within the first three months, it is great. If not, it is worth considering lowering the price to sell it faster and increase our cash flow. I can ask Ivan from Sales to collect data in the last few months on whether the car was sold within the first three months or not. This would be great if you could have a model that tells us if the car will be sold in the first three months or not. \"\n",
    "\n",
    "This sparks your interest, and soon Ivan has provided you with the new data containing an additional column `sold_within_3_months` which is a binary variable indicating whether the car was sold within the first three months or not.\n",
    "\n",
    "Note: The data for this part is in the file `Task3.ToyotaCorolla_sales_3months.csv` and it has already unified the currency and distance units."
   ]
  },
  {
   "cell_type": "code",
   "execution_count": null,
   "id": "5371de93",
   "metadata": {},
   "outputs": [
    {
     "name": "stdout",
     "output_type": "stream",
     "text": [
      "   Price  Age     KM FuelType  HP  MetColor  Automatic    CC  Doors  Weight  \\\n",
      "0  13500   23  46986   Diesel  90         1          0  2000      3    1165   \n",
      "1  13750   23  72937   Diesel  90         1          0  2000      3    1165   \n",
      "2  13950   24  41711   Diesel  90         1          0  2000      3    1165   \n",
      "3  14950   26  48000   Diesel  90         0          0  2000      3    1165   \n",
      "4  13750   30  38500   Diesel  90         0          0  2000      3    1170   \n",
      "\n",
      "   sold_within_3_months  \n",
      "0                     0  \n",
      "1                     0  \n",
      "2                     0  \n",
      "3                     0  \n",
      "4                     0  \n"
     ]
    }
   ],
   "source": [
    "data_df = pd.read_csv('data/Task3.ToyotaCorolla_sales_3months.csv', index_col=0)\n",
    "print(data_df.head())"
   ]
  },
  {
   "cell_type": "markdown",
   "id": "87af3424",
   "metadata": {},
   "source": [
    "\n",
    "**3.1 (2 pts): Preprocess the Data**\n",
    "- （1 pts）How many cars in the dataset were sold in the first three months, and how many were not? "
   ]
  },
  {
   "cell_type": "code",
   "execution_count": null,
   "id": "714cefb1",
   "metadata": {},
   "outputs": [],
   "source": [
    "#TODO"
   ]
  },
  {
   "cell_type": "markdown",
   "id": "eb49dc91",
   "metadata": {},
   "source": [
    "- (1 pts) Preprocess the categorical variables to one-hot encoding using the `pd.get_dummies()` function."
   ]
  },
  {
   "cell_type": "code",
   "execution_count": null,
   "id": "e9ca7824",
   "metadata": {},
   "outputs": [],
   "source": [
    "#TODO"
   ]
  },
  {
   "cell_type": "markdown",
   "id": "1449cf1c",
   "metadata": {},
   "source": [
    "**3.2 (20 pts):  Logistic Regression Model**\n",
    "1. (2 pts) Split the data into features (X) and target (y) variables. The target variable is the 'sold_within_3_months' column. The `Price` column should be included as a feature."
   ]
  },
  {
   "cell_type": "code",
   "execution_count": null,
   "id": "bda17a69",
   "metadata": {},
   "outputs": [],
   "source": [
    "#TODO"
   ]
  },
  {
   "cell_type": "markdown",
   "id": "28393827",
   "metadata": {},
   "source": [
    "2. (2 pts) Then split the data into train test sets using a 80-20 split. Use `random_state=42` for reproducibility. "
   ]
  },
  {
   "cell_type": "code",
   "execution_count": null,
   "id": "7416161f",
   "metadata": {},
   "outputs": [],
   "source": [
    "#TODO"
   ]
  },
  {
   "cell_type": "markdown",
   "id": "d43f0fbf",
   "metadata": {},
   "source": [
    "3. (2 pts) Standardize the features using `StandardScaler` from `sklearn.preprocessing` and then add a constant column using `sm.add_constant()`."
   ]
  },
  {
   "cell_type": "code",
   "execution_count": null,
   "id": "16bfc69e",
   "metadata": {},
   "outputs": [],
   "source": [
    "#TODO"
   ]
  },
  {
   "cell_type": "markdown",
   "id": "1b7029f6",
   "metadata": {},
   "source": [
    "4. (2 pts) Fit a logistic regression model on the training dataset. Feel free to use either `statsmodels` or `sklearn`."
   ]
  },
  {
   "cell_type": "code",
   "execution_count": null,
   "id": "4d7e52e6",
   "metadata": {},
   "outputs": [],
   "source": [
    "#TODO"
   ]
  },
  {
   "cell_type": "markdown",
   "id": "e0c3b275",
   "metadata": {},
   "source": [
    "5. (2 pts) Evaluate the model on the test dataset using the accuracy score metric. Report the accuracy score."
   ]
  },
  {
   "cell_type": "code",
   "execution_count": null,
   "id": "2152d2dc",
   "metadata": {},
   "outputs": [],
   "source": [
    "#TODO"
   ]
  },
  {
   "cell_type": "markdown",
   "id": "07b5d10b",
   "metadata": {},
   "source": [
    "6. (2 pts) Calculate the precision, recall, and F1-score."
   ]
  },
  {
   "cell_type": "code",
   "execution_count": null,
   "id": "93ef377c",
   "metadata": {},
   "outputs": [],
   "source": [
    "#TODO"
   ]
  },
  {
   "cell_type": "markdown",
   "id": "b83bb422",
   "metadata": {},
   "source": [
    "7. (2 pts) Suppose that your company is running short on cash flow and needs to sell the cars quickly, for example by running some offer (special discount on cars). But which ones? How should you adjust the threshold for the decision boundary of the logistic regression model to ensure that the company can sell the cars as quickly as possible?\n",
    "    - A. Increase the threshold\n",
    "    - B. Decrease the threshold\n",
    "\n",
    "In a more general sense, how does the choice of threshold affect the precision and recall of the model?"
   ]
  },
  {
   "cell_type": "markdown",
   "id": "e1951dc8",
   "metadata": {},
   "source": [
    "Your Response:\n",
    "\n",
    "//**//"
   ]
  },
  {
   "cell_type": "markdown",
   "id": "f77a1414",
   "metadata": {},
   "source": [
    "8. (6 pts) Try to find the optimal threshold that maximizes the F1-score. Implement any kind of method you see fit (e.g. binary search or grid search). What is the optimal threshold and what difference does the optimal threshold make in the F1-score?\n",
    "\n",
    "If you notice anything odd, report it and try to identify the reasons behind it."
   ]
  },
  {
   "cell_type": "code",
   "execution_count": null,
   "id": "ecc90348",
   "metadata": {
    "scrolled": true
   },
   "outputs": [],
   "source": [
    "#TODO"
   ]
  },
  {
   "cell_type": "markdown",
   "id": "53796e48",
   "metadata": {},
   "source": [
    "**3.3(23 pts) Free model exploration**\n",
    "\n",
    "Use any model from `sklearn` to predict whether a car will be sold within the first three months.\n",
    "\n",
    "Follow these steps to complete the task:\n",
    "\n",
    "1. (2 pts) Train your own classifier model to predict the target variable (`sold_within_3_months`).You can reuse the train and test sets from the previous section. Set `random_state=42` for reproducibility if needed. At this stage no need to optimize (yet). That will come at step 4."
   ]
  },
  {
   "cell_type": "code",
   "execution_count": null,
   "id": "847d2270",
   "metadata": {},
   "outputs": [],
   "source": [
    "#TODO"
   ]
  },
  {
   "cell_type": "markdown",
   "id": "339e84a7",
   "metadata": {},
   "source": [
    "2. (2 pts) Evaluate the model on the test set and report on hyperparameters or other details of the algorithm you chose."
   ]
  },
  {
   "cell_type": "code",
   "execution_count": null,
   "id": "f91de524",
   "metadata": {},
   "outputs": [],
   "source": [
    "#TODO"
   ]
  },
  {
   "cell_type": "markdown",
   "id": "aeacddbc",
   "metadata": {},
   "source": [
    "3. (2 pts) Come up with a visualization (could be related to the model or to some variables (e.g. EDA plots) to demonstrate the difficulty (or not) of the problem. "
   ]
  },
  {
   "cell_type": "code",
   "execution_count": null,
   "id": "3899ce00",
   "metadata": {},
   "outputs": [],
   "source": [
    "#TODO"
   ]
  },
  {
   "cell_type": "markdown",
   "id": "294f27b0",
   "metadata": {},
   "source": [
    "4. (17 pts) Try to come up with a model that improves the results both in the previous seciton but also your baseline model in 3.1. Make to sure to properly evaluate the model. No need to provide a visualization here but feel free to add any supporting evidence to your modeling.\n",
    "\n",
    "Minimally (and for a high-grade) you should consider some form of regularization and proper cross-validation. \n",
    "\n",
    "Other things you can consider (in no particular order) are feature engineering, model robustness, hyperparameter tuning, ..."
   ]
  },
  {
   "cell_type": "code",
   "execution_count": null,
   "id": "c23ea3be",
   "metadata": {},
   "outputs": [],
   "source": [
    "#TODO"
   ]
  },
  {
   "cell_type": "markdown",
   "id": "89384315",
   "metadata": {},
   "source": [
    "## Part 4 The Aftermath (5 pts)\n",
    "\n",
    "Machine learning models are often evaluated based on accuracy, precision and recall, but these metrics do not always capture fairness. Fairness is a broader concept that depends on the context of the dataset and the decisions influenced by the model.\n",
    "\n",
    "For this last question, you are asked to reflect on what fairness means in the context of this problem. More specifically, identify potential fairness concerns (at least 2) and suggest how they could be measured or mitigated.\n",
    "Explain why fairness matters (or doesn’t) in this specific context.\n",
    "\n",
    "*Hint: Think of the whole pipeline of data science: data collection, modeling, evaluation and identify sources of where the model might be unfair.*\n"
   ]
  },
  {
   "cell_type": "markdown",
   "id": "5cd5ceda",
   "metadata": {},
   "source": [
    "Your Response:\n",
    "\n",
    "//**//"
   ]
  }
 ],
 "metadata": {
  "kernelspec": {
   "display_name": "cuda_test",
   "language": "python",
   "name": "python3"
  },
  "language_info": {
   "codemirror_mode": {
    "name": "ipython",
    "version": 3
   },
   "file_extension": ".py",
   "mimetype": "text/x-python",
   "name": "python",
   "nbconvert_exporter": "python",
   "pygments_lexer": "ipython3",
   "version": "3.11.9"
  }
 },
 "nbformat": 4,
 "nbformat_minor": 5
}
