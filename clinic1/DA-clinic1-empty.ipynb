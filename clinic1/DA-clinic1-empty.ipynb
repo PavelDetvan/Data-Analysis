{
 "cells": [
  {
   "cell_type": "markdown",
   "id": "7e3a9aff",
   "metadata": {},
   "source": [
    "(Placeholder for your group #)\n",
    "\n",
    "(Placeholder for your names)\n",
    "\n",
    "(Placeholder for your i-numbers)"
   ]
  },
  {
   "cell_type": "markdown",
   "id": "5d5ab070",
   "metadata": {},
   "source": [
    "**Use of genAI tools (e.g. chatGPT), websites (e.g. stackoverflow)**: *list websites where you found code (or other info) as well as include information on how you used genAI tools*"
   ]
  },
  {
   "cell_type": "markdown",
   "id": "2a108445",
   "metadata": {},
   "source": [
    "# Data Analysis, Clinic 1\n",
    "# FIETS: Fundamentele Innovatie En Technologie in Scholing\n",
    "## Met FIETS blijft het onderwijs vooruitgaan, zelfs tegen de wind in!\n",
    "\n",
    "---\n",
    "\n",
    "By completing and delivering the clinic tasks you will know how to :\n",
    "\n",
    "- Load data and handle data using pandas;\n",
    "- Navigate the documentation of Python packages by yourself;\n",
    "- Filter and tidy up **noisy** real-world datasets;\n",
    "- Aggregate your data in different (and hopefully helpful) ways;\n",
    "- Use EDA to learn more about your data\n",
    "- Create and interpret informative visualizations to explore the data set\n",
    "- Derive meaningful insights for the societal impact of datasets\n",
    "\n",
    "---\n",
    "**Important Dates.**\n",
    "\n",
    "- Clinic 1 release: Thu 30 Jan 2024\n",
    "- Clinic 1 due: Fri 07 Feb 2024 late night, wildcards available\n",
    "\n",
    "**Instructions for the deliverable:**\n",
    "\n",
    "* You are allowed to use any built-in Python library that comes with Anaconda. If you want to use an external library, you may do so, but must justify your choice.\n",
    "\n",
    "* Make sure that you include a proper amount/mix of comments, results and code. More specifically, be sure to provide a concise textual description of your thought process, the assumptions you made, the solution you implemented, and explanations for your answers. A notebook that only has code cells will not suffice. To avoid confusion: use short comments for longer code answers.\n",
    "\n",
    "* For questions containing the /Discuss:/ prefix, answer not with code, but with a textual explanation (in markdown).\n",
    "\n",
    "* Back up any hypotheses and claims with data, since this is an important aspect of the course.\n",
    "\n",
    "* Please write all your comments in English, and use meaningful variable names (as possible) in your code. \n",
    "\n",
    "* In the end, make sure that all cells are executed properly and everything you need to show is in your (execucted) notebook. We will not run your notebook for you! \n",
    "\n",
    "- In continuation to the previous point, interactive plots, such as those generated using the ‘plotly’ package, should be strictly avoided! Make sure to print results and/or dataframes that confirm you have properly addressed the task.\n",
    "\n",
    "* You are asked to deliver **only your executed notebook file, .ipnyb** and nothing else. If you deliver other files, we will not grade anything.\n",
    "\n",
    "* Honor code applies to these tasks. If you are not certain about an action, consult with Jerry.\n",
    "\n",
    "**A Note from Jerry on using Language Models (LMs)**\n",
    "\n",
    "If you try hard enough, you will likely get away with cheating (that does not only apply to LMs). Fortunately, my job is not to police, but rather to educate you. So, please consider the following:\n",
    "\n",
    "I assume that you are taking this course to learn something! LMs are not always right ([they often fail in silly ways](https://community.openai.com/t/why-9-11-is-larger-than-9-9-incredible/869824/4)). This course should prepare you to detect when they are wrong!\n",
    "\n",
    "I don't restrict the use of LMs because I see the value of being helped when coding (esp. in the context of pandas dataframes nightmare :)). Based on what we saw last year in your notebooks, it's pretty clear when you \"copy\" some code and then you struggle to interpret the results. This is the essence of this course and of the skills you should try build for yourself: Many people can run fancy models these days but not many people can interpret the results correctly. Try to be the latter ones.\n",
    "\n",
    "---"
   ]
  },
  {
   "cell_type": "markdown",
   "id": "f9b54879",
   "metadata": {},
   "source": [
    "## Context\n",
    "\n",
    "AI is booming! Newspapers, influencers and your relatives all agree that AI is important. But while almost everyone agrees that AI is the future, much is unclear about what that future esp. in critical sectors like education looks like...\n",
    "\n",
    "Freshly graduated from a top Dutch university in Limburg, you are hired by the Dutch government to advise on a large-scale “education innovation” initiative code-named \"FIETS\" (Flexibele Innovatie voor Efficiënte Toepassing in Scholing). With higher education facing severe budget cuts, the government is looking for creative solutions to \"do more with less.\" Convinced by the stunning progress in language modeling, officials believe LLMs could help battle growing teacher shortages and reduce costs by automating parts of the education process. Your job description: investigate which LMs might be best suited to plug the gaps without draining the budget!\n",
    "\n",
    "You are handed the results of three LMs on the [“Massive Multitask Language Understanding (MMLU)”](https://arxiv.org/abs/2009.03300) dataset  to compare. This famous dataset consists of 57 subjects with multiple-choice questions, covering diverse subjects like mathematics, computer science, history, and law. Most providers of state-of-the-art LMs use this dataset to showcase the versatility of their latest models. Unfortunately, the intern responsible for collecting the results, didn’t pay attention during DACS KEN3450: Data Analysis. As a result, the collected datasets are slightly corrupted. Jammer!\n",
    "\n",
    "The success of FIETS depends on your ability to make sense of the messy data and recommend the best model to keep the Dutch education system pedaling forward—despite uphill challenges like funding shortages and a skeptical academic community!\n",
    "\n",
    "### A very brief primer on Language Models\n",
    "We studied LLMs in the context of the NLP course but here is a short reminder. Language models (LMs) are sophisticated statistical models designed to understand and generate human-like text. At their core, LMs are trained to predict the most likely continuation of a given input text. For example, given the input \"The cat sat on the,\" an LM might predict \"mat\" as a likely continuation.\n",
    "LMs are trained on vast text samples from various sources, including books, websites, and social media. This extensive training allows them to capture patterns and relationships in language, enabling them to generate coherent and contextually appropriate text across a wide range of topics and styles.\n",
    "\n",
    "While LMs can produce text that appears to be written by intelligent humans, it's important to note that their capabilities can diverge from human intelligence in unexpected ways. They may sometimes generate factually incorrect information or struggle with complex reasoning tasks.\n",
    "\n",
    "Two key concepts in understanding LMs are:\n",
    "1. **Tokens**: LMs process text using \"tokens\" rather than individual characters. Tokens can be words, parts of words, or punctuation marks. For example, the sentence \"I love AI!\" might be tokenized as [\"I\", \"love\", \"AI\", \"!\"]. Tokenization is the first step in both training and using an LM.\n",
    "2. **Context**: The input text provided to an LM is called the \"context.\" This context informs the model's predictions or generations. A longer or more specific context often leads to more accurate and relevant outputs.\n",
    "\n",
    "[See: Wikipedia entry on language models](https://en.wikipedia.org/wiki/Large_language_model)\n",
    "\n",
    "###  Files for this assignment\n",
    "This assignment is divided into three tasks, each of which should bring you a step closer to providing a recommendation toward project the objectives of FIETS:\n",
    "\n",
    "- **Task 1**: Inspecting the results and getting your first model ranking\n",
    "- **Task 2**: Inspecting the underlying data used to generate the results for possible biases\n",
    "- **Task 3**: Learning about tokens and providing a final recommendation\n",
    "\n",
    "\n",
    "```\n",
    "📁 FIETS\n",
    "│\n",
    "├── 📄 clinic1.ipynb (the file you're currently reading!)\n",
    "│\n",
    "└── 📁 data\n",
    "    ├── 📁 task_1\n",
    "    ├── 📁 task_2\n",
    "    └── 📁 task_2.5\n",
    "```   \n",
    " "
   ]
  },
  {
   "cell_type": "code",
   "execution_count": 77,
   "id": "1c8fd700",
   "metadata": {},
   "outputs": [],
   "source": [
    "# some basic imports\n",
    "import os\n",
    "import pandas as pd\n",
    "import numpy as np\n",
    "import matplotlib.pyplot as plt\n",
    "import warnings\n",
    "from scipy.stats import ttest_ind, chi2_contingency"
   ]
  },
  {
   "cell_type": "markdown",
   "id": "bd2a7be4",
   "metadata": {},
   "source": [
    "## Task 1 (18 points): What's in an average anyway?\n",
    "\n",
    "The files needed to complete task 1 can be found in the folder \"`data/task_1/`:\n",
    "```\n",
    "task_1/\n",
    "│\n",
    "├── mmlu_data/\n",
    "│   └── test.csv\n",
    "│\n",
    "└── lm_scores/\n",
    "    ├── lm_X.csv\n",
    "    ├── lm_Y.csv\n",
    "    └── lm_Z.csv\n",
    "```\n",
    "\n",
    "We will start by loading, (manually) inspecting, and cleaning the data. Although it doesn't seem \"glamorous\" (nor is it particularly fun...) - manually inspecting data is extremely important! In fact, it's one of the few things most AI and Data Science researchers agree on :). Next, we will take a first pass on ordering our Olympic podium between three LMs."
   ]
  },
  {
   "cell_type": "markdown",
   "id": "16518de6",
   "metadata": {},
   "source": [
    "### 1.1 (1 pt)\n",
    " \n",
    "Load the subfiles contained in the `mmlu_data` and `lm_scores` folders into separate dataframes:\n",
    "- `df_test`\n",
    "- `df_x`\n",
    "- `df_y`\n",
    "- `df_z`\n",
    "\n",
    "for each, print their sizes."
   ]
  },
  {
   "cell_type": "code",
   "execution_count": 2,
   "id": "80eabdcb",
   "metadata": {},
   "outputs": [
    {
     "name": "stdout",
     "output_type": "stream",
     "text": [
      "df_test:  (14042, 8)\n",
      "df_x:  (13882, 2)\n",
      "df_y:  (13978, 2)\n",
      "df_z:  (13923, 2)\n"
     ]
    }
   ],
   "source": [
    "df_test = pd.read_csv('data/task_1/mmlu_data/test.csv')\n",
    "\n",
    "f = 'data/task_1/lm_scores/'\n",
    "df_x = pd.read_csv(os.path.join(f, 'lm_X.csv'))\n",
    "df_y = pd.read_csv(os.path.join(f, 'lm_Y.csv'))\n",
    "df_z = pd.read_csv(os.path.join(f, 'lm_Z.csv'))\n",
    "\n",
    "print('df_test: ', df_test.shape)\n",
    "print('df_x: ', df_x.shape)\n",
    "print('df_y: ', df_y.shape)\n",
    "print('df_z: ', df_z.shape)"
   ]
  },
  {
   "cell_type": "markdown",
   "id": "da14c5e2",
   "metadata": {},
   "source": [
    "### 1.2 (4 pt)\n",
    "Unfortunately, LMs don't always output the format we want. In the column `result`, the value should be one of A, B, C, or D. \n",
    "\n",
    "A. For each of the LM score dataframes, use a `value_counts()` operation and print the results. \n",
    "\n",
    "B. /Discuss:/ Inspect the results and describe the types of answer formats you see. Besides the \"expected\" case, you should be able to find at least four unexpected formats."
   ]
  },
  {
   "cell_type": "code",
   "execution_count": 30,
   "id": "eeebdb42",
   "metadata": {},
   "outputs": [
    {
     "name": "stdout",
     "output_type": "stream",
     "text": [
      "Model X answer formats:\n",
      "result\n",
      "A                                                                                                                 2733\n",
      "A                                                                                                                 1657\n",
      "B                                                                                                                 1412\n",
      "Answer: A                                                                                                         1398\n",
      "C                                                                                                                 1134\n",
      "                                                                                                                  ... \n",
      "judicial activism, so the answer is A                                                                                1\n",
      "creating insurmountable obstacles to the founding of factions, so the answer is A                                    1\n",
      "A congressperson who retires to take a position teaching political science at a university, so the answer is A       1\n",
      "David Hume, so the answer is D                                                                                       1\n",
      "Brahminic orthodoxy, so the answer is A                                                                              1\n",
      "Name: count, Length: 146, dtype: int64\n",
      "\n",
      "Model Y answer formats:\n",
      "result\n",
      "D                                                                                                2894\n",
      "Answer: D                                                                                        1718\n",
      "C                                                                                                1701\n",
      "B                                                                                                1240\n",
      "D                                                                                                1145\n",
      "                                                                                                 ... \n",
      "Where the energy of interaction between the atoms is at its minimum value, so the answer is A       1\n",
      "leaves more viable offspring than others of its species., so the answer is D                        1\n",
      "A and C only, so the answer is D                                                                    1\n",
      "ADP + P → ATP, so the answer is D                                                                   1\n",
      "Monoclonal antibodies, so the answer is C                                                           1\n",
      "Name: count, Length: 142, dtype: int64\n",
      "\n",
      "Model Z answer formats:\n",
      "result\n",
      "D                                                                                                2257\n",
      "C                                                                                                2191\n",
      "B                                                                                                2127\n",
      "A                                                                                                2060\n",
      "Answer: D                                                                                         777\n",
      "                                                                                                 ... \n",
      "The incumbent vice president of the United States, so the answer is B                               1\n",
      "oversight of executive branch agencies, so the answer is C                                          1\n",
      "White Southerners, so the answer is A                                                               1\n",
      "making it difficult for one faction to gain the power necessary to govern, so the answer is B       1\n",
      "Rahit, so the answer is B                                                                           1\n",
      "Name: count, Length: 561, dtype: int64\n"
     ]
    }
   ],
   "source": [
    "# A\n",
    "print(\"Model X answer formats:\")\n",
    "print(df_x['result'].value_counts(dropna=False))\n",
    "print(\"\\nModel Y answer formats:\")\n",
    "print(df_y['result'].value_counts(dropna=False))\n",
    "print(\"\\nModel Z answer formats:\")\n",
    "print(df_z['result'].value_counts(dropna=False))\n"
   ]
  },
  {
   "cell_type": "markdown",
   "id": "709b59db",
   "metadata": {},
   "source": [
    "# B\n",
    "We can see that there is a lot of different formats, not only the expected {A, B, C, D}. We can observe that some results have also a context, and it seems the answer is always included at the end of the context sentence, or sometimes the result is in a form \"Answer: X\". Moreover, there might be some spaces or other not visible characters (eg \"A\", \" A\", \"A \" are not the same)."
   ]
  },
  {
   "cell_type": "markdown",
   "id": "98377d82",
   "metadata": {},
   "source": [
    "### 1.3 (5 pt)\n",
    "Oh oh... That doesn't look great. Simply dropping all invalid answers seems overly wasteful, yet fixing all of these looks like a mess! Instead, let's focus for now on fixing just those answers of length < 10 characters that require only a single `str.replace()` operation. \n",
    "\n",
    "For example, if the answer looks like `--A--`, we could fix this by using the following simple function:\n",
    "\n",
    "```\n",
    "def clean_answer(s, pattern='-'):\n",
    "    return str(s).replace(pattern, '')\n",
    "\n",
    "dirty_answer = '--A--'\n",
    "clean_answer = clean_answer(dirty_answer)\n",
    "```\n",
    "\n",
    "A. Filter the three score dataframes to include only answers with less than 10 characters. Make a deep copy of the dataframes as you filter them.\n",
    "\n",
    "B. Modify the `clean_answer()` example function to clean the answers in the filtered data frames using the `apply()` functionality. Finally, make sure **all remaining answers are one of `A, B, C, or D`.**\n",
    "\n",
    "C. /Discuss:/ Compare the sizes of the original and filtered data frames. What do you see? Why might this be a problem?"
   ]
  },
  {
   "cell_type": "code",
   "execution_count": 56,
   "id": "5241d3d5",
   "metadata": {},
   "outputs": [],
   "source": [
    "#A\n",
    "# Filter to check if the string is less than 10\n",
    "filter = lambda s: len(str(s)) < 10\n",
    "\n",
    "# For Model X:\n",
    "df_x_filtered = df_x[df_x['result'].apply(filter)].copy(deep=True)\n",
    "\n",
    "# For Model Y:\n",
    "df_y_filtered = df_y[df_y['result'].apply(filter)].copy(deep=True)\n",
    "\n",
    "# For Model Z:\n",
    "df_z_filtered = df_z[df_z['result'].apply(filter)].copy(deep=True)\n"
   ]
  },
  {
   "cell_type": "code",
   "execution_count": 57,
   "id": "88995629",
   "metadata": {},
   "outputs": [
    {
     "name": "stdout",
     "output_type": "stream",
     "text": [
      "Model X answer formats:\n",
      "result\n",
      "A            2733\n",
      "A            1657\n",
      "B            1412\n",
      "Answer: A    1398\n",
      "C            1134\n",
      "D            1124\n",
      "B             793\n",
      "Answer: B     760\n",
      "C             622\n",
      "Answer: D     613\n",
      "D             596\n",
      "Answer: C     594\n",
      "NaN           170\n",
      "Not Sure       73\n",
      "Name: count, dtype: int64\n",
      "\n",
      "Model Y answer formats:\n",
      "result\n",
      "D            2894\n",
      "Answer: D    1718\n",
      "C            1701\n",
      "B            1240\n",
      "D            1145\n",
      "A            1008\n",
      "Answer: C     907\n",
      "Answer: B     726\n",
      "C             634\n",
      "Answer: A     597\n",
      "B             553\n",
      "A             428\n",
      "NaN           145\n",
      "Not Sure       86\n",
      "Name: count, dtype: int64\n",
      "\n",
      "Model Z answer formats:\n",
      "result\n",
      "D            2257\n",
      "C            2191\n",
      "B            2127\n",
      "A            2060\n",
      "Answer: D     777\n",
      "Answer: C     748\n",
      "Answer: B     712\n",
      "Answer: A     687\n",
      "NaN           345\n",
      "C             316\n",
      "D             314\n",
      "B             285\n",
      "A             279\n",
      "Not Sure      125\n",
      "Name: count, dtype: int64\n"
     ]
    }
   ],
   "source": [
    "print(\"Model X answer formats:\")\n",
    "print(df_x_filtered['result'].value_counts(dropna=False))\n",
    "print(\"\\nModel Y answer formats:\")\n",
    "print(df_y_filtered['result'].value_counts(dropna=False))\n",
    "print(\"\\nModel Z answer formats:\")\n",
    "print(df_z_filtered['result'].value_counts(dropna=False))\n",
    "\n",
    "#Now its looking better, but we still have a few different formats."
   ]
  },
  {
   "cell_type": "code",
   "execution_count": null,
   "id": "61f574cc",
   "metadata": {},
   "outputs": [],
   "source": [
    "def clean_answer(s):\n",
    "    \"\"\"\n",
    "    Remove the prefix \"Answer:\" if present.\n",
    "    Remove any dashes.\n",
    "    Remove extra whitespace.\n",
    "    (optional) Use a regex search to extract a valid answer (A, B, C, or D) - with this we could try to extract the answer from all the results (also with len > 10)\n",
    "    \n",
    "    If no valid answer is found, returns np.nan.\n",
    "    \"\"\"\n",
    "    # Check for NaN or None\n",
    "    if pd.isna(s):\n",
    "        return np.nan\n",
    "    \n",
    "    # Convert to string and strip whitespace\n",
    "    s = str(s).strip()\n",
    "    \n",
    "    # Remove common unwanted substrings\n",
    "    s = s.replace(\"Answer:\", \"\").strip()\n",
    "    \n",
    "    # Remove any dashes\n",
    "    s = s.replace(\"-\", \"\")\n",
    "    \n",
    "    # Valid answers\n",
    "    valid_answers = {\"A\", \"B\", \"C\", \"D\"}\n",
    "    \n",
    "    # If the cleaned string is exactly one of the valid answers, return it\n",
    "    if s in valid_answers:\n",
    "        return s\n",
    "    \n",
    "    # # The pattern \\b([ABCD])\\b matches any whole word letter A, B, C, or D.\n",
    "    # match = re.search(r'\\b([ABCD])\\b', s, re.IGNORECASE)\n",
    "    # if match:\n",
    "    #     return match.group(1).upper()\n",
    "    \n",
    "    # If no valid answer is found, return np.nan\n",
    "    return np.nan"
   ]
  },
  {
   "cell_type": "code",
   "execution_count": 60,
   "id": "cf559b76",
   "metadata": {},
   "outputs": [
    {
     "name": "stdout",
     "output_type": "stream",
     "text": [
      "Model X answer formats:\n",
      "result_clean\n",
      "A      5788\n",
      "B      2965\n",
      "C      2350\n",
      "D      2333\n",
      "NaN     243\n",
      "Name: count, dtype: int64\n",
      "\n",
      "Model Y answer formats:\n",
      "result_clean\n",
      "D      5757\n",
      "C      3242\n",
      "B      2519\n",
      "A      2033\n",
      "NaN     231\n",
      "Name: count, dtype: int64\n",
      "\n",
      "Model Z answer formats:\n",
      "result_clean\n",
      "D      3348\n",
      "C      3255\n",
      "B      3124\n",
      "A      3026\n",
      "NaN     470\n",
      "Name: count, dtype: int64\n"
     ]
    }
   ],
   "source": [
    "# For Model X:\n",
    "df_x_filtered['result_clean'] = df_x_filtered['result'].apply(clean_answer)\n",
    "# For Model Y:\n",
    "df_y_filtered['result_clean'] = df_y_filtered['result'].apply(clean_answer)\n",
    "# For Model Z:\n",
    "df_z_filtered['result_clean'] = df_z_filtered['result'].apply(clean_answer)\n",
    "\n",
    "print(\"Model X answer formats:\")\n",
    "print(df_x_filtered['result_clean'].value_counts(dropna=False))\n",
    "print(\"\\nModel Y answer formats:\")\n",
    "print(df_y_filtered['result_clean'].value_counts(dropna=False))\n",
    "print(\"\\nModel Z answer formats:\")\n",
    "print(df_z_filtered['result_clean'].value_counts(dropna=False))\n",
    "\n",
    "# Now the results are good, we have only valid answers A, B, C or D and some missing answers as NaN."
   ]
  },
  {
   "cell_type": "code",
   "execution_count": 61,
   "id": "b2b23f54",
   "metadata": {},
   "outputs": [
    {
     "name": "stdout",
     "output_type": "stream",
     "text": [
      "Model X: Original size = (13882, 2) , Filtered size = (13679, 3)\n",
      "Model Y: Original size = (13978, 2) , Filtered size = (13782, 3)\n",
      "Model Z: Original size = (13923, 2) , Filtered size = (13223, 3)\n"
     ]
    }
   ],
   "source": [
    "#B\n",
    "print(\"Model X: Original size =\", df_x.shape, \", Filtered size =\", df_x_filtered.shape)\n",
    "print(\"Model Y: Original size =\", df_y.shape, \", Filtered size =\", df_y_filtered.shape)\n",
    "print(\"Model Z: Original size =\", df_z.shape, \", Filtered size =\", df_z_filtered.shape)\n"
   ]
  },
  {
   "cell_type": "markdown",
   "id": "e33258d5",
   "metadata": {},
   "source": [
    "C. /Discuss:/\n",
    "\n",
    "We lost different amounts of entries for each model. For models X and Y we deleted approx 200 rows, but for model Z it was 700. We also still have NaN values that were not filtered yet, I am not sure what to do with them (Should we delete them or count them as incorrect answer???).  "
   ]
  },
  {
   "cell_type": "markdown",
   "id": "4bda2920",
   "metadata": {},
   "source": [
    "### 1.4 (3 pt)\n",
    "\n",
    "Now that our answer columns are nicely formatted, let's take a look at model performance:\n",
    "\n",
    "A. Both the `MMLU` dataframes and the language model score data frames have the columns `question_id`. For each of the language model score data frames, use an inner join operation with the `df_test` dataframe on the `question_id` column.\n",
    "\n",
    "B. Add a new column to each of the resulting dataframes called `correct`, that checks if the model's answer in `result` is the same as the expected answer in the column `answer`. Then, print the average score of each model."
   ]
  },
  {
   "cell_type": "code",
   "execution_count": 65,
   "id": "5cfcb814",
   "metadata": {},
   "outputs": [],
   "source": [
    "# A\n",
    "# Reduced test DataFrame with only question_id and correct answer\n",
    "df_test_reduced = df_test[['question_id', 'answer', 'subject']]\n",
    "\n",
    "# For Model X:\n",
    "df_x_joined = pd.merge(df_x_filtered, df_test_reduced, on='question_id', how='inner')\n",
    "\n",
    "# For Model Y:\n",
    "df_y_joined = pd.merge(df_y_filtered, df_test_reduced, on='question_id', how='inner')\n",
    "\n",
    "# For Model Z:\n",
    "df_z_joined = pd.merge(df_z_filtered, df_test_reduced, on='question_id', how='inner')\n",
    "\n"
   ]
  },
  {
   "cell_type": "code",
   "execution_count": 66,
   "id": "4814bb7f",
   "metadata": {},
   "outputs": [
    {
     "name": "stdout",
     "output_type": "stream",
     "text": [
      "Average score for Model X: 0.7538562760435704\n",
      "Average score for Model Y: 0.7333478450152373\n",
      "Average score for Model Z: 0.6397186720108902\n"
     ]
    }
   ],
   "source": [
    "# B\n",
    "# For Model X:\n",
    "df_x_joined['correct'] = df_x_joined['result_clean'] == df_x_joined['answer']\n",
    "avg_score_x = df_x_joined['correct'].mean()\n",
    "\n",
    "# For Model Y:\n",
    "df_y_joined['correct'] = df_y_joined['result_clean'] == df_y_joined['answer']\n",
    "avg_score_y = df_y_joined['correct'].mean()\n",
    "\n",
    "# For Model Z:\n",
    "df_z_joined['correct'] = df_z_joined['result_clean'] == df_z_joined['answer']\n",
    "avg_score_z = df_z_joined['correct'].mean()\n",
    "\n",
    "# Print the average scores for each model\n",
    "print(\"Average score for Model X:\", avg_score_x)\n",
    "print(\"Average score for Model Y:\", avg_score_y)\n",
    "print(\"Average score for Model Z:\", avg_score_z)"
   ]
  },
  {
   "cell_type": "markdown",
   "id": "474d719d",
   "metadata": {},
   "source": [
    "### 1.5 (5 pt)\n",
    "\n",
    "Hmmm, something doesn't seem quite right. Let's investigate how \"balanced\" this dataset is:\n",
    "\n",
    "A. For each of the 57 subjects in the MMLU, compare the number of questions answered by each model. Print the subjects for which there is a more than 10% difference.\n",
    "\n",
    "B. Propose and implement a reasonable way to rebalance the results. (e.g., while throwing away 100% of the results perfectly rebalances the results, it is not reasonable).\n",
    "\n",
    "C. Finally, print the updated accuracy on the rebalanced data.\n",
    "\n",
    "**hint:**:\n",
    "- (A) For a given subject, let model X and model Y have answered 181 and 200 questions respectively. You can consider this a 10% difference from the perspective of X, i.e., (200 - 181) / 181 > 0.10"
   ]
  },
  {
   "cell_type": "code",
   "execution_count": 67,
   "id": "1634b29a",
   "metadata": {},
   "outputs": [
    {
     "name": "stdout",
     "output_type": "stream",
     "text": [
      "Subjects with >10% difference in question counts (subject, count_X, count_Y, count_Z):\n",
      "('college computer science', 99, 98, 87)\n",
      "('formal logic', 112, 124, 116)\n",
      "('logical fallacies', 155, 138, 152)\n",
      "('moral disputes', 336, 312, 260)\n",
      "('moral scenarios', 753, 877, 806)\n"
     ]
    }
   ],
   "source": [
    "#A\n",
    "subjects = df_test_reduced['subject'].unique()\n",
    "\n",
    "# List to store subjects with >10% difference\n",
    "unbalanced_subjects = []\n",
    "\n",
    "for subj in subjects:\n",
    "    cnt_x = df_x_joined[df_x_joined['subject'] == subj].shape[0]\n",
    "    cnt_y = df_y_joined[df_y_joined['subject'] == subj].shape[0]\n",
    "    cnt_z = df_z_joined[df_z_joined['subject'] == subj].shape[0]\n",
    "    \n",
    "    # Determine the minimum and maximum counts across models\n",
    "    min_cnt = min(cnt_x, cnt_y, cnt_z)\n",
    "    max_cnt = max(cnt_x, cnt_y, cnt_z)\n",
    "    \n",
    "    # Check if the difference relative to the minimum is more than 10%\n",
    "    if min_cnt > 0 and (max_cnt - min_cnt) / min_cnt > 0.10:\n",
    "        unbalanced_subjects.append((subj, cnt_x, cnt_y, cnt_z))\n",
    "\n",
    "# Print the subjects that are unbalanced along with the counts\n",
    "print(\"Subjects with >10% difference in question counts (subject, count_X, count_Y, count_Z):\")\n",
    "for entry in unbalanced_subjects:\n",
    "    print(entry)\n"
   ]
  },
  {
   "cell_type": "code",
   "execution_count": 37,
   "id": "a7cc11b7",
   "metadata": {},
   "outputs": [],
   "source": [
    "#B\n",
    "\n",
    "# We can downsample, upsample or calculate accuracy by subjects and aggregate."
   ]
  },
  {
   "cell_type": "code",
   "execution_count": 38,
   "id": "e558c3f8",
   "metadata": {},
   "outputs": [],
   "source": [
    "#C"
   ]
  },
  {
   "cell_type": "markdown",
   "id": "1ae0547c",
   "metadata": {},
   "source": [
    "## Task 2 (26 points): What do you mean A > D > B > C...?\n",
    "\n",
    "Nice work! Having successfully inspected, cleaned, and rebalanced the provided data, you head over to director of the government's FIETS project operating under the code name Geronimo. He is happy with your work so far, but worried that the sloppy intern might have done more undetected damage. To be sure, he orders a new set of evaluations of all models on both MMLU and another dataset.\n",
    "\n",
    "After cleaning up and rebalancing, you are left with the concatenated score files in the second folder `task_2`:\n",
    "```\n",
    "task_2/\n",
    "│\n",
    "└── lm_scores_mmlu.csv\n",
    "│\n",
    "└── lm_scores_other.csv\n",
    "```\n",
    "\n",
    "Each has a new column called `model_name`, which is one of `X, Y` or `Z`.\n",
    "\n",
    "\n",
    "\n",
    "_NOTE: **only** use data from `task_2` and `task_2_5` for this assignment! The values in `lm_scores_mmlu.csv` will NOT be the same as the dataframes you finished in task 1. This is due to \"randomness\" or \"temperature\" in language model inference. This can slightly shift around generative results. (Conveniently: it also ensures any mistakes made in Task 1 don't propogate further ;) )_"
   ]
  },
  {
   "cell_type": "code",
   "execution_count": 39,
   "id": "2067ebe2",
   "metadata": {},
   "outputs": [],
   "source": [
    "# PROVIDED CODE\n",
    "df_mmlu = pd.read_csv('data/task_2/lm_scores_mmlu.csv')\n",
    "df_other = pd.read_csv('data/task_2/lm_scores_other.csv')"
   ]
  },
  {
   "cell_type": "markdown",
   "id": "d97ed869",
   "metadata": {},
   "source": [
    "### 2.1 (4 pt)\n",
    "\n",
    "Let's explore the new results:\n",
    "\n",
    "A. Compute the mean accuracy and standard errors of each model on both datasets and print the results.\n",
    "\n",
    "B. Then, show your results in a bar plot using standard errors with a 95% confidence interval around the mean. Make sure the plot is easy to read and well annotated.\n",
    "\n",
    "C. /Discuss:/ the plot you created: (i) can you say that one of the models is the best? (ii) is there anything that seems odd?"
   ]
  },
  {
   "cell_type": "code",
   "execution_count": 71,
   "id": "b69b5615",
   "metadata": {},
   "outputs": [
    {
     "name": "stdout",
     "output_type": "stream",
     "text": [
      "MMLU Dataset Summary:\n",
      "  model_name  count      mean       std        se\n",
      "0          X  11696  0.743588  0.436671  0.004038\n",
      "1          Y  11696  0.761542  0.426159  0.003941\n",
      "2          Z  11696  0.655951  0.475078  0.004393\n",
      "\n",
      "Other Dataset Summary:\n",
      "  model_name  count      mean       std        se\n",
      "0          X   3759  0.787976  0.408796  0.006668\n",
      "1          Y   3759  0.720936  0.448599  0.007317\n",
      "2          Z   3759  0.671721  0.469649  0.007660\n"
     ]
    }
   ],
   "source": [
    "#A\n",
    "def summarize_accuracy(df):\n",
    "    # Group by model_name and compute count, mean, and standard deviation.\n",
    "    summary = df.groupby('model_name')['correct'].agg(['count', 'mean', 'std']).reset_index()\n",
    "    # Calculate standard error: std / sqrt(n)\n",
    "    summary['se'] = summary['std'] / np.sqrt(summary['count'])\n",
    "    return summary\n",
    "\n",
    "# Compute summaries for both datasets\n",
    "mmlu_summary = summarize_accuracy(df_mmlu)\n",
    "other_summary = summarize_accuracy(df_other)\n",
    "\n",
    "print(\"MMLU Dataset Summary:\")\n",
    "print(mmlu_summary)\n",
    "print(\"\\nOther Dataset Summary:\")\n",
    "print(other_summary)"
   ]
  },
  {
   "cell_type": "code",
   "execution_count": 73,
   "id": "c4a5bffc",
   "metadata": {},
   "outputs": [
    {
     "data": {
      "image/png": "[encoded data removed]",
      "text/plain": [
       "<Figure size 800x600 with 1 Axes>"
      ]
     },
     "metadata": {},
     "output_type": "display_data"
    },
    {
     "data": {
      "image/png": "[encoded data removed]",
      "text/plain": [
       "<Figure size 800x600 with 1 Axes>"
      ]
     },
     "metadata": {},
     "output_type": "display_data"
    }
   ],
   "source": [
    "#B\n",
    "def plot_summary(summary, dataset_name):\n",
    "    # Calculate the 95% confidence interval half-width.\n",
    "    summary['ci'] = 1.96 * summary['se']\n",
    "    \n",
    "    # Set up the bar plot.\n",
    "    fig, ax = plt.subplots(figsize=(8,6))\n",
    "    x = np.arange(len(summary))\n",
    "    \n",
    "    ax.bar(x, summary['mean'], yerr=summary['ci'], capsize=5, \n",
    "           color='skyblue', edgecolor='black')\n",
    "    ax.set_xticks(x)\n",
    "    ax.set_xticklabels(summary['model_name'], fontsize=12)\n",
    "    ax.set_ylabel('Mean Accuracy', fontsize=12)\n",
    "    ax.set_xlabel('Model', fontsize=12)\n",
    "    ax.set_title(f'Mean Accuracy on {dataset_name} Dataset with 95% CI', fontsize=14)\n",
    "    ax.set_ylim(0, 1)\n",
    "    \n",
    "    # Annotate each bar with the mean value.\n",
    "    for i, row in summary.iterrows():\n",
    "        ax.text(x[i], row['mean'] + row['ci'] + 0.02, f\"{row['mean']:.3f}\", \n",
    "                ha='center', fontsize=11)\n",
    "    \n",
    "    plt.tight_layout()\n",
    "    plt.show()\n",
    "\n",
    "# Plot for the MMLU dataset\n",
    "plot_summary(mmlu_summary, \"MMLU\")\n",
    "\n",
    "# Plot for the Other dataset\n",
    "plot_summary(other_summary, \"Other\")"
   ]
  },
  {
   "cell_type": "markdown",
   "id": "1e37e232",
   "metadata": {},
   "source": [
    "The plots reveal that model performance varies between the two datasets. On the MMLU dataset, Model Y has the highest accuracy (76.15%), followed by Model X (74.36%), while Model Z performs significantly lower (65.60%). However, on the Other dataset, Model X leads with an accuracy of 78.80%, then Model Y (72.09%), with Model Z again the lowest (67.17%). Although these differences are not very big, the change in ranking between Models X and Y across datasets suggests that the models performance is depends on teh dataset. Therefore, it cannot be definitively said which model is the best overall."
   ]
  },
  {
   "cell_type": "markdown",
   "id": "5587c824",
   "metadata": {},
   "source": [
    "### 2.2 (5 pt)\n",
    "\n",
    "Geronimo has assured you that both datasets contain questions of similar difficulty, so, what could be going on here?\n",
    "\n",
    "A. What is the distribution of correct answers (A, B, C, D) for each dataset? Create a bar chart to visualize this.\n",
    "\n",
    "B. Perform a chi-square test at $\\alpha = 0.05$, of independence to determine if there's a significant difference in the distribution of correct answers between the two datasets. What do you conclude?\n",
    "\n",
    "**hints**:\n",
    "- for (A), keep in mind that df_mmlu and df_other contain the results of all models, i.e., the `question_id` column is duplicated.\n",
    "- for (A), take care to clearly annotate the bar chart, e.g., title, y-label, legend.\n",
    "- for (B), clearly state the null hypothesis and alternative hypothesis\n",
    "- use the `chi2_contingency` function from `scipy.stats`\n",
    "- format your results from answer (A) as a 2D array"
   ]
  },
  {
   "cell_type": "code",
   "execution_count": 74,
   "id": "74904507",
   "metadata": {},
   "outputs": [
    {
     "name": "stdout",
     "output_type": "stream",
     "text": [
      "MMLU Correct Answer Distribution:\n",
      "answer\n",
      "A    1611\n",
      "B    2943\n",
      "C    3403\n",
      "D    3739\n",
      "Name: count, dtype: int64\n",
      "\n",
      "Other Dataset Correct Answer Distribution:\n",
      "answer\n",
      "A    1078\n",
      "B    1116\n",
      "C     924\n",
      "D     641\n",
      "Name: count, dtype: int64\n"
     ]
    },
    {
     "data": {
      "image/png": "[encoded data removed]",
      "text/plain": [
       "<Figure size 1000x600 with 1 Axes>"
      ]
     },
     "metadata": {},
     "output_type": "display_data"
    }
   ],
   "source": [
    "#A\n",
    "\n",
    "# Drop duplicated questions so that each question appears only once.\n",
    "df_mmlu_unique = df_mmlu.drop_duplicates(subset='question_id')\n",
    "df_other_unique = df_other.drop_duplicates(subset='question_id')\n",
    "\n",
    "# Count the distribution of correct answers using the 'answer' column.\n",
    "counts_mmlu = df_mmlu_unique['answer'].value_counts().sort_index()\n",
    "counts_other = df_other_unique['answer'].value_counts().sort_index()\n",
    "\n",
    "# Print counts\n",
    "print(\"MMLU Correct Answer Distribution:\")\n",
    "print(counts_mmlu)\n",
    "print(\"\\nOther Dataset Correct Answer Distribution:\")\n",
    "print(counts_other)\n",
    "\n",
    "# Create a bar chart to visualize the distribution side-by-side.\n",
    "fig, ax = plt.subplots(figsize=(10, 6))\n",
    "\n",
    "# Define positions for the two sets of bars.\n",
    "x = range(len(counts_mmlu.index))\n",
    "width = 0.35\n",
    "\n",
    "# Create bars for each dataset.\n",
    "bars1 = ax.bar([i - width/2 for i in x], counts_mmlu.values, width, label='MMLU', color='steelblue')\n",
    "bars2 = ax.bar([i + width/2 for i in x], counts_other.values, width, label='Other', color='darkorange')\n",
    "\n",
    "# Set x-axis labels using the correct answer options (A, B, C, D).\n",
    "ax.set_xticks(x)\n",
    "ax.set_xticklabels(counts_mmlu.index, fontsize=12)\n",
    "\n",
    "# Annotate and label the plot.\n",
    "ax.set_title(\"Distribution of Correct Answers (A, B, C, D) for Each Dataset\", fontsize=16)\n",
    "ax.set_xlabel(\"Correct Answer Option\", fontsize=14)\n",
    "ax.set_ylabel(\"Frequency\", fontsize=14)\n",
    "ax.legend(fontsize=12)\n",
    "plt.tight_layout()\n",
    "plt.show()"
   ]
  },
  {
   "cell_type": "code",
   "execution_count": 75,
   "id": "0d79f761",
   "metadata": {},
   "outputs": [
    {
     "name": "stdout",
     "output_type": "stream",
     "text": [
      "2D Array results for A:\n",
      "[[1611 2943 3403 3739]\n",
      " [1078 1116  924  641]]\n"
     ]
    }
   ],
   "source": [
    "# Create 2D array (first row = MMLU, second row = Other)\n",
    "array_2d = np.array([counts_mmlu.values, counts_other.values])\n",
    "print(\"2D Array results for A:\")\n",
    "print(array_2d)"
   ]
  },
  {
   "cell_type": "code",
   "execution_count": 78,
   "id": "0c461f94",
   "metadata": {},
   "outputs": [
    {
     "name": "stdout",
     "output_type": "stream",
     "text": [
      "\n",
      "Chi-Square Test Results:\n",
      "Chi-square statistic: 629.3958675644751\n",
      "Degrees of freedom: 3\n",
      "p-value: 4.270849602795191e-136\n",
      "Expected frequencies:\n",
      "[[2034.97534778 3071.76085409 3274.5772889  3314.68650922]\n",
      " [ 654.02465222  987.23914591 1052.4227111  1065.31349078]]\n"
     ]
    }
   ],
   "source": [
    "#B\n",
    "# Chi-square test of independence\n",
    "# H0: The distribution of correct answers (A, B, C, D) is independent of the dataset (both datasets have the same distribution)\n",
    "# H1: The distribution of correct answers is different between the two datasets\n",
    "chi2, p, dof, expected = chi2_contingency(array_2d)\n",
    "\n",
    "print(\"\\nChi-Square Test Results:\")\n",
    "print(\"Chi-square statistic:\", chi2)\n",
    "print(\"Degrees of freedom:\", dof)\n",
    "print(\"p-value:\", p)\n",
    "print(\"Expected frequencies:\")\n",
    "print(expected)"
   ]
  },
  {
   "cell_type": "markdown",
   "id": "e1a65713",
   "metadata": {},
   "source": [
    "Because the p-value is extremely low (<< 0.05), we reject the null hypothesis. This indicates that the distribution of correct answers (A, B, C, D) is significantly different between the MMLU and Other datasets. This means that despite both datasets have questions of similar difficulty, the correct answer distributions is largly different, which could be contributing to the differences in model performance observed before."
   ]
  },
  {
   "cell_type": "markdown",
   "id": "c50f875f",
   "metadata": {},
   "source": [
    "### 2.3 (7 pt)\n",
    "\n",
    "Let's dive in deeper:\n",
    "\n",
    "A. What is language model X's mean accuracy conditioned on the four answer options for each dataset?\n",
    "\n",
    "B. Compare LM X's performance when the correct answer is \"A\" between the two datasets. Use a T-test with CI = 0.95. What do you conclude?\n",
    "\n",
    "C. Compare LM X's performance when the correct answer is \"A\" vs. \"C or D\" for each dataset. Use a T-test with CI = 0.95. What do you conclude?"
   ]
  },
  {
   "cell_type": "code",
   "execution_count": 79,
   "id": "f2b265e3",
   "metadata": {},
   "outputs": [
    {
     "name": "stdout",
     "output_type": "stream",
     "text": [
      "LM X Mean Accuracy Conditioned on Correct Answer (MMLU):\n",
      "answer\n",
      "A    0.972688\n",
      "B    0.799185\n",
      "C    0.707905\n",
      "D    0.633592\n",
      "Name: correct, dtype: float64\n",
      "\n",
      "LM X Mean Accuracy Conditioned on Correct Answer (Other):\n",
      "answer\n",
      "A    0.974026\n",
      "B    0.806452\n",
      "C    0.676407\n",
      "D    0.603744\n",
      "Name: correct, dtype: float64\n"
     ]
    }
   ],
   "source": [
    "#A\n",
    "# Filter LM X results from datasets\n",
    "df_mmlu_X = df_mmlu[df_mmlu['model_name'] == 'X']\n",
    "df_other_X = df_other[df_other['model_name'] == 'X']\n",
    "\n",
    "# Group by correct answer and compute mean accuracy for LM X\n",
    "mean_accuracy_mmlu = df_mmlu_X.groupby('answer')['correct'].mean()\n",
    "mean_accuracy_other = df_other_X.groupby('answer')['correct'].mean()\n",
    "\n",
    "print(\"LM X Mean Accuracy Conditioned on Correct Answer (MMLU):\")\n",
    "print(mean_accuracy_mmlu)\n",
    "print(\"\\nLM X Mean Accuracy Conditioned on Correct Answer (Other):\")\n",
    "print(mean_accuracy_other)\n"
   ]
  },
  {
   "cell_type": "markdown",
   "id": "a240793e",
   "metadata": {},
   "source": [
    "In both datasets, LM X shows the highest accuracy when the correct answer is A, with performance decreasing progressively from B to D. This indicates that LM X is particularly strong on questions where \"A\" is correct, and its performance degrades when the correct answer is one of the other options."
   ]
  },
  {
   "cell_type": "code",
   "execution_count": 80,
   "id": "1e31fdd8",
   "metadata": {},
   "outputs": [
    {
     "name": "stdout",
     "output_type": "stream",
     "text": [
      "T-test for LM X performance when correct answer is 'A':\n",
      "t-statistic: -0.21161116511164932\n",
      "p-value: 0.8324287723934077\n"
     ]
    }
   ],
   "source": [
    "#B\n",
    "# H0: LM X’s accuracy for questions where the correct answer is \"A\" is the same in both datasets.\n",
    "# H1: The accuracy differs between the datasets.\n",
    "\n",
    "# Extract LM X rows where the correct answer is \"A\"\n",
    "accuracy_A_mmlu = df_mmlu_X[df_mmlu_X['answer'] == 'A']['correct']\n",
    "accuracy_A_other = df_other_X[df_other_X['answer'] == 'A']['correct']\n",
    "\n",
    "# Perform an independent t-test (assuming unequal variances)\n",
    "t_stat_A, p_val_A = ttest_ind(accuracy_A_mmlu, accuracy_A_other, equal_var=False)\n",
    "\n",
    "print(\"T-test for LM X performance when correct answer is 'A':\")\n",
    "print(\"t-statistic:\", t_stat_A)\n",
    "print(\"p-value:\", p_val_A)\n"
   ]
  },
  {
   "cell_type": "markdown",
   "id": "f549857d",
   "metadata": {},
   "source": [
    "Since the p-value is much greater than 0.05, there is no statistically significant difference in LM X's performance on \"A\" questions between the two datasets."
   ]
  },
  {
   "cell_type": "code",
   "execution_count": 81,
   "id": "8f0ecae0",
   "metadata": {},
   "outputs": [
    {
     "name": "stdout",
     "output_type": "stream",
     "text": [
      "T-test for LM X performance on MMLU (A vs. C/D):\n",
      "t-statistic: 44.05883659993774\n",
      "p-value: 0.0\n",
      "\n",
      "T-test for LM X performance on Other (A vs. C/D):\n",
      "t-statistic: 25.13948464328854\n",
      "p-value: 1.1880049447651482e-121\n"
     ]
    }
   ],
   "source": [
    "#C\n",
    "\n",
    "# For the MMLU dataset:\n",
    "accuracy_A_mmlu = df_mmlu_X[df_mmlu_X['answer'] == 'A']['correct']\n",
    "accuracy_CD_mmlu = df_mmlu_X[df_mmlu_X['answer'].isin(['C', 'D'])]['correct']\n",
    "\n",
    "t_stat_mmlu, p_val_mmlu = ttest_ind(accuracy_A_mmlu, accuracy_CD_mmlu, equal_var=False)\n",
    "print(\"T-test for LM X performance on MMLU (A vs. C/D):\")\n",
    "print(\"t-statistic:\", t_stat_mmlu)\n",
    "print(\"p-value:\", p_val_mmlu)\n",
    "\n",
    "# For the Other dataset:\n",
    "accuracy_A_other = df_other_X[df_other_X['answer'] == 'A']['correct']\n",
    "accuracy_CD_other = df_other_X[df_other_X['answer'].isin(['C', 'D'])]['correct']\n",
    "\n",
    "t_stat_other, p_val_other = ttest_ind(accuracy_A_other, accuracy_CD_other, equal_var=False)\n",
    "print(\"\\nT-test for LM X performance on Other (A vs. C/D):\")\n",
    "print(\"t-statistic:\", t_stat_other)\n",
    "print(\"p-value:\", p_val_other)\n"
   ]
  },
  {
   "cell_type": "markdown",
   "id": "db82039d",
   "metadata": {},
   "source": [
    "In both datasets, LM X performs significantly better on questions with the correct answer A than on those with correct answers C or D. The extremely low p-values (well below 0.05) confirm that this difference is statistically significant."
   ]
  },
  {
   "cell_type": "markdown",
   "id": "2e1d7754",
   "metadata": {},
   "source": [
    "### 2.4 (2 pt)\n",
    "\n",
    "What an intriguing finding! \n",
    "\n",
    "A. Print the mean accuracies conditioned on the correct answer for all LMs for each dataset.\n",
    "\n",
    "B. /Discuss:/ What do you observe?"
   ]
  },
  {
   "cell_type": "code",
   "execution_count": 82,
   "id": "77801937",
   "metadata": {},
   "outputs": [
    {
     "name": "stdout",
     "output_type": "stream",
     "text": [
      "Mean Accuracy by Model Conditioned on Correct Answer (MMLU):\n",
      "answer             A         B         C         D\n",
      "model_name                                        \n",
      "X           0.972688  0.799185  0.707905  0.633592\n",
      "Y           0.623836  0.688073  0.733470  0.904252\n",
      "Z           0.643079  0.641182  0.669115  0.661139\n",
      "\n",
      "Mean Accuracy by Model Conditioned on Correct Answer (Other):\n",
      "answer             A         B         C         D\n",
      "model_name                                        \n",
      "X           0.974026  0.806452  0.676407  0.603744\n",
      "Y           0.625232  0.663978  0.762987  0.920437\n",
      "Z           0.680891  0.667563  0.662338  0.677067\n"
     ]
    }
   ],
   "source": [
    "#A\n",
    "# Group the data by model_name and answer, then compute the mean accuracy\n",
    "accuracy_by_model_mmlu = df_mmlu.groupby(['model_name', 'answer'])['correct'].mean().unstack()\n",
    "accuracy_by_model_other = df_other.groupby(['model_name', 'answer'])['correct'].mean().unstack()\n",
    "\n",
    "print(\"Mean Accuracy by Model Conditioned on Correct Answer (MMLU):\")\n",
    "print(accuracy_by_model_mmlu)\n",
    "print(\"\\nMean Accuracy by Model Conditioned on Correct Answer (Other):\")\n",
    "print(accuracy_by_model_other)\n"
   ]
  },
  {
   "cell_type": "markdown",
   "id": "e812af06",
   "metadata": {},
   "source": [
    "B. /Discuss:/\n",
    "\n",
    "Model X:\n",
    "In both datasets, LM X achieves exceptionally high accuracy when the correct answer is A (more than 97%). Its performance then declines for B (around 80%), drops even further for C (around 70% for MMLU and 68% for Other), and is lowest for D (63% for MMLU and 60% for Other). This indicates that LM X is better at handling questions where the correct answer is A, but its accuracy lowers as the correct answer shifts from A to D = this model likes \"A\".\n",
    "\n",
    "Model Y:\n",
    "In contrast to LM X, LM Y exhibits the opposite pattern. Its accuracy is lowest when the correct answer is A (approximately 62–63%), improves for B and C (around 66–73%), and is the best when the correct answer is D (>90%). This suggests that LM Y may have a bias to questions where the correct answer is D, while struggling more with questions where other option is correct.\n",
    "\n",
    "Model Z:\n",
    "Model Z shows a more balanced performance with accuracy between 64% and 68% in both datasets. This indicates that LM Z does not favor any particular answer option as strongly as the other models do and its performance is relatively uniform regardless the correct answer.\n",
    "\n",
    "Overall Observations:\n",
    "The patterns are consistent across both datasets, which shows the findings are reasonable and not due to randomness.\n",
    "The large differences for Models X and Y (e.g., X performing extremely well on A but poorly on D, and Y showing the exact opposite) suggest that the models might be biased or better tuned for certain types of questions or answer formats.\n",
    "Model Z’s even performance across all answer options may indicate a more balanced predictions, but with lower overall accuracy compared to the best-case performance of X and Y."
   ]
  },
  {
   "cell_type": "markdown",
   "id": "31947726",
   "metadata": {},
   "source": [
    "### 2.5 (2 pt)\n",
    "\n",
    "Concerned with your findings so far, you quickly consult with Geronimo. After thinking it over, Geronimo concludes that more tests are needed. He orders a second round of MMLU results. However, Geronimo thinks of the following twist: while keeping questions fixed, he randomly permutes the position of the correct answer. The new results can be found in the folder `data/task_2_5/`:\n",
    "```\n",
    "task_2_5/\n",
    "│\n",
    "└── lm_scores_mmlu_shuffle.csv\n",
    "```\n",
    "\n",
    "/Discuss:/ Why would Geronimo do this?"
   ]
  },
  {
   "cell_type": "markdown",
   "id": "ca1ffc90",
   "metadata": {},
   "source": [
    "B. /Discuss:/\n",
    "\n",
    "This strategy is most likely designed to test whether the language models are influenced by positional biases. In multiple-choice tests, models (and also humans) might develop a bias toward certain answer (favoring cetrain option). This bias could be due to training data structure or simply because of the patterns learned during training (certain option is correct more, eg. common believe that selecting \"C\" yields in better results).\n",
    "\n",
    "By shuffling the correct answer positions, if a model is merely exploiting answer position (for example, consistently choosing the first option), shuffling will disrupt that strategy. A truly robust model should still perform at a similar level when the correct answer is no longer in its typical position. If performance changes significantly after shuffling, it indicates that the model’s previous high performance might have been due to exploiting the fixed positions of correct answers rather than reasoning or understanding of the questions."
   ]
  },
  {
   "cell_type": "markdown",
   "id": "bb158adf",
   "metadata": {},
   "source": [
    "### 2.6 (4 pt)\n",
    "\n",
    "Increasingly sceptical of the language models' performance, you read up on proper testing practices. You stumble upon the concept of [test-rested stability](https://en.wikipedia.org/wiki/Repeatability), which roughtly states that:\n",
    "\n",
    "\"_Measurements taken by a single person or instrument on the same item, under the same conditions, and in a short period of time, should have the same results._\"\n",
    "\n",
    "In our case, we would assume an LM would have the same performance on a given question regardless of the correct answer position. One way of testing this is by using the following metric:\n",
    "\n",
    "$$\\text{test-retest metric} = \\frac{1}{N}\\sum_{i=1}^N \\frac{1}{M}\\sum_{j=1}^M c^i_0 c_j^i,$$\n",
    "\n",
    "where $c^i_0 \\in \\{0, 1\\}$ indicates whether the model answers the $i^{\\text{th}}$ question correctly (1 if correct, 0 if incorrect). $c_j^i$ indicates whether the model answers the $i^{\\text{th}}$ question correctly in the $j^{\\text{th}}$ shuffled version of the answer label content. Finally, $M$ is the total number of shuffles and $N$ is the dataset size.\n",
    "\n",
    "Task: compute the test-retest metric for each language model using the original `lm_scores_mmlu.csv` file and the new `lm_scores_mmlu_shuffle.csv` file. Using a bar plot, visualize your results by comparing the accuracy of the original `lm_scores_mmlu.csv` and the test-retest scores.\n",
    "\n",
    "**hints**\n",
    "- what is $M$ in our case?\n",
    "\n",
    "(bonus: no points, but so much sweet, sweet knowledge - check out [the following article](https://arxiv.org/pdf/2406.19470v1))"
   ]
  },
  {
   "cell_type": "code",
   "execution_count": 83,
   "id": "46ce6153",
   "metadata": {},
   "outputs": [
    {
     "name": "stdout",
     "output_type": "stream",
     "text": [
      "Original Accuracy:\n",
      "model_name\n",
      "X    0.743588\n",
      "Y    0.761542\n",
      "Z    0.655951\n",
      "Name: correct, dtype: float64\n",
      "\n",
      "Test-Retest Metric:\n",
      "model_name\n",
      "X    0.650137\n",
      "Y    0.641501\n",
      "Z    0.561218\n",
      "Name: same, dtype: float64\n"
     ]
    },
    {
     "data": {
      "image/png": "[encoded data removed]",
      "text/plain": [
       "<Figure size 800x600 with 1 Axes>"
      ]
     },
     "metadata": {},
     "output_type": "display_data"
    }
   ],
   "source": [
    "#fancy code\n",
    "# Load original and shuffled results\n",
    "df_original = pd.read_csv('data/task_2/lm_scores_mmlu.csv')\n",
    "df_shuffled = pd.read_csv('data/task_2_5/lm_scores_mmlu_shuffle.csv')\n",
    "\n",
    "# Merge DataFrames on 'question_id' and 'model_name' to align each question's result for each model.\n",
    "# Original results have suffix '_orig' and shuffled results have '_shuf' for distinction.\n",
    "df_merged = pd.merge(df_original, df_shuffled, on=['question_id', 'model_name'], suffixes=('_orig', '_shuf'))\n",
    "\n",
    "# Compute new column that is 1 if the model's result is the same between the original and shuffled version, 0 otherwise.\n",
    "df_merged['same'] = (df_merged['correct_orig'] == df_merged['correct_shuf']).astype(int)\n",
    "\n",
    "# For each model, compute the test-retest metric.\n",
    "# M is the number of shuffles—in our case, we have one shuffled version (M = 1).\n",
    "# The metric is the average, over all N questions, of the indicator that the original and shuffled correctness agree.\n",
    "test_retest = df_merged.groupby('model_name')['same'].mean()\n",
    "\n",
    "# Compute the original accuracy for each model\n",
    "accuracy_orig = df_original.groupby('model_name')['correct'].mean()\n",
    "\n",
    "print(\"Original Accuracy:\")\n",
    "print(accuracy_orig)\n",
    "print(\"\\nTest-Retest Metric:\")\n",
    "print(test_retest)\n",
    "\n",
    "# Create bar plot to compare original accuracy and test-retest metric for each model\n",
    "models = accuracy_orig.index.tolist()       \n",
    "accuracy_values = accuracy_orig.values       \n",
    "test_retest_values = test_retest.values\n",
    "\n",
    "x = np.arange(len(models))\n",
    "width = 0.35\n",
    "\n",
    "fig, ax = plt.subplots(figsize=(8,6))\n",
    "bars1 = ax.bar(x - width/2, accuracy_values, width, label='Original Accuracy', color='skyblue')\n",
    "bars2 = ax.bar(x + width/2, test_retest_values, width, label='Test-Retest Metric', color='salmon')\n",
    "\n",
    "ax.set_xticks(x)\n",
    "ax.set_xticklabels(models, fontsize=12)\n",
    "ax.set_ylabel(\"Score\", fontsize=12)\n",
    "ax.set_xlabel(\"Language Model\", fontsize=12)\n",
    "ax.set_title(\"Comparison of Original Accuracy and Test-Retest Metric\", fontsize=14)\n",
    "ax.legend(fontsize=12)\n",
    "ax.set_ylim(0, 1)\n",
    "plt.tight_layout()\n",
    "plt.show()"
   ]
  },
  {
   "cell_type": "code",
   "execution_count": 84,
   "id": "faa7c414",
   "metadata": {},
   "outputs": [
    {
     "name": "stdout",
     "output_type": "stream",
     "text": [
      "Original Accuracy Summary:\n",
      "  model_name      mean  count        se        ci\n",
      "0          X  0.743588  11696  0.004038  0.007914\n",
      "1          Y  0.761542  11696  0.003940  0.007723\n",
      "2          Z  0.655951  11696  0.004393  0.008610\n",
      "\n",
      "Test-Retest Summary:\n",
      "  model_name      mean  count        se        ci\n",
      "0          X  0.650137  11696  0.004410  0.008643\n",
      "1          Y  0.641501  11696  0.004434  0.008691\n",
      "2          Z  0.561218  11696  0.004589  0.008993\n"
     ]
    },
    {
     "data": {
      "image/png": "[encoded data removed]",
      "text/plain": [
       "<Figure size 800x600 with 1 Axes>"
      ]
     },
     "metadata": {},
     "output_type": "display_data"
    }
   ],
   "source": [
    "# --- Compute summary statistics for Original Accuracy ---\n",
    "acc_summary = df_original.groupby('model_name')['correct'].agg(['mean', 'count']).reset_index()\n",
    "# Compute the standard error for each model: SE = sqrt(p*(1-p)/n)\n",
    "acc_summary['se'] = np.sqrt(acc_summary['mean'] * (1 - acc_summary['mean']) / acc_summary['count'])\n",
    "# Compute the 95% CI half-width: 1.96 * SE\n",
    "acc_summary['ci'] = 1.96 * acc_summary['se']\n",
    "\n",
    "# --- Compute summary statistics for Test-Retest Metric ---\n",
    "tt_summary = df_merged.groupby('model_name')['same'].agg(['mean', 'count']).reset_index()\n",
    "# Compute standard error for the test-retest metric\n",
    "tt_summary['se'] = np.sqrt(tt_summary['mean'] * (1 - tt_summary['mean']) / tt_summary['count'])\n",
    "# Compute the 95% CI half-width\n",
    "tt_summary['ci'] = 1.96 * tt_summary['se']\n",
    "\n",
    "# Print summaries for verification\n",
    "print(\"Original Accuracy Summary:\")\n",
    "print(acc_summary)\n",
    "print(\"\\nTest-Retest Summary:\")\n",
    "print(tt_summary)\n",
    "\n",
    "# --- Create a bar plot to compare the two metrics with error bars ---\n",
    "models = acc_summary['model_name'].tolist()  \n",
    "x = np.arange(len(models))                 \n",
    "width = 0.35                    \n",
    "\n",
    "fig, ax = plt.subplots(figsize=(8, 6))\n",
    "bars1 = ax.bar(x - width/2, acc_summary['mean'], width, \n",
    "               yerr=acc_summary['ci'], capsize=5, \n",
    "               label='Original Accuracy', color='skyblue', edgecolor='black')\n",
    "bars2 = ax.bar(x + width/2, tt_summary['mean'], width, \n",
    "               yerr=tt_summary['ci'], capsize=5, \n",
    "               label='Test-Retest Metric', color='salmon', edgecolor='black')\n",
    "\n",
    "ax.set_xticks(x)\n",
    "ax.set_xticklabels(models, fontsize=12)\n",
    "ax.set_ylabel(\"Score\", fontsize=12)\n",
    "ax.set_xlabel(\"Language Model\", fontsize=12)\n",
    "ax.set_title(\"Comparison of Original Accuracy and Test-Retest Metric\\nwith 95% Confidence Intervals\", fontsize=14)\n",
    "ax.legend(fontsize=12)\n",
    "ax.set_ylim(0, 1)\n",
    "plt.tight_layout()\n",
    "plt.show()"
   ]
  },
  {
   "cell_type": "markdown",
   "id": "62d52d93",
   "metadata": {},
   "source": [
    "### 2.7 (2 pt)\n",
    "\n",
    "A. Using the unshuffled data: For each LM, print the distribution of the answers they give as well as the accuracy conditioned on the answer they give.\n",
    "\n",
    "B. /Discuss:/ Describe what you observe\n",
    "\n",
    "[bonus: not scored, but again _that sweet, sweet knowledge_] Could you think of a plausible explanation?"
   ]
  },
  {
   "cell_type": "code",
   "execution_count": 86,
   "id": "579c30cf",
   "metadata": {},
   "outputs": [
    {
     "name": "stdout",
     "output_type": "stream",
     "text": [
      "Model X - Distribution of Answers Given:\n",
      "result\n",
      "A    4259\n",
      "B    2659\n",
      "C    2409\n",
      "D    2369\n",
      "Name: count, dtype: int64\n",
      "\n",
      "Model X - Accuracy Conditioned on the Answer Given:\n",
      "result\n",
      "A    0.367927\n",
      "B    0.884543\n",
      "C    1.000000\n",
      "D    1.000000\n",
      "Name: correct, dtype: float64\n",
      "\n",
      "--------------------------------------------------\n",
      "\n",
      "Model Y - Distribution of Answers Given:\n",
      "result\n",
      "A    1072\n",
      "B    2256\n",
      "C    3015\n",
      "D    5353\n",
      "Name: count, dtype: int64\n",
      "\n",
      "Model Y - Accuracy Conditioned on the Answer Given:\n",
      "result\n",
      "A    0.937500\n",
      "B    0.897606\n",
      "C    0.827861\n",
      "D    0.631608\n",
      "Name: correct, dtype: float64\n",
      "\n",
      "--------------------------------------------------\n",
      "\n",
      "Model Z - Distribution of Answers Given:\n",
      "result\n",
      "A    2176\n",
      "B    2885\n",
      "C    3237\n",
      "D    3398\n",
      "Name: count, dtype: int64\n",
      "\n",
      "Model Z - Accuracy Conditioned on the Answer Given:\n",
      "result\n",
      "A    0.476103\n",
      "B    0.654073\n",
      "C    0.703429\n",
      "D    0.727487\n",
      "Name: correct, dtype: float64\n",
      "\n",
      "--------------------------------------------------\n",
      "\n"
     ]
    }
   ],
   "source": [
    "#A\n",
    "# Get language models from the dataset\n",
    "models = df_mmlu['model_name'].unique()\n",
    "\n",
    "# Loop over each model and compute statistics.\n",
    "for model in models:\n",
    "    # Filter data for current model.\n",
    "    df_model = df_mmlu[df_mmlu['model_name'] == model]\n",
    "    \n",
    "    # 1. Distribution of the answers they give.\n",
    "    answer_distribution = df_model['result'].value_counts().sort_index()\n",
    "    \n",
    "    # 2. Accuracy conditioned on the answer they give.\n",
    "    cond_accuracy = df_model.groupby('result')['correct'].mean()\n",
    "    \n",
    "    # Print results for the current model.\n",
    "    print(f\"Model {model} - Distribution of Answers Given:\")\n",
    "    print(answer_distribution)\n",
    "    print(f\"\\nModel {model} - Accuracy Conditioned on the Answer Given:\")\n",
    "    print(cond_accuracy)\n",
    "    print(\"\\n\" + \"-\"*50 + \"\\n\")\n"
   ]
  },
  {
   "cell_type": "markdown",
   "id": "e9b4c2e8",
   "metadata": {},
   "source": [
    "B. /Discuss:/"
   ]
  },
  {
   "cell_type": "markdown",
   "id": "2d45a77b",
   "metadata": {},
   "source": [
    "## Task 3 (16 points): What do Questions and Answers look like for a Language Model?\n",
    "\n",
    "While you feel pretty good about the tests you conducted so far, something still bothers you: what if the language models don't see the data like you do? Suddenly, you receive a phone call from a wise AI sage based in Maastricht named Yodata:\n",
    "\n",
    "```\n",
    "\"Hmmm, correct you are, jonge padawan, to question how the wereld is seen by large language models! Simple 'text,' it is not, nee nee nee! Characters and words, the way of gewone humans, this is not, heh heh heh.\n",
    "\n",
    "'Tokens,' they use, ja! Mysterious and powerful, these tokens are. Expand our vocabulary, they do, beyond the simple 'a to Z.' Chunky blocks of text, they become, yes! 'Hello world,' a simple phrase it may seem. But to a language model, '[24912, 2375]' it might appear, hmm? Verwarrend, it is!\n",
    "\n",
    "Wise, it would be, to explore these MMLU data points through the eyes of a language model, you think? Yes, yes! Much to learn, there is. The ways of the tokens, understand you must, if truly comprehend the great LMs, you wish to.\n",
    "\n",
    "Meditate on this, you should. The force of natural language processing, strong it is. But geduld, you must have, my jonge padawan. For only through great study and contemplation, will the mysteries of the tokens reveal themselves to you, they will. Ja, hmmm!\"\n",
    "```\n",
    "\n",
    "Admittingly, Yodata at times speaks in riddles... However, he was explaining a crucial aspect of modern LMs called [Tokenization](https://learn.microsoft.com/en-us/dotnet/ai/conceptual/understanding-tokens):\n",
    "\n",
    "\n",
    "“Tokens are words, character sets, or combinations of words and punctuation that are used by [language models (LMs)] to decompose text into. Tokenization is the first step in training”\n",
    "\n",
    "Instead of characters, LMs process natural language using “tokens”. While this is useful for a number of reasons, it does at times introduce some “unintuitive” behavior…"
   ]
  },
  {
   "cell_type": "code",
   "execution_count": 50,
   "id": "001c4c53",
   "metadata": {},
   "outputs": [
    {
     "name": "stdout",
     "output_type": "stream",
     "text": [
      "humans see: \"hello world\" --> language models see: [24912, 2375]\n"
     ]
    }
   ],
   "source": [
    "# PROVIDED CODE\n",
    "\n",
    "try:\n",
    "    import tiktoken\n",
    "except Exception as e:\n",
    "    print('installing tiktoken package')\n",
    "    \n",
    "    !pip install tiktoken\n",
    "    \n",
    "    import tiktoken\n",
    "\n",
    "def tokenize_text(s):\n",
    "    enc = tiktoken.encoding_for_model('gpt-4o')\n",
    "    tokens = enc.encode(str(s))\n",
    "    return tokens\n",
    "\n",
    "example_string = 'hello world'\n",
    "print(f'humans see: \"{example_string}\" --> language models see: {tokenize_text(example_string)}')"
   ]
  },
  {
   "cell_type": "markdown",
   "id": "0ab56227",
   "metadata": {},
   "source": [
    "### 3.1 (5 pt)\n",
    "\n",
    "Use the provided code in the cell above to \"see the world through the eyes of a language model\":\n",
    "\n",
    "A. Tokenize the questions of the original MMLU data provided in task 1: `task_1/mmlu_data/test.csv` and plot the token distribution (the frequency of each token).\n",
    "\n",
    "B. Same as (A), but now for the answers in columns (columns \"A\", \"B\", \"C\", and \"D\").\n",
    "\n",
    "C. Isolate the tokens for the strings \"A\", \"B\", \"C\", and \"D\", then, for their occurances in both questions and answers, print their relative distribution to each other.\n",
    "\n",
    "**hint**\n",
    "- There are a _lot_ of tokens, consider using a cutoff point and log scale\n",
    "- For (c), they should sum to 1"
   ]
  },
  {
   "cell_type": "code",
   "execution_count": 51,
   "id": "a00f69cf",
   "metadata": {
    "scrolled": true
   },
   "outputs": [],
   "source": [
    "#A"
   ]
  },
  {
   "cell_type": "code",
   "execution_count": 52,
   "id": "7f4ce783",
   "metadata": {},
   "outputs": [],
   "source": [
    "#B"
   ]
  },
  {
   "cell_type": "code",
   "execution_count": 53,
   "id": "8015e92e",
   "metadata": {},
   "outputs": [],
   "source": [
    "#C"
   ]
  },
  {
   "cell_type": "markdown",
   "id": "2a9d0055",
   "metadata": {},
   "source": [
    "### 3.2 (3 pt)\n",
    "\n",
    "What if the number of \"A\", \"B\", \"C\", and \"D\" tokens in the question and answer pairs could influence a language model's decisions?\n",
    "\n",
    "A. For each question-answer pair, compute: \n",
    "1. the number of \"A\", \"B\", \"C\", and \"D\" tokens that occur in the combined question and answers; \n",
    "2. an the total number of tokens.\n",
    "3. then, group by the \"correct\" answer and compute the mean frequency of A, B, C, and D tokens and the total number of tokens. \n",
    "4. finally, print your results\n",
    "\n",
    "B. /Discuss:/ What do you think of the hypothesis that the frequency of A, B, C, and D tokens could influence answers?\n"
   ]
  },
  {
   "cell_type": "code",
   "execution_count": 54,
   "id": "cf09aaf6",
   "metadata": {},
   "outputs": [],
   "source": [
    "#A"
   ]
  },
  {
   "cell_type": "markdown",
   "id": "020511d4",
   "metadata": {},
   "source": [
    "B. /Discuss:/"
   ]
  },
  {
   "cell_type": "markdown",
   "id": "c2b42b74",
   "metadata": {},
   "source": [
    "### 3.3 (4 pt)\n",
    "\n",
    "Three of the most important considerations when deciding between language models are:\n",
    "\n",
    "Quality\n",
    "Costs\n",
    "Speed\n",
    "\n",
    "So far, much of your analysis has focused on quality. However, the government has indicated that they are quite concerned about both the total costs and speed as well. Specifically, it has been brought to their attention that a new `turbo` model has been launched! \n",
    "\n",
    "This model is both cheaper and faster than the models you evaluated so far. However, there is a catch: the context length* is much smaller than that of the other LMS. Namely, it can only process **300** tokens during inference. Meanwhile, the other models can process up to 100K tokens! \n",
    "\n",
    "*_The “context length” refers to the number of tokens that can be given to an LM as input._\n",
    "\n",
    "A. Are there subjects where using the cheaper model might be problematic? I.e., where part of the question and answer(s) might not fit completely in the context?\n",
    "\n",
    "B. /Discuss:/ Can you think of a strategy that would balance the needs of the government?\n",
    "\n",
    "**hint**:\n",
    "- An LM needs to have both the question and the different answer options in its context"
   ]
  },
  {
   "cell_type": "code",
   "execution_count": 55,
   "id": "f365f2b6",
   "metadata": {},
   "outputs": [],
   "source": [
    "#A"
   ]
  },
  {
   "cell_type": "markdown",
   "id": "4231fdc6",
   "metadata": {},
   "source": [
    "B. /Discuss:/"
   ]
  },
  {
   "cell_type": "markdown",
   "id": "44558c5d",
   "metadata": {},
   "source": [
    "### 3.4 (4 pt)\n",
    "\n",
    "/Discuss:/ The time has come to give your final recommendation on the use of LMs in education to the government! Taking into account everything you analyzed in all the preceding tasks (1, 2, and 3), please write a short recommendation consisting of 4 bullet points discussing your concerns."
   ]
  },
  {
   "cell_type": "markdown",
   "id": "61c2e634",
   "metadata": {},
   "source": [
    "B. /Discuss:/\n",
    "\n",
    "1.\n",
    "\n",
    "2.\n",
    "\n",
    "3.\n",
    "\n",
    "4."
   ]
  }
 ],
 "metadata": {
  "kernelspec": {
   "display_name": "cuda_test",
   "language": "python",
   "name": "python3"
  },
  "language_info": {
   "codemirror_mode": {
    "name": "ipython",
    "version": 3
   },
   "file_extension": ".py",
   "mimetype": "text/x-python",
   "name": "python",
   "nbconvert_exporter": "python",
   "pygments_lexer": "ipython3",
   "version": "3.11.9"
  }
 },
 "nbformat": 4,
 "nbformat_minor": 5
}
